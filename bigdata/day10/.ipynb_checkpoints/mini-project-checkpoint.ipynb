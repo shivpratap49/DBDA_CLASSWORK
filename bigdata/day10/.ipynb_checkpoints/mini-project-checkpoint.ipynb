{
 "cells": [
  {
   "cell_type": "code",
   "execution_count": 1,
   "metadata": {},
   "outputs": [
    {
     "name": "stdout",
     "output_type": "stream",
     "text": [
      "mqtt connection successful...\n",
      ".............................................................................................................................................................................................................................................................................................................................................................................................................................................................................................................................................................................................................................................................................................................................................................................................................................................................................................................................................................................................................................................................................................................................................................................................................................................................................................................................................................................................................................................................................................................................................................................................................................................................................................................................................................................................................................................................................................................................................................................................................................................................................................................................................................................................................................................................................................................................................................................................................................................................................................................................................................................................................................................................................................................................................................................................................................................................................................................................................................................................................................................................................................................................................................................................................................................................................................................................................."
     ]
    }
   ],
   "source": [
    "# get data from mqtt and send it to kafka\n",
    "# pip install paho-mqtt\n",
    "\n",
    "import paho.mqtt.client as mqtt\n",
    "import json\n",
    "from datetime import datetime\n",
    "from kafka import KafkaProducer\n",
    "\n",
    "mqtt_client = mqtt.Client()\n",
    "producer = KafkaProducer(bootstrap_servers=[\"localhost:9092\"], value_serializer=lambda x:json.dumps(x).encode(\"utf-8\"))\n",
    "\n",
    "def on_connect(client, userdata, flags, rc):\n",
    "    if(str(rc) == '0'):\n",
    "        print(\"mqtt connection successful...\")\n",
    "        mqtt_client.subscribe(\"sipl/#\")\n",
    "    else:\n",
    "        print(\"mqtt connection failed...\")\n",
    "\n",
    "def on_message(client, userdata, msg):\n",
    "    try:\n",
    "        payload = msg.payload.decode(\"utf-8\")\n",
    "        data = json.loads(payload)\n",
    "        data['topic'] = msg.topic\n",
    "        data['time'] = datetime.now().strftime(\"%Y-%m-%d %H:%M:%S\")\n",
    "        print(\".\", end=\"\")\n",
    "        producer.send(topic=\"iot\", value=data)\n",
    "    except Exception as ex:\n",
    "        print(ex)\n",
    "\n",
    "mqtt_client.on_connect = on_connect\n",
    "mqtt_client.on_message = on_message\n",
    "mqtt_client.connect(host=\"test.mosquitto.org\")\n",
    "mqtt_client.loop_start()"
   ]
  },
  {
   "cell_type": "code",
   "execution_count": 2,
   "metadata": {},
   "outputs": [
    {
     "name": "stderr",
     "output_type": "stream",
     "text": [
      "24/12/26 12:19:01 WARN Utils: Your hostname, nilesh-pc resolves to a loopback address: 127.0.1.1; using 192.168.1.101 instead (on interface wlp0s20f3)\n",
      "24/12/26 12:19:01 WARN Utils: Set SPARK_LOCAL_IP if you need to bind to another address\n",
      "Setting default log level to \"WARN\".\n",
      "To adjust logging level use sc.setLogLevel(newLevel). For SparkR, use setLogLevel(newLevel).\n",
      "24/12/26 12:19:02 WARN NativeCodeLoader: Unable to load native-hadoop library for your platform... using builtin-java classes where applicable\n"
     ]
    }
   ],
   "source": [
    "# create spark session\n",
    "from pyspark.sql import SparkSession\n",
    "from pyspark.sql.functions import *\n",
    "\n",
    "spark = SparkSession.builder\\\n",
    "            .appName(\"miniproject\")\\\n",
    "            .config(\"spark.sql.shuffle.partitions\", \"4\")\\\n",
    "            .getOrCreate()"
   ]
  },
  {
   "cell_type": "code",
   "execution_count": 3,
   "metadata": {},
   "outputs": [
    {
     "name": "stdout",
     "output_type": "stream",
     "text": [
      "root\n",
      " |-- key: binary (nullable = true)\n",
      " |-- value: binary (nullable = true)\n",
      " |-- topic: string (nullable = true)\n",
      " |-- partition: integer (nullable = true)\n",
      " |-- offset: long (nullable = true)\n",
      " |-- timestamp: timestamp (nullable = true)\n",
      " |-- timestampType: integer (nullable = true)\n",
      "\n"
     ]
    }
   ],
   "source": [
    "# read data from kafka into spark appln\n",
    "kafka_pub_topic = \"iot\"\n",
    "data = spark.readStream\\\n",
    "            .format(\"kafka\")\\\n",
    "            .option(\"kafka.bootstrap.servers\", \"localhost:9092\")\\\n",
    "            .option(\"subscribe\", kafka_pub_topic)\\\n",
    "            .option(\"failOnDataLoss\", \"false\")\\\n",
    "            .option(\"startingOffsets\", \"latest\")\\\n",
    "            .load()\n",
    "\n",
    "data.printSchema()"
   ]
  },
  {
   "cell_type": "code",
   "execution_count": 4,
   "metadata": {},
   "outputs": [
    {
     "name": "stdout",
     "output_type": "stream",
     "text": [
      "root\n",
      " |-- topic: string (nullable = true)\n",
      " |-- start: timestamp (nullable = true)\n",
      " |-- end: timestamp (nullable = true)\n",
      " |-- avgreading: double (nullable = true)\n",
      "\n"
     ]
    }
   ],
   "source": [
    "# process the data\n",
    "# schema = \"topic STRING, time TIMESTAMP\"\n",
    "from pyspark.sql.types import *\n",
    "schema = StructType([\n",
    "                StructField('topic', StringType(), True),\n",
    "                StructField('time', TimestampType(), True),\n",
    "                StructField('accelerometerSensor', StructType([StructField('x', StringType(), True), StructField('y', StringType(), True), StructField('z', StringType(), True)]), True),\n",
    "                StructField('compassSensor', StructType([StructField('x', StringType(), True), StructField('y', StringType(), True), StructField('z', StringType(), True)]), True), \n",
    "                StructField('gpsSensor', StructType([StructField('alt', StringType(), True), StructField('lat', StringType(), True), StructField('lon', StringType(), True)]), True), \n",
    "                StructField('gyroscopeSensor', StructType([StructField('x', StringType(), True), StructField('y', StringType(), True), StructField('z', StringType(), True)]), True), \n",
    "                StructField('lightSensor', StructType([StructField('illuminance', StringType(), True)]), True)\n",
    "        ])\n",
    "\n",
    "result = data\\\n",
    "                .select(col(\"value\").cast(\"STRING\"))\\\n",
    "                .select(from_json(\"value\", schema=schema).alias(\"v\"))\\\n",
    "                .withColumn(\"etime\", col(\"v.time\"))\\\n",
    "                .withColumn(\"topic\", col(\"v.topic\"))\\\n",
    "                .withColumn(\"light\", col(\"v.lightSensor.illuminance\").cast(\"DOUBLE\"))\\\n",
    "                .drop(\"v\")\\\n",
    "                .withWatermark(\"etime\", \"30 seconds\")\\\n",
    "                .groupBy(col(\"topic\"), window(\"etime\", windowDuration=\"20 seconds\", slideDuration=\"5 seconds\"))\\\n",
    "                .avg(\"light\")\\\n",
    "                .withColumnRenamed(\"avg(light)\", \"avgreading\")\\\n",
    "                .select(\"topic\", \"window.start\", \"window.end\", \"avgreading\")\n",
    "\n",
    "result.printSchema()\n",
    "                "
   ]
  },
  {
   "cell_type": "code",
   "execution_count": 5,
   "metadata": {},
   "outputs": [
    {
     "name": "stderr",
     "output_type": "stream",
     "text": [
      "24/12/26 12:19:06 WARN ResolveWriteToStream: Temporary checkpoint location created which is deleted normally when the query didn't fail: /tmp/temporary-0b2e065f-9eff-4130-b00f-4be3c1bf2d20. If it's required to delete it under any circumstances, please set spark.sql.streaming.forceDeleteTempCheckpointLocation to true. Important to know deleting temp checkpoint folder is best effort.\n",
      "24/12/26 12:19:06 WARN ResolveWriteToStream: spark.sql.adaptive.enabled is not supported in streaming DataFrames/Datasets and will be disabled.\n"
     ]
    },
    {
     "name": "stderr",
     "output_type": "stream",
     "text": [
      "24/12/26 12:19:07 WARN AdminClientConfig: These configurations '[key.deserializer, value.deserializer, enable.auto.commit, max.poll.records, auto.offset.reset]' were supplied but are not used yet.\n",
      "[Stage 3:>                                                          (0 + 2) / 2]\r"
     ]
    }
   ],
   "source": [
    "query1 = result.orderBy(desc(\"start\")).limit(20)\\\n",
    "            .writeStream\\\n",
    "            .trigger(processingTime=\"10 seconds\")\\\n",
    "            .format(\"memory\")\\\n",
    "            .queryName(\"avgsensor\")\\\n",
    "            .outputMode(\"complete\")\\\n",
    "            .start()"
   ]
  },
  {
   "cell_type": "code",
   "execution_count": 6,
   "metadata": {},
   "outputs": [
    {
     "name": "stderr",
     "output_type": "stream",
     "text": [
      "24/12/26 12:19:13 WARN ResolveWriteToStream: spark.sql.adaptive.enabled is not supported in streaming DataFrames/Datasets and will be disabled.\n"
     ]
    },
    {
     "name": "stderr",
     "output_type": "stream",
     "text": [
      "24/12/26 12:19:13 WARN AdminClientConfig: These configurations '[key.deserializer, value.deserializer, enable.auto.commit, max.poll.records, auto.offset.reset]' were supplied but are not used yet.\n",
      "24/12/26 12:19:14 WARN HDFSBackedStateStoreProvider: The state for version 168 doesn't exist in loadedMaps. Reading snapshot file and delta files if needed...Note that this is normal for the first batch of starting query.\n",
      "24/12/26 12:19:14 WARN HDFSBackedStateStoreProvider: The state for version 168 doesn't exist in loadedMaps. Reading snapshot file and delta files if needed...Note that this is normal for the first batch of starting query.\n",
      "24/12/26 12:19:14 WARN HDFSBackedStateStoreProvider: The state for version 168 doesn't exist in loadedMaps. Reading snapshot file and delta files if needed...Note that this is normal for the first batch of starting query.\n",
      "24/12/26 12:19:14 WARN HDFSBackedStateStoreProvider: The state for version 168 doesn't exist in loadedMaps. Reading snapshot file and delta files if needed...Note that this is normal for the first batch of starting query.\n",
      "                                                                                \r"
     ]
    }
   ],
   "source": [
    "query2 = result.select(struct(\"topic\", \"start\", \"end\", \"avgreading\").alias(\"v\"))\\\n",
    "            .select(to_json(\"v\").alias(\"value\"))\\\n",
    "            .writeStream\\\n",
    "            .trigger(processingTime=\"10 seconds\")\\\n",
    "            .format(\"kafka\")\\\n",
    "            .option(\"kafka.bootstrap.servers\", \"localhost:9092\")\\\n",
    "            .option(\"topic\", \"avgiot\")\\\n",
    "            .option(\"checkpointLocation\", \"file:///tmp/iot-ckpt\")\\\n",
    "            .outputMode(\"append\")\\\n",
    "            .start()"
   ]
  },
  {
   "cell_type": "code",
   "execution_count": 7,
   "metadata": {},
   "outputs": [],
   "source": [
    "%load_ext sparksql_magic"
   ]
  },
  {
   "cell_type": "code",
   "execution_count": 8,
   "metadata": {},
   "outputs": [
    {
     "data": {
      "text/html": [
       "<table><tr style=\"border-bottom: 1px solid\"><td style=\"font-weight: bold\">topic</td><td style=\"font-weight: bold\">start</td><td style=\"font-weight: bold\">end</td><td style=\"font-weight: bold\">avgreading</td></tr><tr><td>sipl/rohan</td><td>2024-12-26 12:19:10</td><td>2024-12-26 12:19:30</td><td>68.0</td></tr><tr><td>sipl/nilesh</td><td>2024-12-26 12:19:10</td><td>2024-12-26 12:19:30</td><td>95.5</td></tr><tr><td>sipl/rohan</td><td>2024-12-26 12:19:05</td><td>2024-12-26 12:19:25</td><td>68.25</td></tr><tr><td>sipl/nilesh</td><td>2024-12-26 12:19:05</td><td>2024-12-26 12:19:25</td><td>95.5</td></tr><tr><td>sipl/rohan</td><td>2024-12-26 12:19:00</td><td>2024-12-26 12:19:20</td><td>68.25</td></tr><tr><td>sipl/nilesh</td><td>2024-12-26 12:19:00</td><td>2024-12-26 12:19:20</td><td>95.5</td></tr><tr><td>sipl/rohan</td><td>2024-12-26 12:18:55</td><td>2024-12-26 12:19:15</td><td>68.25</td></tr><tr><td>sipl/nilesh</td><td>2024-12-26 12:18:55</td><td>2024-12-26 12:19:15</td><td>95.5</td></tr><tr><td>sipl/nilesh</td><td>2024-12-26 12:18:50</td><td>2024-12-26 12:19:10</td><td>95.5</td></tr><tr><td>sipl/rohan</td><td>2024-12-26 12:18:50</td><td>2024-12-26 12:19:10</td><td>68.33333333333333</td></tr></table>"
      ],
      "text/plain": [
       "<IPython.core.display.HTML object>"
      ]
     },
     "execution_count": 8,
     "metadata": {},
     "output_type": "execute_result"
    },
    {
     "name": "stderr",
     "output_type": "stream",
     "text": [
      "                                                                                \r"
     ]
    }
   ],
   "source": [
    "%%sparksql\n",
    "\n",
    "SELECT * FROM avgsensor;"
   ]
  },
  {
   "cell_type": "code",
   "execution_count": 9,
   "metadata": {},
   "outputs": [
    {
     "name": "stderr",
     "output_type": "stream",
     "text": [
      "/home/nilesh/.local/lib/python3.8/site-packages/pyspark/pandas/__init__.py:50: UserWarning: 'PYARROW_IGNORE_TIMEZONE' environment variable was not set. It is required to set this environment variable to '1' in both driver and executor sides if you use pyarrow>=2.0.0. pandas-on-Spark will set it for you but it does not work if there is a Spark context already launched.\n",
      "  warnings.warn(\n"
     ]
    },
    {
     "name": "stdout",
     "output_type": "stream",
     "text": [
      "<class 'pyspark.pandas.frame.DataFrame'>\n"
     ]
    },
    {
     "data": {
      "application/vnd.plotly.v1+json": {
       "config": {
        "plotlyServerURL": "https://plot.ly"
       },
       "data": [
        {
         "hovertemplate": "variable=sipl/nilesh<br>start=%{x}<br>value=%{y}<extra></extra>",
         "legendgroup": "sipl/nilesh",
         "line": {
          "color": "#636efa",
          "dash": "solid"
         },
         "marker": {
          "symbol": "circle"
         },
         "mode": "lines",
         "name": "sipl/nilesh",
         "orientation": "v",
         "showlegend": true,
         "type": "scatter",
         "x": [
          "2024-12-26T12:19:00",
          "2024-12-26T12:19:00",
          "2024-12-26T12:19:05",
          "2024-12-26T12:19:05",
          "2024-12-26T12:19:10",
          "2024-12-26T12:19:10",
          "2024-12-26T12:19:15",
          "2024-12-26T12:19:15",
          "2024-12-26T12:19:20",
          "2024-12-26T12:19:20",
          "2024-12-26T12:19:25",
          "2024-12-26T12:19:25",
          "2024-12-26T12:19:30",
          "2024-12-26T12:19:30",
          "2024-12-26T12:19:35",
          "2024-12-26T12:19:35",
          "2024-12-26T12:19:40",
          "2024-12-26T12:19:40",
          "2024-12-26T12:19:45",
          "2024-12-26T12:19:45"
         ],
         "xaxis": "x",
         "y": [
          95.91666666666667,
          null,
          null,
          96.11764705882354,
          null,
          96,
          null,
          93.75,
          90.6,
          null,
          null,
          83.95,
          null,
          71.7,
          66.6,
          null,
          58.2,
          null,
          null,
          46.4
         ],
         "yaxis": "y"
        },
        {
         "hovertemplate": "variable=sipl/rohan<br>start=%{x}<br>value=%{y}<extra></extra>",
         "legendgroup": "sipl/rohan",
         "line": {
          "color": "#EF553B",
          "dash": "solid"
         },
         "marker": {
          "symbol": "circle"
         },
         "mode": "lines",
         "name": "sipl/rohan",
         "orientation": "v",
         "showlegend": true,
         "type": "scatter",
         "x": [
          "2024-12-26T12:19:00",
          "2024-12-26T12:19:00",
          "2024-12-26T12:19:05",
          "2024-12-26T12:19:05",
          "2024-12-26T12:19:10",
          "2024-12-26T12:19:10",
          "2024-12-26T12:19:15",
          "2024-12-26T12:19:15",
          "2024-12-26T12:19:20",
          "2024-12-26T12:19:20",
          "2024-12-26T12:19:25",
          "2024-12-26T12:19:25",
          "2024-12-26T12:19:30",
          "2024-12-26T12:19:30",
          "2024-12-26T12:19:35",
          "2024-12-26T12:19:35",
          "2024-12-26T12:19:40",
          "2024-12-26T12:19:40",
          "2024-12-26T12:19:45",
          "2024-12-26T12:19:45"
         ],
         "xaxis": "x",
         "y": [
          null,
          68.83333333333333,
          69.16666666666667,
          null,
          69.15,
          null,
          67.8,
          null,
          null,
          66.71428571428571,
          60.95,
          null,
          52.3,
          null,
          null,
          48.53333333333333,
          null,
          40.7,
          34,
          null
         ],
         "yaxis": "y"
        }
       ],
       "layout": {
        "legend": {
         "title": {
          "text": "variable"
         },
         "tracegroupgap": 0
        },
        "margin": {
         "t": 60
        },
        "template": {
         "data": {
          "bar": [
           {
            "error_x": {
             "color": "#2a3f5f"
            },
            "error_y": {
             "color": "#2a3f5f"
            },
            "marker": {
             "line": {
              "color": "#E5ECF6",
              "width": 0.5
             },
             "pattern": {
              "fillmode": "overlay",
              "size": 10,
              "solidity": 0.2
             }
            },
            "type": "bar"
           }
          ],
          "barpolar": [
           {
            "marker": {
             "line": {
              "color": "#E5ECF6",
              "width": 0.5
             },
             "pattern": {
              "fillmode": "overlay",
              "size": 10,
              "solidity": 0.2
             }
            },
            "type": "barpolar"
           }
          ],
          "carpet": [
           {
            "aaxis": {
             "endlinecolor": "#2a3f5f",
             "gridcolor": "white",
             "linecolor": "white",
             "minorgridcolor": "white",
             "startlinecolor": "#2a3f5f"
            },
            "baxis": {
             "endlinecolor": "#2a3f5f",
             "gridcolor": "white",
             "linecolor": "white",
             "minorgridcolor": "white",
             "startlinecolor": "#2a3f5f"
            },
            "type": "carpet"
           }
          ],
          "choropleth": [
           {
            "colorbar": {
             "outlinewidth": 0,
             "ticks": ""
            },
            "type": "choropleth"
           }
          ],
          "contour": [
           {
            "colorbar": {
             "outlinewidth": 0,
             "ticks": ""
            },
            "colorscale": [
             [
              0,
              "#0d0887"
             ],
             [
              0.1111111111111111,
              "#46039f"
             ],
             [
              0.2222222222222222,
              "#7201a8"
             ],
             [
              0.3333333333333333,
              "#9c179e"
             ],
             [
              0.4444444444444444,
              "#bd3786"
             ],
             [
              0.5555555555555556,
              "#d8576b"
             ],
             [
              0.6666666666666666,
              "#ed7953"
             ],
             [
              0.7777777777777778,
              "#fb9f3a"
             ],
             [
              0.8888888888888888,
              "#fdca26"
             ],
             [
              1,
              "#f0f921"
             ]
            ],
            "type": "contour"
           }
          ],
          "contourcarpet": [
           {
            "colorbar": {
             "outlinewidth": 0,
             "ticks": ""
            },
            "type": "contourcarpet"
           }
          ],
          "heatmap": [
           {
            "colorbar": {
             "outlinewidth": 0,
             "ticks": ""
            },
            "colorscale": [
             [
              0,
              "#0d0887"
             ],
             [
              0.1111111111111111,
              "#46039f"
             ],
             [
              0.2222222222222222,
              "#7201a8"
             ],
             [
              0.3333333333333333,
              "#9c179e"
             ],
             [
              0.4444444444444444,
              "#bd3786"
             ],
             [
              0.5555555555555556,
              "#d8576b"
             ],
             [
              0.6666666666666666,
              "#ed7953"
             ],
             [
              0.7777777777777778,
              "#fb9f3a"
             ],
             [
              0.8888888888888888,
              "#fdca26"
             ],
             [
              1,
              "#f0f921"
             ]
            ],
            "type": "heatmap"
           }
          ],
          "heatmapgl": [
           {
            "colorbar": {
             "outlinewidth": 0,
             "ticks": ""
            },
            "colorscale": [
             [
              0,
              "#0d0887"
             ],
             [
              0.1111111111111111,
              "#46039f"
             ],
             [
              0.2222222222222222,
              "#7201a8"
             ],
             [
              0.3333333333333333,
              "#9c179e"
             ],
             [
              0.4444444444444444,
              "#bd3786"
             ],
             [
              0.5555555555555556,
              "#d8576b"
             ],
             [
              0.6666666666666666,
              "#ed7953"
             ],
             [
              0.7777777777777778,
              "#fb9f3a"
             ],
             [
              0.8888888888888888,
              "#fdca26"
             ],
             [
              1,
              "#f0f921"
             ]
            ],
            "type": "heatmapgl"
           }
          ],
          "histogram": [
           {
            "marker": {
             "pattern": {
              "fillmode": "overlay",
              "size": 10,
              "solidity": 0.2
             }
            },
            "type": "histogram"
           }
          ],
          "histogram2d": [
           {
            "colorbar": {
             "outlinewidth": 0,
             "ticks": ""
            },
            "colorscale": [
             [
              0,
              "#0d0887"
             ],
             [
              0.1111111111111111,
              "#46039f"
             ],
             [
              0.2222222222222222,
              "#7201a8"
             ],
             [
              0.3333333333333333,
              "#9c179e"
             ],
             [
              0.4444444444444444,
              "#bd3786"
             ],
             [
              0.5555555555555556,
              "#d8576b"
             ],
             [
              0.6666666666666666,
              "#ed7953"
             ],
             [
              0.7777777777777778,
              "#fb9f3a"
             ],
             [
              0.8888888888888888,
              "#fdca26"
             ],
             [
              1,
              "#f0f921"
             ]
            ],
            "type": "histogram2d"
           }
          ],
          "histogram2dcontour": [
           {
            "colorbar": {
             "outlinewidth": 0,
             "ticks": ""
            },
            "colorscale": [
             [
              0,
              "#0d0887"
             ],
             [
              0.1111111111111111,
              "#46039f"
             ],
             [
              0.2222222222222222,
              "#7201a8"
             ],
             [
              0.3333333333333333,
              "#9c179e"
             ],
             [
              0.4444444444444444,
              "#bd3786"
             ],
             [
              0.5555555555555556,
              "#d8576b"
             ],
             [
              0.6666666666666666,
              "#ed7953"
             ],
             [
              0.7777777777777778,
              "#fb9f3a"
             ],
             [
              0.8888888888888888,
              "#fdca26"
             ],
             [
              1,
              "#f0f921"
             ]
            ],
            "type": "histogram2dcontour"
           }
          ],
          "mesh3d": [
           {
            "colorbar": {
             "outlinewidth": 0,
             "ticks": ""
            },
            "type": "mesh3d"
           }
          ],
          "parcoords": [
           {
            "line": {
             "colorbar": {
              "outlinewidth": 0,
              "ticks": ""
             }
            },
            "type": "parcoords"
           }
          ],
          "pie": [
           {
            "automargin": true,
            "type": "pie"
           }
          ],
          "scatter": [
           {
            "fillpattern": {
             "fillmode": "overlay",
             "size": 10,
             "solidity": 0.2
            },
            "type": "scatter"
           }
          ],
          "scatter3d": [
           {
            "line": {
             "colorbar": {
              "outlinewidth": 0,
              "ticks": ""
             }
            },
            "marker": {
             "colorbar": {
              "outlinewidth": 0,
              "ticks": ""
             }
            },
            "type": "scatter3d"
           }
          ],
          "scattercarpet": [
           {
            "marker": {
             "colorbar": {
              "outlinewidth": 0,
              "ticks": ""
             }
            },
            "type": "scattercarpet"
           }
          ],
          "scattergeo": [
           {
            "marker": {
             "colorbar": {
              "outlinewidth": 0,
              "ticks": ""
             }
            },
            "type": "scattergeo"
           }
          ],
          "scattergl": [
           {
            "marker": {
             "colorbar": {
              "outlinewidth": 0,
              "ticks": ""
             }
            },
            "type": "scattergl"
           }
          ],
          "scattermapbox": [
           {
            "marker": {
             "colorbar": {
              "outlinewidth": 0,
              "ticks": ""
             }
            },
            "type": "scattermapbox"
           }
          ],
          "scatterpolar": [
           {
            "marker": {
             "colorbar": {
              "outlinewidth": 0,
              "ticks": ""
             }
            },
            "type": "scatterpolar"
           }
          ],
          "scatterpolargl": [
           {
            "marker": {
             "colorbar": {
              "outlinewidth": 0,
              "ticks": ""
             }
            },
            "type": "scatterpolargl"
           }
          ],
          "scatterternary": [
           {
            "marker": {
             "colorbar": {
              "outlinewidth": 0,
              "ticks": ""
             }
            },
            "type": "scatterternary"
           }
          ],
          "surface": [
           {
            "colorbar": {
             "outlinewidth": 0,
             "ticks": ""
            },
            "colorscale": [
             [
              0,
              "#0d0887"
             ],
             [
              0.1111111111111111,
              "#46039f"
             ],
             [
              0.2222222222222222,
              "#7201a8"
             ],
             [
              0.3333333333333333,
              "#9c179e"
             ],
             [
              0.4444444444444444,
              "#bd3786"
             ],
             [
              0.5555555555555556,
              "#d8576b"
             ],
             [
              0.6666666666666666,
              "#ed7953"
             ],
             [
              0.7777777777777778,
              "#fb9f3a"
             ],
             [
              0.8888888888888888,
              "#fdca26"
             ],
             [
              1,
              "#f0f921"
             ]
            ],
            "type": "surface"
           }
          ],
          "table": [
           {
            "cells": {
             "fill": {
              "color": "#EBF0F8"
             },
             "line": {
              "color": "white"
             }
            },
            "header": {
             "fill": {
              "color": "#C8D4E3"
             },
             "line": {
              "color": "white"
             }
            },
            "type": "table"
           }
          ]
         },
         "layout": {
          "annotationdefaults": {
           "arrowcolor": "#2a3f5f",
           "arrowhead": 0,
           "arrowwidth": 1
          },
          "autotypenumbers": "strict",
          "coloraxis": {
           "colorbar": {
            "outlinewidth": 0,
            "ticks": ""
           }
          },
          "colorscale": {
           "diverging": [
            [
             0,
             "#8e0152"
            ],
            [
             0.1,
             "#c51b7d"
            ],
            [
             0.2,
             "#de77ae"
            ],
            [
             0.3,
             "#f1b6da"
            ],
            [
             0.4,
             "#fde0ef"
            ],
            [
             0.5,
             "#f7f7f7"
            ],
            [
             0.6,
             "#e6f5d0"
            ],
            [
             0.7,
             "#b8e186"
            ],
            [
             0.8,
             "#7fbc41"
            ],
            [
             0.9,
             "#4d9221"
            ],
            [
             1,
             "#276419"
            ]
           ],
           "sequential": [
            [
             0,
             "#0d0887"
            ],
            [
             0.1111111111111111,
             "#46039f"
            ],
            [
             0.2222222222222222,
             "#7201a8"
            ],
            [
             0.3333333333333333,
             "#9c179e"
            ],
            [
             0.4444444444444444,
             "#bd3786"
            ],
            [
             0.5555555555555556,
             "#d8576b"
            ],
            [
             0.6666666666666666,
             "#ed7953"
            ],
            [
             0.7777777777777778,
             "#fb9f3a"
            ],
            [
             0.8888888888888888,
             "#fdca26"
            ],
            [
             1,
             "#f0f921"
            ]
           ],
           "sequentialminus": [
            [
             0,
             "#0d0887"
            ],
            [
             0.1111111111111111,
             "#46039f"
            ],
            [
             0.2222222222222222,
             "#7201a8"
            ],
            [
             0.3333333333333333,
             "#9c179e"
            ],
            [
             0.4444444444444444,
             "#bd3786"
            ],
            [
             0.5555555555555556,
             "#d8576b"
            ],
            [
             0.6666666666666666,
             "#ed7953"
            ],
            [
             0.7777777777777778,
             "#fb9f3a"
            ],
            [
             0.8888888888888888,
             "#fdca26"
            ],
            [
             1,
             "#f0f921"
            ]
           ]
          },
          "colorway": [
           "#636efa",
           "#EF553B",
           "#00cc96",
           "#ab63fa",
           "#FFA15A",
           "#19d3f3",
           "#FF6692",
           "#B6E880",
           "#FF97FF",
           "#FECB52"
          ],
          "font": {
           "color": "#2a3f5f"
          },
          "geo": {
           "bgcolor": "white",
           "lakecolor": "white",
           "landcolor": "#E5ECF6",
           "showlakes": true,
           "showland": true,
           "subunitcolor": "white"
          },
          "hoverlabel": {
           "align": "left"
          },
          "hovermode": "closest",
          "mapbox": {
           "style": "light"
          },
          "paper_bgcolor": "white",
          "plot_bgcolor": "#E5ECF6",
          "polar": {
           "angularaxis": {
            "gridcolor": "white",
            "linecolor": "white",
            "ticks": ""
           },
           "bgcolor": "#E5ECF6",
           "radialaxis": {
            "gridcolor": "white",
            "linecolor": "white",
            "ticks": ""
           }
          },
          "scene": {
           "xaxis": {
            "backgroundcolor": "#E5ECF6",
            "gridcolor": "white",
            "gridwidth": 2,
            "linecolor": "white",
            "showbackground": true,
            "ticks": "",
            "zerolinecolor": "white"
           },
           "yaxis": {
            "backgroundcolor": "#E5ECF6",
            "gridcolor": "white",
            "gridwidth": 2,
            "linecolor": "white",
            "showbackground": true,
            "ticks": "",
            "zerolinecolor": "white"
           },
           "zaxis": {
            "backgroundcolor": "#E5ECF6",
            "gridcolor": "white",
            "gridwidth": 2,
            "linecolor": "white",
            "showbackground": true,
            "ticks": "",
            "zerolinecolor": "white"
           }
          },
          "shapedefaults": {
           "line": {
            "color": "#2a3f5f"
           }
          },
          "ternary": {
           "aaxis": {
            "gridcolor": "white",
            "linecolor": "white",
            "ticks": ""
           },
           "baxis": {
            "gridcolor": "white",
            "linecolor": "white",
            "ticks": ""
           },
           "bgcolor": "#E5ECF6",
           "caxis": {
            "gridcolor": "white",
            "linecolor": "white",
            "ticks": ""
           }
          },
          "title": {
           "x": 0.05
          },
          "xaxis": {
           "automargin": true,
           "gridcolor": "white",
           "linecolor": "white",
           "ticks": "",
           "title": {
            "standoff": 15
           },
           "zerolinecolor": "white",
           "zerolinewidth": 2
          },
          "yaxis": {
           "automargin": true,
           "gridcolor": "white",
           "linecolor": "white",
           "ticks": "",
           "title": {
            "standoff": 15
           },
           "zerolinecolor": "white",
           "zerolinewidth": 2
          }
         }
        },
        "xaxis": {
         "anchor": "y",
         "domain": [
          0,
          1
         ],
         "title": {
          "text": "start"
         }
        },
        "yaxis": {
         "anchor": "x",
         "domain": [
          0,
          1
         ],
         "title": {
          "text": "value"
         }
        }
       }
      }
     },
     "metadata": {},
     "output_type": "display_data"
    },
    {
     "name": "stderr",
     "output_type": "stream",
     "text": [
      "                                                                                \r"
     ]
    }
   ],
   "source": [
    "# plot spark dataframe\n",
    "import pyspark.pandas as ps\n",
    "\n",
    "df = spark.sql(\"SELECT * FROM avgsensor\")\\\n",
    "        .groupBy(\"topic\", \"start\").pivot(\"topic\").avg(\"avgreading\")\\\n",
    "        .orderBy(\"start\")\\\n",
    "        .drop(\"topic\", \"end\")\n",
    "\n",
    "# df.printSchema()\n",
    "\n",
    "pdf = ps.DataFrame(df).set_index(\"start\")\n",
    "print(type(pdf))\n",
    "pdf.plot.line()"
   ]
  },
  {
   "cell_type": "code",
   "execution_count": null,
   "metadata": {},
   "outputs": [],
   "source": [
    "# wait for query execution (not needed in notebook)\n",
    "spark.streams.awaitAnyTermination()"
   ]
  },
  {
   "cell_type": "code",
   "execution_count": null,
   "metadata": {},
   "outputs": [],
   "source": [
    "# to stop mqtt client\n",
    "mqtt_client.loop_stop()"
   ]
  },
  {
   "cell_type": "code",
   "execution_count": 21,
   "metadata": {},
   "outputs": [],
   "source": [
    "# stop kakfa producer\n",
    "producer.close()"
   ]
  },
  {
   "cell_type": "code",
   "execution_count": 22,
   "metadata": {},
   "outputs": [],
   "source": [
    "# to destroy spark session\n",
    "spark.stop()"
   ]
  }
 ],
 "metadata": {
  "kernelspec": {
   "display_name": "Python 3",
   "language": "python",
   "name": "python3"
  },
  "language_info": {
   "codemirror_mode": {
    "name": "ipython",
    "version": 3
   },
   "file_extension": ".py",
   "mimetype": "text/x-python",
   "name": "python",
   "nbconvert_exporter": "python",
   "pygments_lexer": "ipython3",
   "version": "3.8.10"
  }
 },
 "nbformat": 4,
 "nbformat_minor": 2
}
