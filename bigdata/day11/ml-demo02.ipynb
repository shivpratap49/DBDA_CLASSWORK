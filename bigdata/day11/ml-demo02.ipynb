{
 "cells": [
  {
   "cell_type": "code",
   "execution_count": 1,
   "metadata": {},
   "outputs": [],
   "source": [
    "from pyspark.sql import SparkSession\n",
    "from pyspark.sql.functions import *\n",
    "from pyspark.ml.feature import StringIndexer, VectorAssembler\n",
    "from pyspark.ml.classification import LogisticRegression\n",
    "from pyspark.ml.evaluation import BinaryClassificationEvaluator\n",
    "from pyspark.ml.pipeline import Pipeline\n"
   ]
  },
  {
   "cell_type": "code",
   "execution_count": 2,
   "metadata": {},
   "outputs": [
    {
     "name": "stderr",
     "output_type": "stream",
     "text": [
      "24/12/27 10:49:37 WARN Utils: Your hostname, nilesh-pc resolves to a loopback address: 127.0.1.1; using 192.168.1.101 instead (on interface wlp0s20f3)\n",
      "24/12/27 10:49:37 WARN Utils: Set SPARK_LOCAL_IP if you need to bind to another address\n",
      "Setting default log level to \"WARN\".\n",
      "To adjust logging level use sc.setLogLevel(newLevel). For SparkR, use setLogLevel(newLevel).\n",
      "24/12/27 10:49:37 WARN NativeCodeLoader: Unable to load native-hadoop library for your platform... using builtin-java classes where applicable\n"
     ]
    }
   ],
   "source": [
    "spark = SparkSession.builder\\\n",
    "        .appName(\"demo02\")\\\n",
    "        .getOrCreate()"
   ]
  },
  {
   "cell_type": "code",
   "execution_count": 3,
   "metadata": {},
   "outputs": [
    {
     "name": "stdout",
     "output_type": "stream",
     "text": [
      "root\n",
      " |-- CustID: integer (nullable = true)\n",
      " |-- Gender: string (nullable = true)\n",
      " |-- Age: integer (nullable = true)\n",
      " |-- Salary: integer (nullable = true)\n",
      " |-- Purchased: integer (nullable = true)\n",
      "\n"
     ]
    }
   ],
   "source": [
    "data = spark.read\\\n",
    "        .option(\"inferSchema\", \"true\")\\\n",
    "        .option(\"header\", \"true\")\\\n",
    "        .csv(\"file:///home/nilesh/dbda-aug24/BigData/day11/customers.csv\")\n",
    "\n",
    "data.printSchema()"
   ]
  },
  {
   "cell_type": "code",
   "execution_count": 4,
   "metadata": {},
   "outputs": [
    {
     "name": "stdout",
     "output_type": "stream",
     "text": [
      "+--------+------+---+------+-----+\n",
      "|CustID  |Gender|Age|Salary|label|\n",
      "+--------+------+---+------+-----+\n",
      "|15624510|Male  |19 |19000 |0    |\n",
      "|15810944|Male  |35 |20000 |0    |\n",
      "|15668575|Female|26 |43000 |0    |\n",
      "+--------+------+---+------+-----+\n",
      "only showing top 3 rows\n",
      "\n"
     ]
    }
   ],
   "source": [
    "in_data = data.withColumnRenamed(\"Purchased\", \"label\")\n",
    "in_data.show(truncate=False, n=3)"
   ]
  },
  {
   "cell_type": "code",
   "execution_count": 5,
   "metadata": {},
   "outputs": [],
   "source": [
    "genderIndexer = StringIndexer()\\\n",
    "                    .setInputCol(\"Gender\")\\\n",
    "                    .setOutputCol(\"GenderIndexed\")"
   ]
  },
  {
   "cell_type": "code",
   "execution_count": 6,
   "metadata": {},
   "outputs": [],
   "source": [
    "vectAssembler = VectorAssembler()\\\n",
    "                    .setInputCols([\"Age\", \"Salary\", \"GenderIndexed\"])\\\n",
    "                    .setOutputCol(\"features\")"
   ]
  },
  {
   "cell_type": "code",
   "execution_count": 8,
   "metadata": {},
   "outputs": [],
   "source": [
    "logisticModel = LogisticRegression()\\\n",
    "            .setFeaturesCol(\"features\")\\\n",
    "            .setLabelCol(\"label\")"
   ]
  },
  {
   "cell_type": "code",
   "execution_count": 10,
   "metadata": {},
   "outputs": [
    {
     "name": "stdout",
     "output_type": "stream",
     "text": [
      "Pipeline_7f58b7d7197b\n"
     ]
    }
   ],
   "source": [
    "pipeline = Pipeline(stages=[genderIndexer, vectAssembler, logisticModel])\n",
    "print(pipeline)"
   ]
  },
  {
   "cell_type": "code",
   "execution_count": 11,
   "metadata": {},
   "outputs": [],
   "source": [
    "train_df, test_df = in_data.randomSplit(weights=[0.8, 0.2], seed=2809)"
   ]
  },
  {
   "cell_type": "code",
   "execution_count": 12,
   "metadata": {},
   "outputs": [
    {
     "name": "stderr",
     "output_type": "stream",
     "text": [
      "24/12/27 10:58:23 WARN InstanceBuilder: Failed to load implementation from:dev.ludovic.netlib.blas.JNIBLAS\n"
     ]
    },
    {
     "name": "stdout",
     "output_type": "stream",
     "text": [
      "root\n",
      " |-- CustID: integer (nullable = true)\n",
      " |-- Gender: string (nullable = true)\n",
      " |-- Age: integer (nullable = true)\n",
      " |-- Salary: integer (nullable = true)\n",
      " |-- label: integer (nullable = true)\n",
      " |-- GenderIndexed: double (nullable = false)\n",
      " |-- features: vector (nullable = true)\n",
      " |-- rawPrediction: vector (nullable = true)\n",
      " |-- probability: vector (nullable = true)\n",
      " |-- prediction: double (nullable = false)\n",
      "\n",
      "+--------+------+---+------+-----+-------------+------------------+----------------------------------------+-----------------------------------------+----------+\n",
      "|CustID  |Gender|Age|Salary|label|GenderIndexed|features          |rawPrediction                           |probability                              |prediction|\n",
      "+--------+------+---+------+-----+-------------+------------------+----------------------------------------+-----------------------------------------+----------+\n",
      "|15571059|Female|33 |41000 |0    |0.0          |[33.0,41000.0,0.0]|[3.365546577267626,-3.365546577267626]  |[0.9666102558220372,0.03338974417796281] |0.0       |\n",
      "|15574305|Male  |35 |53000 |0    |1.0          |[35.0,53000.0,1.0]|[2.0890311520230114,-2.0890311520230114]|[0.8898324847217134,0.11016751527828661] |0.0       |\n",
      "|15578738|Female|18 |86000 |0    |0.0          |[18.0,86000.0,0.0]|[5.080236137355075,-5.080236137355075]  |[0.9938199895901516,0.006180010409848391]|0.0       |\n",
      "+--------+------+---+------+-----+-------------+------------------+----------------------------------------+-----------------------------------------+----------+\n",
      "only showing top 3 rows\n",
      "\n"
     ]
    }
   ],
   "source": [
    "model = pipeline.fit(train_df)\n",
    "predictions = model.transform(test_df)\n",
    "\n",
    "predictions.printSchema()\n",
    "predictions.show(n=3, truncate=False)"
   ]
  },
  {
   "cell_type": "code",
   "execution_count": 13,
   "metadata": {},
   "outputs": [
    {
     "name": "stdout",
     "output_type": "stream",
     "text": [
      "Model Accuracy: 0.9309090909090909\n"
     ]
    }
   ],
   "source": [
    "accuracy = BinaryClassificationEvaluator()\\\n",
    "                .evaluate(predictions)\n",
    "print(f\"Model Accuracy: {accuracy}\")"
   ]
  },
  {
   "cell_type": "code",
   "execution_count": 14,
   "metadata": {},
   "outputs": [
    {
     "name": "stderr",
     "output_type": "stream",
     "text": [
      "                                                                                \r"
     ]
    },
    {
     "name": "stdout",
     "output_type": "stream",
     "text": [
      "Model is saved...\n"
     ]
    }
   ],
   "source": [
    "model.save(\"file:///tmp/model2\")\n",
    "print(\"Model is saved...\")"
   ]
  },
  {
   "cell_type": "code",
   "execution_count": null,
   "metadata": {},
   "outputs": [],
   "source": [
    "# see coeficients of model -- load model saved parquet file and display it\n",
    "modelPath = \"file:///tmp/model1/data\"\n",
    "df = spark.read.parquet(modelPath)\n",
    "\n",
    "df.show(truncate=False)"
   ]
  },
  {
   "cell_type": "code",
   "execution_count": null,
   "metadata": {},
   "outputs": [],
   "source": []
  }
 ],
 "metadata": {
  "kernelspec": {
   "display_name": "Python 3",
   "language": "python",
   "name": "python3"
  },
  "language_info": {
   "codemirror_mode": {
    "name": "ipython",
    "version": 3
   },
   "file_extension": ".py",
   "mimetype": "text/x-python",
   "name": "python",
   "nbconvert_exporter": "python",
   "pygments_lexer": "ipython3",
   "version": "3.8.10"
  }
 },
 "nbformat": 4,
 "nbformat_minor": 2
}
