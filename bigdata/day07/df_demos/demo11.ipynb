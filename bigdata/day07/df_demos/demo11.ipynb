{
 "cells": [
  {
   "cell_type": "markdown",
   "metadata": {},
   "source": [
    "### Number of movies per genre\n",
    "1. Load raw movie dataset\n",
    "2. Create \"raw_movies\" view\n",
    "3. Execute SQL query on view"
   ]
  },
  {
   "cell_type": "code",
   "execution_count": 1,
   "metadata": {},
   "outputs": [
    {
     "name": "stderr",
     "output_type": "stream",
     "text": [
      "24/12/23 13:03:54 WARN Utils: Your hostname, nilesh-pc resolves to a loopback address: 127.0.1.1; using 192.168.1.102 instead (on interface wlp0s20f3)\n",
      "24/12/23 13:03:54 WARN Utils: Set SPARK_LOCAL_IP if you need to bind to another address\n",
      "Setting default log level to \"WARN\".\n",
      "To adjust logging level use sc.setLogLevel(newLevel). For SparkR, use setLogLevel(newLevel).\n",
      "24/12/23 13:03:55 WARN NativeCodeLoader: Unable to load native-hadoop library for your platform... using builtin-java classes where applicable\n"
     ]
    }
   ],
   "source": [
    "from pyspark.sql import SparkSession\n",
    "from pyspark.sql.functions import *\n",
    "\n",
    "# create spark session\n",
    "spark = SparkSession.builder\\\n",
    "            .appName(\"demo10\")\\\n",
    "            .config(\"spark.sql.shuffle.partitions\", \"2\")\\\n",
    "            .getOrCreate()\n"
   ]
  },
  {
   "cell_type": "code",
   "execution_count": 2,
   "metadata": {},
   "outputs": [],
   "source": [
    "rawMovies = spark.read\\\n",
    "            .option(\"header\", True)\\\n",
    "            .option(\"inferSchema\", True)\\\n",
    "            .csv(\"/home/nilesh/dbda-aug24/BigData/private/movies/movies.csv\")\n",
    "\n",
    "rawMovies.createOrReplaceTempView(\"raw_movies\")\n"
   ]
  },
  {
   "cell_type": "code",
   "execution_count": 10,
   "metadata": {},
   "outputs": [
    {
     "name": "stdout",
     "output_type": "stream",
     "text": [
      "Requirement already satisfied: sparksql-magic in /home/nilesh/.local/lib/python3.8/site-packages (0.0.3)\n",
      "Requirement already satisfied: pyspark>=2.3.0 in /home/nilesh/.local/lib/python3.8/site-packages (from sparksql-magic) (3.5.4)\n",
      "Requirement already satisfied: ipython>=7.4.0 in /home/nilesh/.local/lib/python3.8/site-packages (from sparksql-magic) (8.12.3)\n",
      "Requirement already satisfied: py4j==0.10.9.7 in /home/nilesh/.local/lib/python3.8/site-packages (from pyspark>=2.3.0->sparksql-magic) (0.10.9.7)\n",
      "Requirement already satisfied: decorator in /home/nilesh/.local/lib/python3.8/site-packages (from ipython>=7.4.0->sparksql-magic) (5.1.1)\n",
      "Requirement already satisfied: backcall in /home/nilesh/.local/lib/python3.8/site-packages (from ipython>=7.4.0->sparksql-magic) (0.2.0)\n",
      "Requirement already satisfied: jedi>=0.16 in /home/nilesh/.local/lib/python3.8/site-packages (from ipython>=7.4.0->sparksql-magic) (0.19.2)\n",
      "Requirement already satisfied: stack-data in /home/nilesh/.local/lib/python3.8/site-packages (from ipython>=7.4.0->sparksql-magic) (0.6.3)\n",
      "Requirement already satisfied: typing-extensions; python_version < \"3.10\" in /home/nilesh/.local/lib/python3.8/site-packages (from ipython>=7.4.0->sparksql-magic) (4.5.0)\n",
      "Requirement already satisfied: pexpect>4.3; sys_platform != \"win32\" in /usr/lib/python3/dist-packages (from ipython>=7.4.0->sparksql-magic) (4.6.0)\n",
      "Requirement already satisfied: pickleshare in /home/nilesh/.local/lib/python3.8/site-packages (from ipython>=7.4.0->sparksql-magic) (0.7.5)\n",
      "Requirement already satisfied: prompt-toolkit!=3.0.37,<3.1.0,>=3.0.30 in /home/nilesh/.local/lib/python3.8/site-packages (from ipython>=7.4.0->sparksql-magic) (3.0.48)\n",
      "Requirement already satisfied: matplotlib-inline in /home/nilesh/.local/lib/python3.8/site-packages (from ipython>=7.4.0->sparksql-magic) (0.1.7)\n",
      "Requirement already satisfied: traitlets>=5 in /home/nilesh/.local/lib/python3.8/site-packages (from ipython>=7.4.0->sparksql-magic) (5.14.3)\n",
      "Requirement already satisfied: pygments>=2.4.0 in /home/nilesh/.local/lib/python3.8/site-packages (from ipython>=7.4.0->sparksql-magic) (2.15.1)\n",
      "Requirement already satisfied: parso<0.9.0,>=0.8.4 in /home/nilesh/.local/lib/python3.8/site-packages (from jedi>=0.16->ipython>=7.4.0->sparksql-magic) (0.8.4)\n",
      "Requirement already satisfied: pure-eval in /home/nilesh/.local/lib/python3.8/site-packages (from stack-data->ipython>=7.4.0->sparksql-magic) (0.2.3)\n",
      "Requirement already satisfied: asttokens>=2.1.0 in /home/nilesh/.local/lib/python3.8/site-packages (from stack-data->ipython>=7.4.0->sparksql-magic) (3.0.0)\n",
      "Requirement already satisfied: executing>=1.2.0 in /home/nilesh/.local/lib/python3.8/site-packages (from stack-data->ipython>=7.4.0->sparksql-magic) (2.1.0)\n",
      "Requirement already satisfied: wcwidth in /home/nilesh/.local/lib/python3.8/site-packages (from prompt-toolkit!=3.0.37,<3.1.0,>=3.0.30->ipython>=7.4.0->sparksql-magic) (0.2.13)\n",
      "Note: you may need to restart the kernel to use updated packages.\n"
     ]
    }
   ],
   "source": [
    "%pip install sparksql-magic"
   ]
  },
  {
   "cell_type": "code",
   "execution_count": 4,
   "metadata": {},
   "outputs": [],
   "source": [
    "%load_ext sparksql_magic"
   ]
  },
  {
   "cell_type": "code",
   "execution_count": 9,
   "metadata": {},
   "outputs": [
    {
     "data": {
      "text/html": [
       "<table><tr style=\"border-bottom: 1px solid\"><td style=\"font-weight: bold\">genre</td><td style=\"font-weight: bold\">cnt</td></tr><tr><td>Drama</td><td>4365</td></tr><tr><td>Comedy</td><td>3315</td></tr><tr><td>Thriller</td><td>1729</td></tr><tr><td>Romance</td><td>1545</td></tr><tr><td>Action</td><td>1545</td></tr><tr><td>Adventure</td><td>1117</td></tr><tr><td>Crime</td><td>1100</td></tr><tr><td>Horror</td><td>877</td></tr><tr><td>Sci-Fi</td><td>792</td></tr><tr><td>Fantasy</td><td>654</td></tr><tr><td>Children</td><td>583</td></tr><tr><td>Mystery</td><td>543</td></tr><tr><td>Documentary</td><td>495</td></tr><tr><td>Animation</td><td>447</td></tr><tr><td>Musical</td><td>394</td></tr><tr><td>War</td><td>367</td></tr><tr><td>Western</td><td>168</td></tr><tr><td>IMAX</td><td>153</td></tr><tr><td>Film-Noir</td><td>133</td></tr><tr><td>(no genres listed)</td><td>18</td></tr></table>"
      ],
      "text/plain": [
       "<IPython.core.display.HTML object>"
      ]
     },
     "execution_count": 9,
     "metadata": {},
     "output_type": "execute_result"
    }
   ],
   "source": [
    "%%sparksql\n",
    "\n",
    "WITH movies AS(\n",
    "    SELECT EXPLODE(SPLIT(genres, '\\\\|')) genre FROM raw_movies\n",
    ")\n",
    "SELECT genre, COUNT(1) cnt FROM movies\n",
    "GROUP BY genre\n",
    "ORDER BY cnt DESC;"
   ]
  }
 ],
 "metadata": {
  "kernelspec": {
   "display_name": "Python 3",
   "language": "python",
   "name": "python3"
  },
  "language_info": {
   "codemirror_mode": {
    "name": "ipython",
    "version": 3
   },
   "file_extension": ".py",
   "mimetype": "text/x-python",
   "name": "python",
   "nbconvert_exporter": "python",
   "pygments_lexer": "ipython3",
   "version": "3.8.10"
  }
 },
 "nbformat": 4,
 "nbformat_minor": 2
}
