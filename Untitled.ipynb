{
 "cells": [
  {
   "cell_type": "code",
   "execution_count": null,
   "id": "8eb8648c-fcb4-4ce9-97c4-ea40ba9dc1e9",
   "metadata": {},
   "outputs": [],
   "source": [
    "from pyspark.sql import SparkSession\n",
    "from pyspark.sql.functions import *"
   ]
  },
  {
   "cell_type": "code",
   "execution_count": null,
   "id": "eb79d324-ca4c-4f88-b2a4-dd628cf5b239",
   "metadata": {},
   "outputs": [],
   "source": [
    "from click import option\n",
    "from pyspark.sql import SparkSession\n",
    "import pyspark.pandas as pd\n",
    "from pyspark.sql.functions import *\n",
    "spark=SparkSession.builder\\\n",
    "    .appName(\"que1\")\\\n",
    "    .config(\"spark.sql.shuffle.partition\",\"2\")\\\n",
    "    .getOrCreate()\n",
    "df=spark.read\\\n",
    "    .option(\"user\",\"root\")\\\n",
    "    .option(\"password\",\"manager\")\\\n",
    "    .option(\"driver\",\"com.mysql.cj.jdbc.Driver\")\\\n",
    "    .jdbc(url=\"jdbc:mysql://localhost:3306/classwork_db\",table=\"emp\")\n",
    "df1=df.select(\"deptno\",\"sal\")\\\n",
    "        .groupby('deptno')\\\n",
    "        .sum('sal')\n",
    "df1.show()\n",
    "pdf=pd.DataFrame(df1)\n",
    "pdf.plot.bar(x=\"deptno\",y='sum(sal)')\n",
    "\n",
    "    "
   ]
  },
  {
   "cell_type": "code",
   "execution_count": null,
   "id": "52f946f8-befd-4e1e-aab4-3e00857772b9",
   "metadata": {},
   "outputs": [],
   "source": [
    "pdf=pd.DataFrame(df1).set_index('deptno')\n",
    "pdf.plot.pie(y='sum(sal)')"
   ]
  },
  {
   "cell_type": "code",
   "execution_count": null,
   "id": "95098ef4-759b-4045-b581-9acf33f83d33",
   "metadata": {},
   "outputs": [],
   "source": [
    "df2=df.select('empno','deptno')\\\n",
    "    .groupby('deptno')\\\n",
    "    .count()"
   ]
  },
  {
   "cell_type": "code",
   "execution_count": null,
   "id": "baea36ee-bc36-40f0-9885-4bfbed76c170",
   "metadata": {},
   "outputs": [],
   "source": [
    "pdf2=pd.DataFrame(df2)\n",
    "pdf2.plot.bar(x='deptno',y='count')"
   ]
  },
  {
   "cell_type": "code",
   "execution_count": null,
   "id": "3d335241-4780-4fb2-b837-a1af9a8b6d10",
   "metadata": {},
   "outputs": [],
   "source": [
    "pdf2=pd.DataFrame(df2).set_index('deptno')\n",
    "pdf2.plot.pie(y='count')"
   ]
  },
  {
   "cell_type": "code",
   "execution_count": null,
   "id": "3c671d36-5ce1-4f09-93e6-8a4cc18f1b2a",
   "metadata": {},
   "outputs": [],
   "source": [
    "\n",
    "df3=df.select('ename','sal')\\\n",
    "    .withColumn('totalsal',sum('sal').over())"
   ]
  },
  {
   "cell_type": "code",
   "execution_count": null,
   "id": "89085905-7f0c-4426-a088-35145bb3cf6d",
   "metadata": {},
   "outputs": [],
   "source": []
  }
 ],
 "metadata": {
  "kernelspec": {
   "display_name": "Python 3 (ipykernel)",
   "language": "python",
   "name": "python3"
  },
  "language_info": {
   "codemirror_mode": {
    "name": "ipython",
    "version": 3
   },
   "file_extension": ".py",
   "mimetype": "text/x-python",
   "name": "python",
   "nbconvert_exporter": "python",
   "pygments_lexer": "ipython3",
   "version": "3.10.12"
  }
 },
 "nbformat": 4,
 "nbformat_minor": 5
}
