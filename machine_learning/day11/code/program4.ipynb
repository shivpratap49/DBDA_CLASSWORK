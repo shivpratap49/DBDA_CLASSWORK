{
 "cells": [
  {
   "cell_type": "markdown",
   "id": "0ed591f1-efdb-4981-9ed5-4ab506981c5a",
   "metadata": {},
   "source": [
    "# association rules mining"
   ]
  },
  {
   "cell_type": "markdown",
   "id": "06f2f0a3-f21a-4725-ae9a-4e6fde523e6b",
   "metadata": {},
   "source": [
    "## problem definition\n",
    "- find the association rules from the transactions"
   ]
  },
  {
   "cell_type": "markdown",
   "id": "87211650-3873-4ed8-84a5-a1938c10b7e1",
   "metadata": {},
   "source": [
    "### pre-requisites\n"
   ]
  },
  {
   "cell_type": "code",
   "execution_count": 1,
   "id": "075ca9c6-a1d8-4e77-91b0-52966eaf2a6b",
   "metadata": {},
   "outputs": [
    {
     "name": "stdout",
     "output_type": "stream",
     "text": [
      "Requirement already satisfied: apyori in /opt/homebrew/lib/python3.11/site-packages (1.1.2)\n",
      "\n",
      "\u001b[1m[\u001b[0m\u001b[34;49mnotice\u001b[0m\u001b[1;39;49m]\u001b[0m\u001b[39;49m A new release of pip is available: \u001b[0m\u001b[31;49m24.0\u001b[0m\u001b[39;49m -> \u001b[0m\u001b[32;49m24.2\u001b[0m\n",
      "\u001b[1m[\u001b[0m\u001b[34;49mnotice\u001b[0m\u001b[1;39;49m]\u001b[0m\u001b[39;49m To update, run: \u001b[0m\u001b[32;49mpython3.11 -m pip install --upgrade pip\u001b[0m\n",
      "Note: you may need to restart the kernel to use updated packages.\n"
     ]
    }
   ],
   "source": [
    "import warnings\n",
    "warnings.filterwarnings(action=\"ignore\")\n",
    "\n",
    "# install apyori\n",
    "%pip install apyori"
   ]
  },
  {
   "cell_type": "markdown",
   "id": "fc579e27-1838-4ff5-aad7-44026cfe534e",
   "metadata": {},
   "source": [
    "### import required packages"
   ]
  },
  {
   "cell_type": "code",
   "execution_count": 3,
   "id": "ca084b0f-9d7a-42ae-ad68-10632cacd6e9",
   "metadata": {},
   "outputs": [],
   "source": [
    "import numpy as np\n",
    "import pandas as pd\n",
    "import matplotlib.pyplot as plt\n",
    "import seaborn as sns"
   ]
  },
  {
   "cell_type": "markdown",
   "id": "68c52467-01e8-4958-ae96-81c65027871c",
   "metadata": {},
   "source": [
    "### load the data"
   ]
  },
  {
   "cell_type": "code",
   "execution_count": 5,
   "id": "7a763ff8-9afa-4aeb-be2b-db4c7bb733d6",
   "metadata": {},
   "outputs": [],
   "source": [
    "# list of lists\n",
    "transactions = [\n",
    "    [\"bread\", \"cheese\", \"egg\", \"juice\"],\n",
    "    [\"bread\", \"cheese\", \"juice\"],\n",
    "    [\"bread\", \"milk\", \"yogurt\"],\n",
    "    [\"bread\", \"juice\", \"milk\"],\n",
    "    [\"cheese\", \"juice\", \"milk\"]\n",
    "]"
   ]
  },
  {
   "cell_type": "markdown",
   "id": "d9174b6d-49ea-4af0-922a-30deae7961fe",
   "metadata": {},
   "source": [
    "### assoication rules mining"
   ]
  },
  {
   "cell_type": "code",
   "execution_count": 14,
   "id": "9b670602-c928-439f-a660-a7e282792410",
   "metadata": {},
   "outputs": [],
   "source": [
    "from apyori import apriori\n",
    "\n",
    "# find the rules\n",
    "rules = list(apriori(transactions))"
   ]
  },
  {
   "cell_type": "code",
   "execution_count": 27,
   "id": "42c599b1-d18c-40a0-a579-44b285e9142f",
   "metadata": {},
   "outputs": [
    {
     "data": {
      "text/plain": [
       "[frozenset({'bread'}), frozenset({'juice'})]"
      ]
     },
     "execution_count": 27,
     "metadata": {},
     "output_type": "execute_result"
    }
   ],
   "source": [
    "# find the rules which are having support >= 0.5 and confidence >= 0.75\n",
    "REQUIRED_SUPPORT = 0.5\n",
    "REQUIRED_CONFIDENCE = 0.75\n",
    "final_rules = []\n",
    "for rule in rules:\n",
    "    itemsset = rule.items\n",
    "    support = rule.support\n",
    "    confidence = rule.ordered_statistics[0].confidence\n",
    "    if (support >= REQUIRED_SUPPORT) and (confidence >= REQUIRED_CONFIDENCE):\n",
    "        final_rules.append(itemsset)\n",
    "final_rules"
   ]
  },
  {
   "cell_type": "code",
   "execution_count": null,
   "id": "951a9a99-81e5-4d73-b132-19890f0e61f3",
   "metadata": {},
   "outputs": [],
   "source": []
  }
 ],
 "metadata": {
  "kernelspec": {
   "display_name": "Python 3 (ipykernel)",
   "language": "python",
   "name": "python3"
  },
  "language_info": {
   "codemirror_mode": {
    "name": "ipython",
    "version": 3
   },
   "file_extension": ".py",
   "mimetype": "text/x-python",
   "name": "python",
   "nbconvert_exporter": "python",
   "pygments_lexer": "ipython3",
   "version": "3.11.9"
  }
 },
 "nbformat": 4,
 "nbformat_minor": 5
}
