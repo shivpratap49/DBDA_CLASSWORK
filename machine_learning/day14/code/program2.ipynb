{
 "cells": [
  {
   "cell_type": "markdown",
   "id": "f4f1a88a-0ef4-4863-a0e3-5fa37ffad267",
   "metadata": {},
   "source": [
    "# Regression using DL"
   ]
  },
  {
   "cell_type": "markdown",
   "id": "bc22216a-1450-4b85-a1ef-cd128250b912",
   "metadata": {},
   "source": [
    "## problem definition\n",
    "- predict salary of an employee using experience"
   ]
  },
  {
   "cell_type": "markdown",
   "id": "535d060c-9079-4710-8ada-a9f12277c587",
   "metadata": {},
   "source": [
    "### import required packages"
   ]
  },
  {
   "cell_type": "code",
   "execution_count": 1,
   "id": "7fc378ef-e99e-472c-b4c3-517cca487615",
   "metadata": {},
   "outputs": [],
   "source": [
    "import numpy as np\n",
    "import pandas as pd\n",
    "import matplotlib.pyplot as plt\n",
    "import seaborn as sns\n",
    "import tensorflow as tf"
   ]
  },
  {
   "cell_type": "markdown",
   "id": "6e08e67f-82cd-453c-aa44-65b73d687126",
   "metadata": {},
   "source": [
    "### load the data"
   ]
  },
  {
   "cell_type": "code",
   "execution_count": 2,
   "id": "ba7f8b2e-b5bf-4bed-9439-31ee1f4ee64f",
   "metadata": {},
   "outputs": [
    {
     "data": {
      "text/html": [
       "<div>\n",
       "<style scoped>\n",
       "    .dataframe tbody tr th:only-of-type {\n",
       "        vertical-align: middle;\n",
       "    }\n",
       "\n",
       "    .dataframe tbody tr th {\n",
       "        vertical-align: top;\n",
       "    }\n",
       "\n",
       "    .dataframe thead th {\n",
       "        text-align: right;\n",
       "    }\n",
       "</style>\n",
       "<table border=\"1\" class=\"dataframe\">\n",
       "  <thead>\n",
       "    <tr style=\"text-align: right;\">\n",
       "      <th></th>\n",
       "      <th>YearsExperience</th>\n",
       "      <th>Salary</th>\n",
       "    </tr>\n",
       "  </thead>\n",
       "  <tbody>\n",
       "    <tr>\n",
       "      <th>0</th>\n",
       "      <td>1.1</td>\n",
       "      <td>39343</td>\n",
       "    </tr>\n",
       "    <tr>\n",
       "      <th>1</th>\n",
       "      <td>1.3</td>\n",
       "      <td>46205</td>\n",
       "    </tr>\n",
       "    <tr>\n",
       "      <th>2</th>\n",
       "      <td>1.5</td>\n",
       "      <td>37731</td>\n",
       "    </tr>\n",
       "    <tr>\n",
       "      <th>3</th>\n",
       "      <td>2.0</td>\n",
       "      <td>43525</td>\n",
       "    </tr>\n",
       "    <tr>\n",
       "      <th>4</th>\n",
       "      <td>2.2</td>\n",
       "      <td>39891</td>\n",
       "    </tr>\n",
       "  </tbody>\n",
       "</table>\n",
       "</div>"
      ],
      "text/plain": [
       "   YearsExperience  Salary\n",
       "0              1.1   39343\n",
       "1              1.3   46205\n",
       "2              1.5   37731\n",
       "3              2.0   43525\n",
       "4              2.2   39891"
      ]
     },
     "execution_count": 2,
     "metadata": {},
     "output_type": "execute_result"
    }
   ],
   "source": [
    "df = pd.read_csv('Salary_Data.csv')\n",
    "df.head()"
   ]
  },
  {
   "cell_type": "markdown",
   "id": "cb7f74a7-2453-4080-a88e-f261e5ef68e5",
   "metadata": {},
   "source": [
    "### pre-processing"
   ]
  },
  {
   "cell_type": "code",
   "execution_count": 3,
   "id": "7333d117-342d-472c-94c9-adf7681c403b",
   "metadata": {},
   "outputs": [],
   "source": [
    "# split the data in x and y\n",
    "x = df.drop('Salary', axis=1)\n",
    "y = df['Salary']"
   ]
  },
  {
   "cell_type": "code",
   "execution_count": 4,
   "id": "8c20bc8e-ab6e-4b1b-8c74-6770392af2d5",
   "metadata": {},
   "outputs": [
    {
     "data": {
      "text/plain": [
       "(33, 1)"
      ]
     },
     "execution_count": 4,
     "metadata": {},
     "output_type": "execute_result"
    }
   ],
   "source": [
    "x.shape"
   ]
  },
  {
   "cell_type": "markdown",
   "id": "a665d7f8-8378-47d3-ac6d-159acf5564ef",
   "metadata": {},
   "source": [
    "### train a DL model"
   ]
  },
  {
   "cell_type": "code",
   "execution_count": 10,
   "id": "2aa0bcbd-4910-4772-9bb0-3eb7f655b5d6",
   "metadata": {},
   "outputs": [
    {
     "name": "stderr",
     "output_type": "stream",
     "text": [
      "WARNING:absl:At this time, the v2.11+ optimizer `tf.keras.optimizers.Adam` runs slowly on M1/M2 Macs, please use the legacy Keras optimizer instead, located at `tf.keras.optimizers.legacy.Adam`.\n"
     ]
    }
   ],
   "source": [
    "from tensorflow.keras import Sequential\n",
    "from tensorflow.keras.layers import Dense\n",
    "\n",
    "# create a model\n",
    "model = Sequential()\n",
    "\n",
    "# add the input layer\n",
    "model.add(Dense(units=10, input_shape=[x.shape[1]]))\n",
    "\n",
    "# add a hidden layer\n",
    "model.add(Dense(units=20))\n",
    "\n",
    "# add a output layer\n",
    "model.add(Dense(units=1))\n",
    "\n",
    "# compile the model\n",
    "optimizer = tf.optimizers.Adam(learning_rate=0.2)\n",
    "loss_function = tf.losses.mean_squared_error\n",
    "model.compile(optimizer=optimizer, loss=loss_function)"
   ]
  },
  {
   "cell_type": "code",
   "execution_count": 11,
   "id": "70f494ee-081c-4211-baa8-9c1555f87a92",
   "metadata": {},
   "outputs": [
    {
     "name": "stdout",
     "output_type": "stream",
     "text": [
      "Epoch 1/100\n",
      "2/2 [==============================] - 0s 2ms/step - loss: 7971095552.0000\n",
      "Epoch 2/100\n",
      "2/2 [==============================] - 0s 1ms/step - loss: 7950694400.0000\n",
      "Epoch 3/100\n",
      "2/2 [==============================] - 0s 1ms/step - loss: 7861965824.0000\n",
      "Epoch 4/100\n",
      "2/2 [==============================] - 0s 1ms/step - loss: 7655132160.0000\n",
      "Epoch 5/100\n",
      "2/2 [==============================] - 0s 1ms/step - loss: 7241524736.0000\n",
      "Epoch 6/100\n",
      "2/2 [==============================] - 0s 1ms/step - loss: 6558685184.0000\n",
      "Epoch 7/100\n",
      "2/2 [==============================] - 0s 1ms/step - loss: 5531334656.0000\n",
      "Epoch 8/100\n",
      "2/2 [==============================] - 0s 1ms/step - loss: 4231433728.0000\n",
      "Epoch 9/100\n",
      "2/2 [==============================] - 0s 1ms/step - loss: 2678815744.0000\n",
      "Epoch 10/100\n",
      "2/2 [==============================] - 0s 1ms/step - loss: 1131119616.0000\n",
      "Epoch 11/100\n",
      "2/2 [==============================] - 0s 1ms/step - loss: 151640832.0000\n",
      "Epoch 12/100\n",
      "2/2 [==============================] - 0s 1ms/step - loss: 467419936.0000\n",
      "Epoch 13/100\n",
      "2/2 [==============================] - 0s 1ms/step - loss: 963373248.0000\n",
      "Epoch 14/100\n",
      "2/2 [==============================] - 0s 1ms/step - loss: 647815040.0000\n",
      "Epoch 15/100\n",
      "2/2 [==============================] - 0s 1ms/step - loss: 308864736.0000\n",
      "Epoch 16/100\n",
      "2/2 [==============================] - 0s 1ms/step - loss: 118696152.0000\n",
      "Epoch 17/100\n",
      "2/2 [==============================] - 0s 1ms/step - loss: 64615968.0000\n",
      "Epoch 18/100\n",
      "2/2 [==============================] - 0s 1ms/step - loss: 98233680.0000\n",
      "Epoch 19/100\n",
      "2/2 [==============================] - 0s 1ms/step - loss: 158669440.0000\n",
      "Epoch 20/100\n",
      "2/2 [==============================] - 0s 1000us/step - loss: 184948336.0000\n",
      "Epoch 21/100\n",
      "2/2 [==============================] - 0s 1ms/step - loss: 163580736.0000\n",
      "Epoch 22/100\n",
      "2/2 [==============================] - 0s 1ms/step - loss: 117686376.0000\n",
      "Epoch 23/100\n",
      "2/2 [==============================] - 0s 1ms/step - loss: 75025976.0000\n",
      "Epoch 24/100\n",
      "2/2 [==============================] - 0s 1ms/step - loss: 56537092.0000\n",
      "Epoch 25/100\n",
      "2/2 [==============================] - 0s 946us/step - loss: 66026760.0000\n",
      "Epoch 26/100\n",
      "2/2 [==============================] - 0s 1ms/step - loss: 93558536.0000\n",
      "Epoch 27/100\n",
      "2/2 [==============================] - 0s 1ms/step - loss: 108402688.0000\n",
      "Epoch 28/100\n",
      "2/2 [==============================] - 0s 1ms/step - loss: 98219616.0000\n",
      "Epoch 29/100\n",
      "2/2 [==============================] - 0s 1ms/step - loss: 73220832.0000\n",
      "Epoch 30/100\n",
      "2/2 [==============================] - 0s 1ms/step - loss: 53669704.0000\n",
      "Epoch 31/100\n",
      "2/2 [==============================] - 0s 1ms/step - loss: 70814264.0000\n",
      "Epoch 32/100\n",
      "2/2 [==============================] - 0s 8ms/step - loss: 94996128.0000\n",
      "Epoch 33/100\n",
      "2/2 [==============================] - 0s 1ms/step - loss: 102829536.0000\n",
      "Epoch 34/100\n",
      "2/2 [==============================] - 0s 1ms/step - loss: 95240976.0000\n",
      "Epoch 35/100\n",
      "2/2 [==============================] - 0s 2ms/step - loss: 77190712.0000\n",
      "Epoch 36/100\n",
      "2/2 [==============================] - 0s 1ms/step - loss: 58092428.0000\n",
      "Epoch 37/100\n",
      "2/2 [==============================] - 0s 1ms/step - loss: 48506208.0000\n",
      "Epoch 38/100\n",
      "2/2 [==============================] - 0s 1ms/step - loss: 52812780.0000\n",
      "Epoch 39/100\n",
      "2/2 [==============================] - 0s 1ms/step - loss: 62897004.0000\n",
      "Epoch 40/100\n",
      "2/2 [==============================] - 0s 1ms/step - loss: 52099592.0000\n",
      "Epoch 41/100\n",
      "2/2 [==============================] - 0s 1ms/step - loss: 49901696.0000\n",
      "Epoch 42/100\n",
      "2/2 [==============================] - 0s 955us/step - loss: 66714044.0000\n",
      "Epoch 43/100\n",
      "2/2 [==============================] - 0s 1ms/step - loss: 79105216.0000\n",
      "Epoch 44/100\n",
      "2/2 [==============================] - 0s 1ms/step - loss: 77066864.0000\n",
      "Epoch 45/100\n",
      "2/2 [==============================] - 0s 1ms/step - loss: 54859940.0000\n",
      "Epoch 46/100\n",
      "2/2 [==============================] - 0s 1ms/step - loss: 45539692.0000\n",
      "Epoch 47/100\n",
      "2/2 [==============================] - 0s 1ms/step - loss: 71045592.0000\n",
      "Epoch 48/100\n",
      "2/2 [==============================] - 0s 878us/step - loss: 107597880.0000\n",
      "Epoch 49/100\n",
      "2/2 [==============================] - 0s 1ms/step - loss: 71743648.0000\n",
      "Epoch 50/100\n",
      "2/2 [==============================] - 0s 1ms/step - loss: 44542084.0000\n",
      "Epoch 51/100\n",
      "2/2 [==============================] - 0s 1ms/step - loss: 83087480.0000\n",
      "Epoch 52/100\n",
      "2/2 [==============================] - 0s 1ms/step - loss: 132229152.0000\n",
      "Epoch 53/100\n",
      "2/2 [==============================] - 0s 921us/step - loss: 131110600.0000\n",
      "Epoch 54/100\n",
      "2/2 [==============================] - 0s 930us/step - loss: 86390936.0000\n",
      "Epoch 55/100\n",
      "2/2 [==============================] - 0s 1ms/step - loss: 50794288.0000\n",
      "Epoch 56/100\n",
      "2/2 [==============================] - 0s 962us/step - loss: 42868412.0000\n",
      "Epoch 57/100\n",
      "2/2 [==============================] - 0s 1ms/step - loss: 52357484.0000\n",
      "Epoch 58/100\n",
      "2/2 [==============================] - 0s 1ms/step - loss: 63050824.0000\n",
      "Epoch 59/100\n",
      "2/2 [==============================] - 0s 1ms/step - loss: 49378048.0000\n",
      "Epoch 60/100\n",
      "2/2 [==============================] - 0s 1ms/step - loss: 42485976.0000\n",
      "Epoch 61/100\n",
      "2/2 [==============================] - 0s 1ms/step - loss: 45303420.0000\n",
      "Epoch 62/100\n",
      "2/2 [==============================] - 0s 1ms/step - loss: 45927140.0000\n",
      "Epoch 63/100\n",
      "2/2 [==============================] - 0s 1ms/step - loss: 43503416.0000\n",
      "Epoch 64/100\n",
      "2/2 [==============================] - 0s 1ms/step - loss: 41327856.0000\n",
      "Epoch 65/100\n",
      "2/2 [==============================] - 0s 1ms/step - loss: 40393036.0000\n",
      "Epoch 66/100\n",
      "2/2 [==============================] - 0s 958us/step - loss: 45698044.0000\n",
      "Epoch 67/100\n",
      "2/2 [==============================] - 0s 1ms/step - loss: 56491828.0000\n",
      "Epoch 68/100\n",
      "2/2 [==============================] - 0s 1ms/step - loss: 59694216.0000\n",
      "Epoch 69/100\n",
      "2/2 [==============================] - 0s 1ms/step - loss: 54792012.0000\n",
      "Epoch 70/100\n",
      "2/2 [==============================] - 0s 1ms/step - loss: 42763668.0000\n",
      "Epoch 71/100\n",
      "2/2 [==============================] - 0s 1ms/step - loss: 45005532.0000\n",
      "Epoch 72/100\n",
      "2/2 [==============================] - 0s 1ms/step - loss: 46351180.0000\n",
      "Epoch 73/100\n",
      "2/2 [==============================] - 0s 867us/step - loss: 41423924.0000\n",
      "Epoch 74/100\n",
      "2/2 [==============================] - 0s 1ms/step - loss: 41201088.0000\n",
      "Epoch 75/100\n",
      "2/2 [==============================] - 0s 1ms/step - loss: 40473528.0000\n",
      "Epoch 76/100\n",
      "2/2 [==============================] - 0s 761us/step - loss: 40039852.0000\n",
      "Epoch 77/100\n",
      "2/2 [==============================] - 0s 1ms/step - loss: 39473576.0000\n",
      "Epoch 78/100\n",
      "2/2 [==============================] - 0s 885us/step - loss: 40568020.0000\n",
      "Epoch 79/100\n",
      "2/2 [==============================] - 0s 937us/step - loss: 43271340.0000\n",
      "Epoch 80/100\n",
      "2/2 [==============================] - 0s 16ms/step - loss: 46791704.0000\n",
      "Epoch 81/100\n",
      "2/2 [==============================] - 0s 2ms/step - loss: 51603268.0000\n",
      "Epoch 82/100\n",
      "2/2 [==============================] - 0s 1ms/step - loss: 51369132.0000\n",
      "Epoch 83/100\n",
      "2/2 [==============================] - 0s 1ms/step - loss: 44924484.0000\n",
      "Epoch 84/100\n",
      "2/2 [==============================] - 0s 3ms/step - loss: 38232448.0000\n",
      "Epoch 85/100\n",
      "2/2 [==============================] - 0s 1ms/step - loss: 50150192.0000\n",
      "Epoch 86/100\n",
      "2/2 [==============================] - 0s 994us/step - loss: 71049648.0000\n",
      "Epoch 87/100\n",
      "2/2 [==============================] - 0s 1ms/step - loss: 57046896.0000\n",
      "Epoch 88/100\n",
      "2/2 [==============================] - 0s 1ms/step - loss: 38256572.0000\n",
      "Epoch 89/100\n",
      "2/2 [==============================] - 0s 1ms/step - loss: 47356904.0000\n",
      "Epoch 90/100\n",
      "2/2 [==============================] - 0s 1ms/step - loss: 65731384.0000\n",
      "Epoch 91/100\n",
      "2/2 [==============================] - 0s 1ms/step - loss: 67603608.0000\n",
      "Epoch 92/100\n",
      "2/2 [==============================] - 0s 1ms/step - loss: 45619072.0000\n",
      "Epoch 93/100\n",
      "2/2 [==============================] - 0s 1ms/step - loss: 43767732.0000\n",
      "Epoch 94/100\n",
      "2/2 [==============================] - 0s 1ms/step - loss: 95885368.0000\n",
      "Epoch 95/100\n",
      "2/2 [==============================] - 0s 981us/step - loss: 112507632.0000\n",
      "Epoch 96/100\n",
      "2/2 [==============================] - 0s 1ms/step - loss: 68319552.0000\n",
      "Epoch 97/100\n",
      "2/2 [==============================] - 0s 941us/step - loss: 38854900.0000\n",
      "Epoch 98/100\n",
      "2/2 [==============================] - 0s 798us/step - loss: 55886960.0000\n",
      "Epoch 99/100\n",
      "2/2 [==============================] - 0s 1ms/step - loss: 73741688.0000\n",
      "Epoch 100/100\n",
      "2/2 [==============================] - 0s 1ms/step - loss: 73806736.0000\n"
     ]
    },
    {
     "data": {
      "text/plain": [
       "<keras.src.callbacks.History at 0x2c2072d50>"
      ]
     },
     "execution_count": 11,
     "metadata": {},
     "output_type": "execute_result"
    }
   ],
   "source": [
    "# build the model\n",
    "model.fit(x, y, epochs=100)"
   ]
  },
  {
   "cell_type": "markdown",
   "id": "260dd295-5684-4c38-a968-f4a40a7c3c36",
   "metadata": {},
   "source": [
    "### model prediction"
   ]
  },
  {
   "cell_type": "code",
   "execution_count": 12,
   "id": "6cde6747-ed79-4578-8f9e-081d8a374cfb",
   "metadata": {},
   "outputs": [
    {
     "name": "stdout",
     "output_type": "stream",
     "text": [
      "1/1 [==============================] - 0s 38ms/step\n"
     ]
    },
    {
     "data": {
      "text/plain": [
       "array([[176494.08]], dtype=float32)"
      ]
     },
     "execution_count": 12,
     "metadata": {},
     "output_type": "execute_result"
    }
   ],
   "source": [
    "model.predict([16])"
   ]
  },
  {
   "cell_type": "code",
   "execution_count": null,
   "id": "967b153e-60c4-4cfd-ba58-98c71f33e001",
   "metadata": {},
   "outputs": [],
   "source": []
  }
 ],
 "metadata": {
  "kernelspec": {
   "display_name": "Python 3 (ipykernel)",
   "language": "python",
   "name": "python3"
  },
  "language_info": {
   "codemirror_mode": {
    "name": "ipython",
    "version": 3
   },
   "file_extension": ".py",
   "mimetype": "text/x-python",
   "name": "python",
   "nbconvert_exporter": "python",
   "pygments_lexer": "ipython3",
   "version": "3.10.12"
  }
 },
 "nbformat": 4,
 "nbformat_minor": 5
}
