{
 "cells": [
  {
   "cell_type": "markdown",
   "id": "a09c4a0d-74d0-4c18-b87c-9d072bf0b99f",
   "metadata": {},
   "source": [
    "# One Hot Encoding"
   ]
  },
  {
   "cell_type": "markdown",
   "id": "b80fd986-e5be-42d9-a908-af0b58232840",
   "metadata": {},
   "source": [
    "### import the required packages"
   ]
  },
  {
   "cell_type": "code",
   "execution_count": 1,
   "id": "6443afdf-81a8-4d3b-8b51-d159457e62ff",
   "metadata": {},
   "outputs": [],
   "source": [
    "import numpy as np\n",
    "import pandas as pd\n",
    "import matplotlib.pyplot as plt\n",
    "import seaborn as sns"
   ]
  },
  {
   "cell_type": "markdown",
   "id": "0f7a3199-47c2-4309-83e9-e0cbea54032f",
   "metadata": {},
   "source": [
    "### load the data"
   ]
  },
  {
   "cell_type": "code",
   "execution_count": 2,
   "id": "daa8e613-e629-427b-bcb5-05048130c5f5",
   "metadata": {},
   "outputs": [
    {
     "data": {
      "text/html": [
       "<div>\n",
       "<style scoped>\n",
       "    .dataframe tbody tr th:only-of-type {\n",
       "        vertical-align: middle;\n",
       "    }\n",
       "\n",
       "    .dataframe tbody tr th {\n",
       "        vertical-align: top;\n",
       "    }\n",
       "\n",
       "    .dataframe thead th {\n",
       "        text-align: right;\n",
       "    }\n",
       "</style>\n",
       "<table border=\"1\" class=\"dataframe\">\n",
       "  <thead>\n",
       "    <tr style=\"text-align: right;\">\n",
       "      <th></th>\n",
       "      <th>model</th>\n",
       "      <th>color</th>\n",
       "      <th>price</th>\n",
       "    </tr>\n",
       "  </thead>\n",
       "  <tbody>\n",
       "    <tr>\n",
       "      <th>0</th>\n",
       "      <td>triber</td>\n",
       "      <td>silver</td>\n",
       "      <td>10</td>\n",
       "    </tr>\n",
       "    <tr>\n",
       "      <th>1</th>\n",
       "      <td>XUV700</td>\n",
       "      <td>black</td>\n",
       "      <td>30</td>\n",
       "    </tr>\n",
       "    <tr>\n",
       "      <th>2</th>\n",
       "      <td>fortuner</td>\n",
       "      <td>white</td>\n",
       "      <td>60</td>\n",
       "    </tr>\n",
       "    <tr>\n",
       "      <th>3</th>\n",
       "      <td>X5</td>\n",
       "      <td>silver</td>\n",
       "      <td>50</td>\n",
       "    </tr>\n",
       "    <tr>\n",
       "      <th>4</th>\n",
       "      <td>alto</td>\n",
       "      <td>white</td>\n",
       "      <td>5</td>\n",
       "    </tr>\n",
       "    <tr>\n",
       "      <th>5</th>\n",
       "      <td>nano</td>\n",
       "      <td>black</td>\n",
       "      <td>3</td>\n",
       "    </tr>\n",
       "  </tbody>\n",
       "</table>\n",
       "</div>"
      ],
      "text/plain": [
       "      model   color  price\n",
       "0    triber  silver     10\n",
       "1    XUV700   black     30\n",
       "2  fortuner   white     60\n",
       "3        X5  silver     50\n",
       "4      alto   white      5\n",
       "5      nano   black      3"
      ]
     },
     "execution_count": 2,
     "metadata": {},
     "output_type": "execute_result"
    }
   ],
   "source": [
    "df = pd.DataFrame([\n",
    "    {\"model\": \"triber\", \"color\": \"silver\", \"price\": 10},\n",
    "    {\"model\": \"XUV700\", \"color\": \"black\", \"price\": 30},\n",
    "    {\"model\": \"fortuner\", \"color\": \"white\", \"price\": 60},\n",
    "    {\"model\": \"X5\", \"color\": \"silver\", \"price\": 50},\n",
    "    {\"model\": \"alto\", \"color\": \"white\", \"price\": 5},\n",
    "    {\"model\": \"nano\", \"color\": \"black\", \"price\": 3},\n",
    "])\n",
    "df"
   ]
  },
  {
   "cell_type": "code",
   "execution_count": 3,
   "id": "0a69c8ce-3e8e-4967-a596-4d25cd21f8f7",
   "metadata": {},
   "outputs": [],
   "source": [
    "# import both the encoders\n",
    "from sklearn.preprocessing import LabelEncoder, OneHotEncoder\n",
    "\n",
    "# import the column transformer\n",
    "from sklearn.compose import ColumnTransformer\n",
    "\n",
    "# create One hot encoder\n",
    "one_hot_encoder = OneHotEncoder()\n",
    "\n",
    "# select column(s) for one hot encoding\n",
    "one_hot_encoder_columns = [\"color\"]"
   ]
  },
  {
   "cell_type": "code",
   "execution_count": 4,
   "id": "dcfcedaa-bd8c-4a65-b1f7-61916ad8737e",
   "metadata": {},
   "outputs": [],
   "source": [
    "# create label encoder\n",
    "label_encoder = LabelEncoder()\n",
    "\n",
    "# transform the model column to numeric\n",
    "df['model'] = label_encoder.fit_transform(df['model'])"
   ]
  },
  {
   "cell_type": "code",
   "execution_count": 5,
   "id": "1e19e16d-76b3-4357-858a-43c3e38130bc",
   "metadata": {},
   "outputs": [
    {
     "data": {
      "text/plain": [
       "array(['X5', 'XUV700', 'alto', 'fortuner', 'nano', 'triber'], dtype=object)"
      ]
     },
     "execution_count": 5,
     "metadata": {},
     "output_type": "execute_result"
    }
   ],
   "source": [
    "label_encoder.classes_"
   ]
  },
  {
   "cell_type": "code",
   "execution_count": 6,
   "id": "b761ed73-6129-4a82-886c-ed7039dbb754",
   "metadata": {},
   "outputs": [
    {
     "data": {
      "text/plain": [
       "array(['silver', 'black', 'white'], dtype=object)"
      ]
     },
     "execution_count": 6,
     "metadata": {},
     "output_type": "execute_result"
    }
   ],
   "source": [
    "df['color'].unique()"
   ]
  },
  {
   "cell_type": "code",
   "execution_count": 7,
   "id": "3a7f8a23-bc86-4924-aa8e-6074d2bbcf58",
   "metadata": {},
   "outputs": [
    {
     "data": {
      "text/plain": [
       "array([[ 0.,  1.,  0.,  5., 10.],\n",
       "       [ 1.,  0.,  0.,  1., 30.],\n",
       "       [ 0.,  0.,  1.,  3., 60.],\n",
       "       [ 0.,  1.,  0.,  0., 50.],\n",
       "       [ 0.,  0.,  1.,  2.,  5.],\n",
       "       [ 1.,  0.,  0.,  4.,  3.]])"
      ]
     },
     "execution_count": 7,
     "metadata": {},
     "output_type": "execute_result"
    }
   ],
   "source": [
    "# create the transformer\n",
    "transformer = ColumnTransformer(\n",
    "    [\n",
    "        (\"OneHotEncoder\", one_hot_encoder, one_hot_encoder_columns)\n",
    "    ],\n",
    "    remainder=\"passthrough\"\n",
    ")\n",
    "\n",
    "# transform the columns\n",
    "transformer.fit_transform(df)"
   ]
  },
  {
   "cell_type": "code",
   "execution_count": 8,
   "id": "50cba14f-5707-40c0-bb40-a48d8be213df",
   "metadata": {},
   "outputs": [
    {
     "data": {
      "text/plain": [
       "'auto'"
      ]
     },
     "execution_count": 8,
     "metadata": {},
     "output_type": "execute_result"
    }
   ],
   "source": [
    "one_hot_encoder.categories"
   ]
  },
  {
   "cell_type": "code",
   "execution_count": 9,
   "id": "70bc3616-f7c6-4316-ab0d-e01600229fac",
   "metadata": {},
   "outputs": [
    {
     "data": {
      "text/html": [
       "<div>\n",
       "<style scoped>\n",
       "    .dataframe tbody tr th:only-of-type {\n",
       "        vertical-align: middle;\n",
       "    }\n",
       "\n",
       "    .dataframe tbody tr th {\n",
       "        vertical-align: top;\n",
       "    }\n",
       "\n",
       "    .dataframe thead th {\n",
       "        text-align: right;\n",
       "    }\n",
       "</style>\n",
       "<table border=\"1\" class=\"dataframe\">\n",
       "  <thead>\n",
       "    <tr style=\"text-align: right;\">\n",
       "      <th></th>\n",
       "      <th>model</th>\n",
       "      <th>color</th>\n",
       "      <th>price</th>\n",
       "    </tr>\n",
       "  </thead>\n",
       "  <tbody>\n",
       "    <tr>\n",
       "      <th>0</th>\n",
       "      <td>5</td>\n",
       "      <td>silver</td>\n",
       "      <td>10</td>\n",
       "    </tr>\n",
       "    <tr>\n",
       "      <th>1</th>\n",
       "      <td>1</td>\n",
       "      <td>black</td>\n",
       "      <td>30</td>\n",
       "    </tr>\n",
       "    <tr>\n",
       "      <th>2</th>\n",
       "      <td>3</td>\n",
       "      <td>white</td>\n",
       "      <td>60</td>\n",
       "    </tr>\n",
       "    <tr>\n",
       "      <th>3</th>\n",
       "      <td>0</td>\n",
       "      <td>silver</td>\n",
       "      <td>50</td>\n",
       "    </tr>\n",
       "    <tr>\n",
       "      <th>4</th>\n",
       "      <td>2</td>\n",
       "      <td>white</td>\n",
       "      <td>5</td>\n",
       "    </tr>\n",
       "    <tr>\n",
       "      <th>5</th>\n",
       "      <td>4</td>\n",
       "      <td>black</td>\n",
       "      <td>3</td>\n",
       "    </tr>\n",
       "  </tbody>\n",
       "</table>\n",
       "</div>"
      ],
      "text/plain": [
       "   model   color  price\n",
       "0      5  silver     10\n",
       "1      1   black     30\n",
       "2      3   white     60\n",
       "3      0  silver     50\n",
       "4      2   white      5\n",
       "5      4   black      3"
      ]
     },
     "execution_count": 9,
     "metadata": {},
     "output_type": "execute_result"
    }
   ],
   "source": [
    "df"
   ]
  },
  {
   "cell_type": "code",
   "execution_count": null,
   "id": "7678972f-7929-440d-9845-9426c4a806aa",
   "metadata": {},
   "outputs": [],
   "source": []
  }
 ],
 "metadata": {
  "kernelspec": {
   "display_name": "Python 3 (ipykernel)",
   "language": "python",
   "name": "python3"
  },
  "language_info": {
   "codemirror_mode": {
    "name": "ipython",
    "version": 3
   },
   "file_extension": ".py",
   "mimetype": "text/x-python",
   "name": "python",
   "nbconvert_exporter": "python",
   "pygments_lexer": "ipython3",
   "version": "3.10.12"
  }
 },
 "nbformat": 4,
 "nbformat_minor": 5
}
