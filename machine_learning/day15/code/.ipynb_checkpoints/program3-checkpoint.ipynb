{
 "cells": [
  {
   "cell_type": "markdown",
   "id": "c2afdee4-cc62-4210-9bfb-af68f8e2e262",
   "metadata": {},
   "source": [
    "# NLP"
   ]
  },
  {
   "cell_type": "markdown",
   "id": "8a8889d6-02bb-4282-ab8e-377865ecfdb8",
   "metadata": {},
   "source": [
    "## word tokenization"
   ]
  },
  {
   "cell_type": "markdown",
   "id": "751878f1-0f7b-4a6f-a2ce-93fb8bc2c9d1",
   "metadata": {},
   "source": [
    "### pre-requisites"
   ]
  },
  {
   "cell_type": "code",
   "execution_count": 2,
   "id": "385bdd91-88b5-4623-a47f-29066bd36279",
   "metadata": {},
   "outputs": [
    {
     "name": "stdout",
     "output_type": "stream",
     "text": [
      "Requirement already satisfied: nltk in /opt/homebrew/lib/python3.11/site-packages (3.8.1)\n",
      "Requirement already satisfied: click in /opt/homebrew/lib/python3.11/site-packages (from nltk) (8.1.6)\n",
      "Requirement already satisfied: joblib in /opt/homebrew/lib/python3.11/site-packages (from nltk) (1.3.2)\n",
      "Requirement already satisfied: regex>=2021.8.3 in /opt/homebrew/lib/python3.11/site-packages (from nltk) (2023.10.3)\n",
      "Requirement already satisfied: tqdm in /opt/homebrew/lib/python3.11/site-packages (from nltk) (4.66.5)\n",
      "\n",
      "\u001b[1m[\u001b[0m\u001b[34;49mnotice\u001b[0m\u001b[1;39;49m]\u001b[0m\u001b[39;49m A new release of pip is available: \u001b[0m\u001b[31;49m24.0\u001b[0m\u001b[39;49m -> \u001b[0m\u001b[32;49m24.2\u001b[0m\n",
      "\u001b[1m[\u001b[0m\u001b[34;49mnotice\u001b[0m\u001b[1;39;49m]\u001b[0m\u001b[39;49m To update, run: \u001b[0m\u001b[32;49mpython3.11 -m pip install --upgrade pip\u001b[0m\n",
      "Note: you may need to restart the kernel to use updated packages.\n"
     ]
    },
    {
     "name": "stderr",
     "output_type": "stream",
     "text": [
      "[nltk_data] Downloading package punkt to /Users/amitk/nltk_data...\n",
      "[nltk_data]   Package punkt is already up-to-date!\n",
      "[nltk_data] Downloading package punkt_tab to /Users/amitk/nltk_data...\n",
      "[nltk_data]   Package punkt_tab is already up-to-date!\n"
     ]
    },
    {
     "data": {
      "text/plain": [
       "True"
      ]
     },
     "execution_count": 2,
     "metadata": {},
     "output_type": "execute_result"
    }
   ],
   "source": [
    "import warnings\n",
    "warnings.filterwarnings(action=\"ignore\")\n",
    "\n",
    "# install nltk\n",
    "%pip install nltk\n",
    "\n",
    "# download required sub-packages\n",
    "import nltk\n",
    "nltk.download(\"punkt\")\n",
    "nltk.download(\"punkt_tab\")"
   ]
  },
  {
   "cell_type": "markdown",
   "id": "26f6c826-d1f8-4d2d-84f2-753434fff825",
   "metadata": {},
   "source": [
    "### import required packages"
   ]
  },
  {
   "cell_type": "code",
   "execution_count": 3,
   "id": "3c61cb7b-6440-4287-9f53-9b0dc953f0e8",
   "metadata": {},
   "outputs": [],
   "source": [
    "import nltk"
   ]
  },
  {
   "cell_type": "markdown",
   "id": "16ab88e2-06e6-4957-8dde-5f1fec49dc1a",
   "metadata": {},
   "source": [
    "### load the data"
   ]
  },
  {
   "cell_type": "code",
   "execution_count": 4,
   "id": "0448dd2d-e53e-4975-b1bf-451d8a078185",
   "metadata": {},
   "outputs": [],
   "source": [
    "corpus = \"\"\"Welcome to NLP.\n",
    "This is our first session on NLP.\n",
    "We will look for some advacnced topics tomorrow.\"\"\""
   ]
  },
  {
   "cell_type": "markdown",
   "id": "343d3166-62be-4fa7-b3e7-e7c3266deb5d",
   "metadata": {},
   "source": [
    "### pre-processing"
   ]
  },
  {
   "cell_type": "code",
   "execution_count": 5,
   "id": "a2e6aa6e-1b43-4a38-b4bb-43a7af6f78a9",
   "metadata": {},
   "outputs": [
    {
     "data": {
      "text/plain": [
       "['Welcome to NLP.',\n",
       " 'This is our first session on NLP.',\n",
       " 'We will look for some advacnced topics tomorrow.']"
      ]
     },
     "execution_count": 5,
     "metadata": {},
     "output_type": "execute_result"
    }
   ],
   "source": [
    "from nltk import sent_tokenize\n",
    "\n",
    "# split the corpus into sentences\n",
    "sentences = sent_tokenize(corpus)\n",
    "sentences"
   ]
  },
  {
   "cell_type": "markdown",
   "id": "c228ba1a-0d38-4b05-ab1a-477b158a5298",
   "metadata": {},
   "source": [
    "#### word tokeniztion"
   ]
  },
  {
   "cell_type": "code",
   "execution_count": 7,
   "id": "03dd21ac-3a3c-4081-be05-ebb82ca2b49a",
   "metadata": {},
   "outputs": [
    {
     "data": {
      "text/plain": [
       "['Welcome',\n",
       " 'to',\n",
       " 'NLP',\n",
       " '.',\n",
       " 'This',\n",
       " 'is',\n",
       " 'our',\n",
       " 'first',\n",
       " 'session',\n",
       " 'on',\n",
       " 'NLP',\n",
       " '.',\n",
       " 'We',\n",
       " 'will',\n",
       " 'look',\n",
       " 'for',\n",
       " 'some',\n",
       " 'advacnced',\n",
       " 'topics',\n",
       " 'tomorrow',\n",
       " '.']"
      ]
     },
     "execution_count": 7,
     "metadata": {},
     "output_type": "execute_result"
    }
   ],
   "source": [
    "from nltk import word_tokenize\n",
    "\n",
    "all_words = []\n",
    "for sentence in sentences:\n",
    "    \n",
    "    # split the sentence into words\n",
    "    words = word_tokenize(sentence)\n",
    "\n",
    "    # collect all words\n",
    "    all_words.extend(words)\n",
    "\n",
    "all_words"
   ]
  },
  {
   "cell_type": "code",
   "execution_count": 8,
   "id": "29cb1cc1-b66e-407b-9b7b-6b9122938674",
   "metadata": {},
   "outputs": [
    {
     "data": {
      "text/plain": [
       "['Welcome',\n",
       " 'to',\n",
       " 'NLP',\n",
       " '.',\n",
       " 'This',\n",
       " 'is',\n",
       " 'our',\n",
       " 'first',\n",
       " 'session',\n",
       " 'on',\n",
       " 'NLP',\n",
       " '.',\n",
       " 'We',\n",
       " 'will',\n",
       " 'look',\n",
       " 'for',\n",
       " 'some',\n",
       " 'advacnced',\n",
       " 'topics',\n",
       " 'tomorrow',\n",
       " '.']"
      ]
     },
     "execution_count": 8,
     "metadata": {},
     "output_type": "execute_result"
    }
   ],
   "source": [
    "from nltk.tokenize.treebank import TreebankWordTokenizer\n",
    "\n",
    "# create a tokenizer\n",
    "tokenizer = TreebankWordTokenizer()\n",
    "\n",
    "all_words = []\n",
    "for sentence in sentences:\n",
    "    # tokenize the sentences\n",
    "    words = tokenizer.tokenize(sentence)\n",
    "    all_words.extend(words)\n",
    "\n",
    "all_words"
   ]
  },
  {
   "cell_type": "code",
   "execution_count": 10,
   "id": "05f43c99-b632-4b5b-899c-74f3c5255c1b",
   "metadata": {},
   "outputs": [
    {
     "data": {
      "text/plain": [
       "['Welcome',\n",
       " 'to',\n",
       " 'NLP',\n",
       " '.',\n",
       " 'This',\n",
       " 'is',\n",
       " 'our',\n",
       " 'first',\n",
       " 'session',\n",
       " 'on',\n",
       " 'NLP',\n",
       " '.',\n",
       " 'We',\n",
       " 'will',\n",
       " 'look',\n",
       " 'for',\n",
       " 'some',\n",
       " 'advacnced',\n",
       " 'topics',\n",
       " 'tomorrow',\n",
       " '.']"
      ]
     },
     "execution_count": 10,
     "metadata": {},
     "output_type": "execute_result"
    }
   ],
   "source": [
    "from nltk.tokenize import RegexpTokenizer\n",
    "\n",
    "tokenizer = RegexpTokenizer(r'\\w+|\\$[\\d]+|\\S+')\n",
    "\n",
    "all_words = []\n",
    "for sentence in sentences:\n",
    "    # tokenize the sentences\n",
    "    words = tokenizer.tokenize(sentence)\n",
    "    all_words.extend(words)\n",
    "\n",
    "all_words"
   ]
  },
  {
   "cell_type": "code",
   "execution_count": null,
   "id": "33057f03-6013-43fa-a9c9-9fef4c1364d8",
   "metadata": {},
   "outputs": [],
   "source": []
  }
 ],
 "metadata": {
  "kernelspec": {
   "display_name": "Python 3 (ipykernel)",
   "language": "python",
   "name": "python3"
  },
  "language_info": {
   "codemirror_mode": {
    "name": "ipython",
    "version": 3
   },
   "file_extension": ".py",
   "mimetype": "text/x-python",
   "name": "python",
   "nbconvert_exporter": "python",
   "pygments_lexer": "ipython3",
   "version": "3.11.9"
  }
 },
 "nbformat": 4,
 "nbformat_minor": 5
}
