{
 "cells": [
  {
   "cell_type": "markdown",
   "id": "e8e4d4b6-3837-4aaf-8826-6711c0026996",
   "metadata": {},
   "source": [
    "# NLP"
   ]
  },
  {
   "cell_type": "markdown",
   "id": "1888d220-27d4-4932-b531-ef4d9c973009",
   "metadata": {},
   "source": [
    "### pre-requisites"
   ]
  },
  {
   "cell_type": "code",
   "execution_count": 9,
   "id": "5756d49e-47cb-4bf9-acbc-faf35d79aea7",
   "metadata": {},
   "outputs": [
    {
     "name": "stderr",
     "output_type": "stream",
     "text": [
      "[nltk_data] Downloading package wordnet to /Users/amitk/nltk_data...\n",
      "[nltk_data]   Package wordnet is already up-to-date!\n"
     ]
    },
    {
     "data": {
      "text/plain": [
       "True"
      ]
     },
     "execution_count": 9,
     "metadata": {},
     "output_type": "execute_result"
    }
   ],
   "source": [
    "import nltk\n",
    "\n",
    "nltk.download(\"wordnet\")"
   ]
  },
  {
   "cell_type": "markdown",
   "id": "a1a96f40-ca6f-4db5-ad36-d34156f3c50b",
   "metadata": {},
   "source": [
    "## Stemming"
   ]
  },
  {
   "cell_type": "code",
   "execution_count": 1,
   "id": "b3284845-e5b5-434e-86a1-7e706c670017",
   "metadata": {},
   "outputs": [],
   "source": [
    "words = [\"playing\", \"apples\", \"mice\", \"bottles\", \"pens\", \"pen\", \"apple\"]"
   ]
  },
  {
   "cell_type": "code",
   "execution_count": 4,
   "id": "98cd02be-6ceb-4597-91e6-6495794d2ed3",
   "metadata": {},
   "outputs": [
    {
     "name": "stdout",
     "output_type": "stream",
     "text": [
      "word = playing, base form = play\n",
      "word = apples, base form = appl\n",
      "word = mice, base form = mice\n",
      "word = bottles, base form = bottl\n",
      "word = pens, base form = pen\n",
      "word = pen, base form = pen\n",
      "word = apple, base form = appl\n"
     ]
    }
   ],
   "source": [
    "from nltk.stem import PorterStemmer\n",
    "\n",
    "# create a stemmer\n",
    "stemmer = PorterStemmer()\n",
    "\n",
    "# stem the words\n",
    "for word in words:\n",
    "    print(f\"word = {word}, base form = {stemmer.stem(word)}\")"
   ]
  },
  {
   "cell_type": "markdown",
   "id": "3c46d1f7-a71c-4a1c-b055-402d256dd082",
   "metadata": {},
   "source": []
  },
  {
   "cell_type": "markdown",
   "id": "025d169e-684b-4c67-b214-284c1a8940d5",
   "metadata": {},
   "source": [
    "## Lemmatization"
   ]
  },
  {
   "cell_type": "code",
   "execution_count": 7,
   "id": "8f4a0e8e-0aeb-4306-ae96-c74e5058fd93",
   "metadata": {},
   "outputs": [
    {
     "name": "stdout",
     "output_type": "stream",
     "text": [
      "word = playing, base form = playing\n",
      "word = apples, base form = apple\n",
      "word = mice, base form = mouse\n",
      "word = bottles, base form = bottle\n",
      "word = pens, base form = pen\n",
      "word = pen, base form = pen\n",
      "word = apple, base form = apple\n"
     ]
    }
   ],
   "source": [
    "from nltk import WordNetLemmatizer\n",
    "\n",
    "# create a lemmatizer\n",
    "lemmatizer = WordNetLemmatizer()\n",
    "\n",
    "# lemmatize the words\n",
    "for word in words:\n",
    "    print(f\"word = {word}, base form = {lemmatizer.lemmatize(word)}\")\n"
   ]
  },
  {
   "cell_type": "code",
   "execution_count": 8,
   "id": "68fd9dff-6849-4f55-9e49-9489e1d9ae05",
   "metadata": {},
   "outputs": [
    {
     "data": {
      "text/plain": [
       "'play'"
      ]
     },
     "execution_count": 8,
     "metadata": {},
     "output_type": "execute_result"
    }
   ],
   "source": [
    "lemmatizer.lemmatize('playing', 'v')"
   ]
  },
  {
   "cell_type": "code",
   "execution_count": null,
   "id": "6fd2c003-7e77-4488-8ebd-9919eaeef289",
   "metadata": {},
   "outputs": [],
   "source": []
  }
 ],
 "metadata": {
  "kernelspec": {
   "display_name": "Python 3 (ipykernel)",
   "language": "python",
   "name": "python3"
  },
  "language_info": {
   "codemirror_mode": {
    "name": "ipython",
    "version": 3
   },
   "file_extension": ".py",
   "mimetype": "text/x-python",
   "name": "python",
   "nbconvert_exporter": "python",
   "pygments_lexer": "ipython3",
   "version": "3.11.9"
  }
 },
 "nbformat": 4,
 "nbformat_minor": 5
}
