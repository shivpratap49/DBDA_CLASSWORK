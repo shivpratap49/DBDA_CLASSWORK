{
 "cells": [
  {
   "cell_type": "markdown",
   "id": "a8d092d8-5831-4ee1-bc72-53dad0d162cd",
   "metadata": {},
   "source": [
    "# CNN"
   ]
  },
  {
   "cell_type": "markdown",
   "id": "057a032b-d634-4ec8-96ce-7a3683091a23",
   "metadata": {},
   "source": [
    "## problem definition\n",
    "predict a type of clothing item"
   ]
  },
  {
   "cell_type": "markdown",
   "id": "79a2ca65-9d02-4852-9b71-a511a411592b",
   "metadata": {},
   "source": [
    "### pre-requisites"
   ]
  },
  {
   "cell_type": "code",
   "execution_count": 2,
   "id": "b05a7548-9c55-4854-a074-a3f8426a6c37",
   "metadata": {},
   "outputs": [],
   "source": [
    "import warnings\n",
    "warnings.filterwarnings(action='ignore')"
   ]
  },
  {
   "cell_type": "markdown",
   "id": "9148f24e-3812-472c-b450-3988d304f376",
   "metadata": {},
   "source": [
    "### import required packages"
   ]
  },
  {
   "cell_type": "code",
   "execution_count": 3,
   "id": "59a89e31-6674-45ad-b513-47e53f47cedc",
   "metadata": {},
   "outputs": [],
   "source": [
    "import numpy as np\n",
    "import pandas as pd\n",
    "import matplotlib.pyplot as plt\n",
    "import seaborn as sns\n",
    "import tensorflow as tf"
   ]
  },
  {
   "cell_type": "markdown",
   "id": "0ce035e1-8dd5-4f61-a0a2-835f29e71bde",
   "metadata": {},
   "source": [
    "### load the data"
   ]
  },
  {
   "cell_type": "code",
   "execution_count": 5,
   "id": "acecd6af-c756-4d86-a5d1-9d8a65cc253d",
   "metadata": {},
   "outputs": [],
   "source": [
    "from tensorflow.keras.datasets import fashion_mnisto\n",
    "\n",
    "# load the fashion mnist data from tensorflow\n",
    "(train_images, train_labels), (test_images, test_labels) = fashion_mnist.load_data()"
   ]
  },
  {
   "cell_type": "code",
   "execution_count": 9,
   "id": "3a2f00d4-9eea-4636-be1c-36f601ee149d",
   "metadata": {},
   "outputs": [
    {
     "data": {
      "text/plain": [
       "(60000, 28, 28)"
      ]
     },
     "execution_count": 9,
     "metadata": {},
     "output_type": "execute_result"
    }
   ],
   "source": [
    "train_images.shape"
   ]
  },
  {
   "cell_type": "code",
   "execution_count": 18,
   "id": "bf7c6cf9-2746-4292-99ac-902cd324e9f4",
   "metadata": {},
   "outputs": [],
   "source": [
    "# create a labels array\n",
    "class_names = ['T-shirt/top', 'Trouser', 'Pullover', 'Dress', 'Coat',\n",
    "               'Sandal', 'Shirt', 'Sneaker', 'Bag', 'Ankle boot']"
   ]
  },
  {
   "cell_type": "code",
   "execution_count": 28,
   "id": "a13c2144-b627-4259-ac15-662e649b6700",
   "metadata": {},
   "outputs": [],
   "source": [
    "def render_train_image(index):\n",
    "    plt.figure(figsize=(2, 2))\n",
    "    plt.imshow(train_images[index])\n",
    "    class_name = class_names[train_labels[index]]\n",
    "    plt.title(class_name)"
   ]
  },
  {
   "cell_type": "code",
   "execution_count": 29,
   "id": "a3ca34b8-4e1b-4ce9-87e4-1b6f65d552d8",
   "metadata": {},
   "outputs": [
    {
     "data": {
      "image/png": "[encoded data removed]",
      "text/plain": [
       "<Figure size 200x200 with 1 Axes>"
      ]
     },
     "metadata": {},
     "output_type": "display_data"
    }
   ],
   "source": [
    "render_train_image(1)"
   ]
  },
  {
   "cell_type": "markdown",
   "id": "f4eaafd6-17fa-4148-928b-5a9ce16dcf54",
   "metadata": {},
   "source": [
    "### pre-processing"
   ]
  },
  {
   "cell_type": "code",
   "execution_count": 33,
   "id": "28aa7341-43d1-492c-89a0-2d899abfc58a",
   "metadata": {},
   "outputs": [],
   "source": [
    "# normalizing the data\n",
    "train_images = train_images / 255.0\n",
    "test_images = test_images / 255.0"
   ]
  },
  {
   "cell_type": "markdown",
   "id": "3f32eba5-90f4-4a4a-ac12-1ea3daf55995",
   "metadata": {},
   "source": [
    "### traing the model"
   ]
  },
  {
   "cell_type": "code",
   "execution_count": 39,
   "id": "2aeb22e2-f739-4001-8b39-ebe069234199",
   "metadata": {},
   "outputs": [
    {
     "name": "stderr",
     "output_type": "stream",
     "text": [
      "WARNING:absl:At this time, the v2.11+ optimizer `tf.keras.optimizers.Adam` runs slowly on M1/M2 Macs, please use the legacy Keras optimizer instead, located at `tf.keras.optimizers.legacy.Adam`.\n"
     ]
    }
   ],
   "source": [
    "from tensorflow.keras import Sequential\n",
    "from tensorflow.keras.layers import Dense, Flatten\n",
    "\n",
    "# create a model\n",
    "model = Sequential()\n",
    "\n",
    "# add CNN flatten layer\n",
    "model.add(Flatten(input_shape=[28, 28]))\n",
    "\n",
    "# add the ANN hidden layer\n",
    "model.add(Dense(units=128, activation=\"relu\"))\n",
    "\n",
    "# add the output layer\n",
    "# since this is a multi-label classification, no of neurons needed in output layer = 10\n",
    "model.add(Dense(units=10, activation=\"softmax\"))\n",
    "\n",
    "# initialize the model\n",
    "optimizer = tf.optimizers.Adam()\n",
    "loss_function = tf.losses.SparseCategoricalCrossentropy()\n",
    "model.compile(loss=loss_function, optimizer=optimizer, metrics=[\"accuracy\"])"
   ]
  },
  {
   "cell_type": "code",
   "execution_count": 40,
   "id": "7f693673-1969-4353-bff0-4404a4f2d7fc",
   "metadata": {},
   "outputs": [
    {
     "name": "stdout",
     "output_type": "stream",
     "text": [
      "Epoch 1/10\n",
      "1875/1875 [==============================] - 2s 773us/step - loss: 0.5001 - accuracy: 0.8235\n",
      "Epoch 2/10\n",
      "1875/1875 [==============================] - 1s 763us/step - loss: 0.3747 - accuracy: 0.8651\n",
      "Epoch 3/10\n",
      "1875/1875 [==============================] - 1s 771us/step - loss: 0.3371 - accuracy: 0.8763\n",
      "Epoch 4/10\n",
      "1875/1875 [==============================] - 1s 750us/step - loss: 0.3122 - accuracy: 0.8850\n",
      "Epoch 5/10\n",
      "1875/1875 [==============================] - 1s 754us/step - loss: 0.2954 - accuracy: 0.8903\n",
      "Epoch 6/10\n",
      "1875/1875 [==============================] - 1s 769us/step - loss: 0.2803 - accuracy: 0.8967\n",
      "Epoch 7/10\n",
      "1875/1875 [==============================] - 2s 800us/step - loss: 0.2694 - accuracy: 0.8992\n",
      "Epoch 8/10\n",
      "1875/1875 [==============================] - 1s 783us/step - loss: 0.2575 - accuracy: 0.9049\n",
      "Epoch 9/10\n",
      "1875/1875 [==============================] - 1s 766us/step - loss: 0.2480 - accuracy: 0.9073\n",
      "Epoch 10/10\n",
      "1875/1875 [==============================] - 1s 773us/step - loss: 0.2396 - accuracy: 0.9110\n"
     ]
    },
    {
     "data": {
      "text/plain": [
       "<keras.src.callbacks.History at 0x15d315c50>"
      ]
     },
     "execution_count": 40,
     "metadata": {},
     "output_type": "execute_result"
    }
   ],
   "source": [
    "# build the model\n",
    "model.fit(train_images, train_labels, epochs=10)"
   ]
  },
  {
   "cell_type": "markdown",
   "id": "d022c282-86b7-4e3d-a325-456e31077922",
   "metadata": {},
   "source": [
    "### model prediction"
   ]
  },
  {
   "cell_type": "code",
   "execution_count": 42,
   "id": "d1d802e5-73b7-4092-ab42-aec3e26e9828",
   "metadata": {},
   "outputs": [
    {
     "name": "stdout",
     "output_type": "stream",
     "text": [
      "313/313 [==============================] - 0s 294us/step\n"
     ]
    }
   ],
   "source": [
    "predictions = model.predict(test_images)"
   ]
  },
  {
   "cell_type": "code",
   "execution_count": 65,
   "id": "f5eab096-5544-4ce3-b65e-c0bab12090c6",
   "metadata": {},
   "outputs": [
    {
     "name": "stdout",
     "output_type": "stream",
     "text": [
      "predicted class = 7, observed class = 5\n"
     ]
    },
    {
     "data": {
      "image/png": "[encoded data removed]",
      "text/plain": [
       "<Figure size 200x200 with 1 Axes>"
      ]
     },
     "metadata": {},
     "output_type": "display_data"
    }
   ],
   "source": [
    "def predict_test_image(index):\n",
    "    prediction_at_index = predictions[index]\n",
    "    max_probability = np.max(prediction_at_index)\n",
    "    plt.figure(figsize=(2, 2))\n",
    "    plt.imshow(test_images[index])\n",
    "    final_class = 0\n",
    "    for tmp_index in range(len(class_names)):\n",
    "        if prediction_at_index[tmp_index] == max_probability:\n",
    "            final_class = tmp_index\n",
    "            break\n",
    "    class_name = class_names[final_class]\n",
    "    print(f\"predicted class = {final_class}, observed class = {test_labels[index]}\")\n",
    "    plt.title(class_name)\n",
    "\n",
    "predict_test_image(902)"
   ]
  },
  {
   "cell_type": "code",
   "execution_count": null,
   "id": "834b9cae-5faa-406e-ac65-15a702c48599",
   "metadata": {},
   "outputs": [],
   "source": []
  }
 ],
 "metadata": {
  "kernelspec": {
   "display_name": "Python 3 (ipykernel)",
   "language": "python",
   "name": "python3"
  },
  "language_info": {
   "codemirror_mode": {
    "name": "ipython",
    "version": 3
   },
   "file_extension": ".py",
   "mimetype": "text/x-python",
   "name": "python",
   "nbconvert_exporter": "python",
   "pygments_lexer": "ipython3",
   "version": "3.11.9"
  }
 },
 "nbformat": 4,
 "nbformat_minor": 5
}
