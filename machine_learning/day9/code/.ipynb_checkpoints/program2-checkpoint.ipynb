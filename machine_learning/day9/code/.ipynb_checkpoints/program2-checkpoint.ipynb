{
 "cells": [
  {
   "cell_type": "markdown",
   "id": "f75c2a47-4326-47b6-b15e-59f54005cb34",
   "metadata": {},
   "source": [
    "# classification"
   ]
  },
  {
   "cell_type": "markdown",
   "id": "909b8cf6-44e4-4e20-a790-6d59c214cf20",
   "metadata": {},
   "source": [
    "## problem definition\n",
    "- predict if a patient will suffer with hearing disabilities"
   ]
  },
  {
   "cell_type": "markdown",
   "id": "8844c05c-f42c-4cdc-9010-bb1d8fd6267c",
   "metadata": {},
   "source": [
    "### pre-requisites"
   ]
  },
  {
   "cell_type": "code",
   "execution_count": 1,
   "id": "b94d531c-da96-49c8-b8a5-b0d0ab890159",
   "metadata": {},
   "outputs": [],
   "source": [
    "import warnings\n",
    "\n",
    "warnings.filterwarnings(action='ignore')"
   ]
  },
  {
   "cell_type": "markdown",
   "id": "8af2dc4f-4a3e-4e70-b095-519934e069da",
   "metadata": {},
   "source": [
    "### import required packages"
   ]
  },
  {
   "cell_type": "code",
   "execution_count": 2,
   "id": "ec8b2800-f288-4662-afe1-c2db1f3110cd",
   "metadata": {},
   "outputs": [],
   "source": [
    "import numpy as np\n",
    "import pandas as pd\n",
    "import matplotlib.pyplot as plt\n",
    "import seaborn as sns"
   ]
  },
  {
   "cell_type": "markdown",
   "id": "e14c3a21-189b-4d9e-a241-548b6f365de5",
   "metadata": {},
   "source": [
    "### load the data"
   ]
  },
  {
   "cell_type": "code",
   "execution_count": 3,
   "id": "eb1bbf0c-70b4-4f7e-8621-73fe25c2a67c",
   "metadata": {},
   "outputs": [
    {
     "data": {
      "text/html": [
       "<div>\n",
       "<style scoped>\n",
       "    .dataframe tbody tr th:only-of-type {\n",
       "        vertical-align: middle;\n",
       "    }\n",
       "\n",
       "    .dataframe tbody tr th {\n",
       "        vertical-align: top;\n",
       "    }\n",
       "\n",
       "    .dataframe thead th {\n",
       "        text-align: right;\n",
       "    }\n",
       "</style>\n",
       "<table border=\"1\" class=\"dataframe\">\n",
       "  <thead>\n",
       "    <tr style=\"text-align: right;\">\n",
       "      <th></th>\n",
       "      <th>age</th>\n",
       "      <th>physical_score</th>\n",
       "      <th>test_result</th>\n",
       "    </tr>\n",
       "  </thead>\n",
       "  <tbody>\n",
       "    <tr>\n",
       "      <th>0</th>\n",
       "      <td>33.0</td>\n",
       "      <td>40.7</td>\n",
       "      <td>1</td>\n",
       "    </tr>\n",
       "    <tr>\n",
       "      <th>1</th>\n",
       "      <td>50.0</td>\n",
       "      <td>37.2</td>\n",
       "      <td>1</td>\n",
       "    </tr>\n",
       "    <tr>\n",
       "      <th>2</th>\n",
       "      <td>52.0</td>\n",
       "      <td>24.7</td>\n",
       "      <td>0</td>\n",
       "    </tr>\n",
       "    <tr>\n",
       "      <th>3</th>\n",
       "      <td>56.0</td>\n",
       "      <td>31.0</td>\n",
       "      <td>0</td>\n",
       "    </tr>\n",
       "    <tr>\n",
       "      <th>4</th>\n",
       "      <td>35.0</td>\n",
       "      <td>42.9</td>\n",
       "      <td>1</td>\n",
       "    </tr>\n",
       "  </tbody>\n",
       "</table>\n",
       "</div>"
      ],
      "text/plain": [
       "    age  physical_score  test_result\n",
       "0  33.0            40.7            1\n",
       "1  50.0            37.2            1\n",
       "2  52.0            24.7            0\n",
       "3  56.0            31.0            0\n",
       "4  35.0            42.9            1"
      ]
     },
     "execution_count": 3,
     "metadata": {},
     "output_type": "execute_result"
    }
   ],
   "source": [
    "df = pd.read_csv('hearing_test.csv')\n",
    "df.head()"
   ]
  },
  {
   "cell_type": "markdown",
   "id": "6bebd6e6-774c-4223-b132-5e60a4b287f7",
   "metadata": {},
   "source": [
    "### EDA"
   ]
  },
  {
   "cell_type": "code",
   "execution_count": 4,
   "id": "21898ca8-e5f1-4d3f-aeb8-ca3a00cbdfc4",
   "metadata": {},
   "outputs": [
    {
     "name": "stdout",
     "output_type": "stream",
     "text": [
      "<class 'pandas.core.frame.DataFrame'>\n",
      "RangeIndex: 5000 entries, 0 to 4999\n",
      "Data columns (total 3 columns):\n",
      " #   Column          Non-Null Count  Dtype  \n",
      "---  ------          --------------  -----  \n",
      " 0   age             5000 non-null   float64\n",
      " 1   physical_score  5000 non-null   float64\n",
      " 2   test_result     5000 non-null   int64  \n",
      "dtypes: float64(2), int64(1)\n",
      "memory usage: 117.3 KB\n"
     ]
    }
   ],
   "source": [
    "df.info()"
   ]
  },
  {
   "cell_type": "code",
   "execution_count": 5,
   "id": "d58d1d18-9104-4011-a8df-6dc0ebb5e9d7",
   "metadata": {},
   "outputs": [
    {
     "data": {
      "text/plain": [
       "age               0\n",
       "physical_score    0\n",
       "test_result       0\n",
       "dtype: int64"
      ]
     },
     "execution_count": 5,
     "metadata": {},
     "output_type": "execute_result"
    }
   ],
   "source": [
    "df.isna().sum()"
   ]
  },
  {
   "cell_type": "code",
   "execution_count": 6,
   "id": "bc92688a-918e-425b-a7c0-10ec582bd0fa",
   "metadata": {},
   "outputs": [
    {
     "data": {
      "text/plain": [
       "test_result\n",
       "1    3000\n",
       "0    2000\n",
       "Name: count, dtype: int64"
      ]
     },
     "execution_count": 6,
     "metadata": {},
     "output_type": "execute_result"
    }
   ],
   "source": [
    "df['test_result'].value_counts()"
   ]
  },
  {
   "cell_type": "markdown",
   "id": "416834e5-1d2f-4d29-9891-ee5fe866b9d1",
   "metadata": {},
   "source": [
    "### pre-processing"
   ]
  },
  {
   "cell_type": "code",
   "execution_count": 7,
   "id": "05600fe4-1ba2-458f-ad74-3dd177ebef25",
   "metadata": {},
   "outputs": [],
   "source": [
    "# split the data into x and y\n",
    "x = df.drop('test_result', axis=1)\n",
    "y = df['test_result']"
   ]
  },
  {
   "cell_type": "code",
   "execution_count": 8,
   "id": "52be4426-41ac-4ecb-a33f-1aac9eff314e",
   "metadata": {},
   "outputs": [],
   "source": [
    "# split the data into train and test\n",
    "from sklearn.model_selection import train_test_split\n",
    "\n",
    "x_train, x_test, y_train, y_test = train_test_split(x, y, train_size=0.7, random_state=123456)"
   ]
  },
  {
   "cell_type": "markdown",
   "id": "5f824787-03cb-4edc-879b-46d105b2ae76",
   "metadata": {},
   "source": [
    "### train the models"
   ]
  },
  {
   "cell_type": "markdown",
   "id": "bf249565-684d-45be-96ee-f043538749df",
   "metadata": {},
   "source": [
    "#### Logistic regression"
   ]
  },
  {
   "cell_type": "code",
   "execution_count": 10,
   "id": "9b73f047-74d1-41f9-9aeb-cfdcc8131de1",
   "metadata": {},
   "outputs": [],
   "source": [
    "from sklearn.linear_model import LogisticRegression\n",
    "\n",
    "def create_model_logistic_regression():\n",
    "    # create the model\n",
    "    model = LogisticRegression(max_iter=1000)\n",
    "    \n",
    "    # train the model\n",
    "    model.fit(x_train, y_train)\n",
    "\n",
    "    return model"
   ]
  },
  {
   "cell_type": "markdown",
   "id": "d83f92a8-415f-4781-bb48-b643f9b967d0",
   "metadata": {},
   "source": [
    "#### Naive Bayes"
   ]
  },
  {
   "cell_type": "code",
   "execution_count": 11,
   "id": "4e7d968d-1c10-48d7-922a-630b30096b65",
   "metadata": {},
   "outputs": [],
   "source": [
    "from sklearn.naive_bayes import GaussianNB\n",
    "\n",
    "def create_model_naive_bayes():\n",
    "    # create the model\n",
    "    model = GaussianNB()\n",
    "    \n",
    "    # train the model\n",
    "    model.fit(x_train, y_train)\n",
    "\n",
    "    return model"
   ]
  },
  {
   "cell_type": "markdown",
   "id": "bb4636d7-7378-49a4-b5ff-3231d45f06bd",
   "metadata": {},
   "source": [
    "#### KNN"
   ]
  },
  {
   "cell_type": "code",
   "execution_count": 12,
   "id": "ad5a2cb2-09e2-478b-aa69-57519588a20b",
   "metadata": {},
   "outputs": [],
   "source": [
    "from sklearn.neighbors import KNeighborsClassifier\n",
    "\n",
    "def create_model_knn():\n",
    "    # create the model\n",
    "    model = KNeighborsClassifier(n_neighbors=5)\n",
    "    \n",
    "    # train the model\n",
    "    model.fit(x_train, y_train)\n",
    "\n",
    "    return model"
   ]
  },
  {
   "cell_type": "markdown",
   "id": "932d9233-f0a0-4a1c-83b0-553d4503c3c9",
   "metadata": {},
   "source": [
    "#### SVM"
   ]
  },
  {
   "cell_type": "code",
   "execution_count": 13,
   "id": "4e3bb563-8f9e-406b-a35b-c90de992e693",
   "metadata": {},
   "outputs": [],
   "source": [
    "from sklearn.svm import SVC\n",
    "\n",
    "def create_model_svm():\n",
    "    # create the model\n",
    "    model = SVC()\n",
    "    \n",
    "    # train the model\n",
    "    model.fit(x_train, y_train)\n",
    "\n",
    "    return model"
   ]
  },
  {
   "cell_type": "markdown",
   "id": "6423d97a-03de-43b3-b205-c01f541c5272",
   "metadata": {},
   "source": [
    "#### Decision tree"
   ]
  },
  {
   "cell_type": "code",
   "execution_count": 14,
   "id": "7fc3e2f2-8301-42aa-9318-324f43c831c8",
   "metadata": {},
   "outputs": [],
   "source": [
    "from sklearn.tree import DecisionTreeClassifier\n",
    "\n",
    "def create_model_decision_tree():\n",
    "    # create the model\n",
    "    model = DecisionTreeClassifier()\n",
    "    \n",
    "    # train the model\n",
    "    model.fit(x_train, y_train)\n",
    "\n",
    "    return model"
   ]
  },
  {
   "cell_type": "markdown",
   "id": "47c7cac0-8370-43c3-89be-8ce516dbce37",
   "metadata": {},
   "source": [
    "### model evaluation"
   ]
  },
  {
   "cell_type": "code",
   "execution_count": 15,
   "id": "81e6a86f-2073-476d-a2ba-82d82bd2c8e2",
   "metadata": {},
   "outputs": [],
   "source": [
    "from sklearn.metrics import accuracy_score, precision_score, recall_score, f1_score\n",
    "\n",
    "def evaluate_model(model):\n",
    "    # get the predictions\n",
    "    y_pred = model.predict(x_test)\n",
    "    y_true = y_test\n",
    "\n",
    "    # get the metrics\n",
    "    accuracy = accuracy_score(y_true, y_pred)\n",
    "    precision = precision_score(y_true, y_pred)\n",
    "    recall = recall_score(y_true, y_pred)\n",
    "    f1 = f1_score(y_true, y_pred)\n",
    "\n",
    "    return accuracy, precision, recall, f1"
   ]
  },
  {
   "cell_type": "markdown",
   "id": "09726a16-d1e1-4f83-b152-4cc3e7e99411",
   "metadata": {},
   "source": [
    "### performance chart"
   ]
  },
  {
   "cell_type": "code",
   "execution_count": 20,
   "id": "218869b0-0230-42d8-865d-7053e3a5da24",
   "metadata": {},
   "outputs": [],
   "source": [
    "# collection of models\n",
    "models = [\n",
    "    (\"Logistic Regression\", create_model_logistic_regression(), (0, 0)),\n",
    "    (\"Naive Bayes\", create_model_naive_bayes(), (0, 1)),\n",
    "    (\"KNN\", create_model_knn(), (1, 0)),\n",
    "    (\"SVM\", create_model_svm(), (1, 1)),\n",
    "    (\"Decision Tree\", create_model_decision_tree(), (2, 0))\n",
    "]"
   ]
  },
  {
   "cell_type": "code",
   "execution_count": 21,
   "id": "324ab568-8962-4813-a3ca-7f7fd1fb8565",
   "metadata": {},
   "outputs": [
    {
     "data": {
      "text/html": [
       "<div>\n",
       "<style scoped>\n",
       "    .dataframe tbody tr th:only-of-type {\n",
       "        vertical-align: middle;\n",
       "    }\n",
       "\n",
       "    .dataframe tbody tr th {\n",
       "        vertical-align: top;\n",
       "    }\n",
       "\n",
       "    .dataframe thead th {\n",
       "        text-align: right;\n",
       "    }\n",
       "</style>\n",
       "<table border=\"1\" class=\"dataframe\">\n",
       "  <thead>\n",
       "    <tr style=\"text-align: right;\">\n",
       "      <th></th>\n",
       "      <th>Model Name</th>\n",
       "      <th>Accuracy</th>\n",
       "      <th>Precision</th>\n",
       "      <th>Recall</th>\n",
       "      <th>F1</th>\n",
       "    </tr>\n",
       "  </thead>\n",
       "  <tbody>\n",
       "    <tr>\n",
       "      <th>0</th>\n",
       "      <td>Logistic Regression</td>\n",
       "      <td>0.912667</td>\n",
       "      <td>0.910901</td>\n",
       "      <td>0.949727</td>\n",
       "      <td>0.929909</td>\n",
       "    </tr>\n",
       "    <tr>\n",
       "      <th>1</th>\n",
       "      <td>Naive Bayes</td>\n",
       "      <td>0.915333</td>\n",
       "      <td>0.925486</td>\n",
       "      <td>0.936612</td>\n",
       "      <td>0.931016</td>\n",
       "    </tr>\n",
       "    <tr>\n",
       "      <th>2</th>\n",
       "      <td>KNN</td>\n",
       "      <td>0.922667</td>\n",
       "      <td>0.920969</td>\n",
       "      <td>0.955191</td>\n",
       "      <td>0.937768</td>\n",
       "    </tr>\n",
       "    <tr>\n",
       "      <th>3</th>\n",
       "      <td>SVM</td>\n",
       "      <td>0.924000</td>\n",
       "      <td>0.913313</td>\n",
       "      <td>0.967213</td>\n",
       "      <td>0.939490</td>\n",
       "    </tr>\n",
       "    <tr>\n",
       "      <th>4</th>\n",
       "      <td>Decision Tree</td>\n",
       "      <td>0.877333</td>\n",
       "      <td>0.912994</td>\n",
       "      <td>0.883060</td>\n",
       "      <td>0.897778</td>\n",
       "    </tr>\n",
       "  </tbody>\n",
       "</table>\n",
       "</div>"
      ],
      "text/plain": [
       "            Model Name  Accuracy  Precision    Recall        F1\n",
       "0  Logistic Regression  0.912667   0.910901  0.949727  0.929909\n",
       "1          Naive Bayes  0.915333   0.925486  0.936612  0.931016\n",
       "2                  KNN  0.922667   0.920969  0.955191  0.937768\n",
       "3                  SVM  0.924000   0.913313  0.967213  0.939490\n",
       "4        Decision Tree  0.877333   0.912994  0.883060  0.897778"
      ]
     },
     "execution_count": 21,
     "metadata": {},
     "output_type": "execute_result"
    }
   ],
   "source": [
    "# collect all model's performances\n",
    "performance_chart_data = []\n",
    "for item in models:\n",
    "    # item[0] => model name\n",
    "    # item[1] => model\n",
    "    \n",
    "    accuracy, precision, recall, f1 = evaluate_model(item[1])\n",
    "    performance_chart_data.append([item[0], accuracy, precision, recall, f1])\n",
    "\n",
    "performance_chart = pd.DataFrame(performance_chart_data, \n",
    "                     columns=[\"Model Name\", \"Accuracy\", \"Precision\", \"Recall\", \"F1\"])\n",
    "performance_chart"
   ]
  },
  {
   "cell_type": "markdown",
   "id": "19affb4a-8686-46c6-821a-77111d568dbc",
   "metadata": {},
   "source": [
    "### result visualization"
   ]
  },
  {
   "cell_type": "code",
   "execution_count": 30,
   "id": "d9cb7d7e-2b8b-44b0-babd-4534d8ee5e07",
   "metadata": {},
   "outputs": [
    {
     "data": {
      "image/png": "[encoded data removed]",
      "text/plain": [
       "<Figure size 640x480 with 6 Axes>"
      ]
     },
     "metadata": {},
     "output_type": "display_data"
    }
   ],
   "source": [
    "# create sub plots with 3 rows and 2 columns\n",
    "fig, axs = plt.subplots(3, 2)\n",
    "\n",
    "# create classification visualization for all models\n",
    "for model_name, model, position in models:\n",
    "    # item[0] = model name\n",
    "    # item[1] = model\n",
    "    # item[2] = chart position\n",
    "\n",
    "    # get the predictions\n",
    "    y_pred = model.predict(x_test)\n",
    "    y_true = y_test\n",
    "    \n",
    "    axs[position[0], position[1]].scatter(\n",
    "        x_test['age'][y_pred == 0], \n",
    "        x_test['physical_score'][y_pred == 0],\n",
    "        color=\"green\", label=\"Wont suffer\")\n",
    "\n",
    "    axs[position[0], position[1]].scatter(\n",
    "        x_test['age'][y_pred == 1], \n",
    "        x_test['physical_score'][y_pred == 1],\n",
    "        color=\"red\", label=\"Will Suffer\")\n",
    "    # plt.xlabel('age')\n",
    "    # plt.ylabel('physical score')\n",
    "    axs[position[0], position[1]].set_title(model_name)\n",
    "    axs[position[0], position[1]].set(xlabel=\"Age\", ylabel=\"Physical Score\")"
   ]
  },
  {
   "cell_type": "code",
   "execution_count": null,
   "id": "ac0c61fd-2fb4-420e-92cf-d3df1931b0ec",
   "metadata": {},
   "outputs": [],
   "source": []
  }
 ],
 "metadata": {
  "kernelspec": {
   "display_name": "Python 3 (ipykernel)",
   "language": "python",
   "name": "python3"
  },
  "language_info": {
   "codemirror_mode": {
    "name": "ipython",
    "version": 3
   },
   "file_extension": ".py",
   "mimetype": "text/x-python",
   "name": "python",
   "nbconvert_exporter": "python",
   "pygments_lexer": "ipython3",
   "version": "3.11.9"
  }
 },
 "nbformat": 4,
 "nbformat_minor": 5
}
