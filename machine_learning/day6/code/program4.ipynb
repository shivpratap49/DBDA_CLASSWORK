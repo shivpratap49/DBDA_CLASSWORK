{
 "cells": [
  {
   "cell_type": "markdown",
   "id": "45241930-3576-4fb2-a708-67a2a7d60f91",
   "metadata": {},
   "source": [
    "# Stepwise Regression"
   ]
  },
  {
   "cell_type": "markdown",
   "id": "eb260d73-02d1-4727-bb47-c14e9e3c31dd",
   "metadata": {},
   "source": [
    "## problem definition\n",
    "- select the important features from set of features available in the data set"
   ]
  },
  {
   "cell_type": "markdown",
   "id": "9401daa4-bec6-452c-83e1-2044629cceea",
   "metadata": {},
   "source": [
    "### import required packages"
   ]
  },
  {
   "cell_type": "code",
   "execution_count": 1,
   "id": "b696ffd2-4fd6-4bc4-a284-a7395c55a6e4",
   "metadata": {},
   "outputs": [],
   "source": [
    "import numpy as np\n",
    "import pandas as pd\n",
    "import matplotlib.pyplot as plt\n",
    "import seaborn as sns"
   ]
  },
  {
   "cell_type": "markdown",
   "id": "49674912-c518-4eb6-95d2-d12777f5257d",
   "metadata": {},
   "source": [
    "### load the data"
   ]
  },
  {
   "cell_type": "code",
   "execution_count": 2,
   "id": "1884a78e-43ca-4c1a-b74a-47456e144607",
   "metadata": {},
   "outputs": [
    {
     "data": {
      "text/html": [
       "<div>\n",
       "<style scoped>\n",
       "    .dataframe tbody tr th:only-of-type {\n",
       "        vertical-align: middle;\n",
       "    }\n",
       "\n",
       "    .dataframe tbody tr th {\n",
       "        vertical-align: top;\n",
       "    }\n",
       "\n",
       "    .dataframe thead th {\n",
       "        text-align: right;\n",
       "    }\n",
       "</style>\n",
       "<table border=\"1\" class=\"dataframe\">\n",
       "  <thead>\n",
       "    <tr style=\"text-align: right;\">\n",
       "      <th></th>\n",
       "      <th>TV</th>\n",
       "      <th>radio</th>\n",
       "      <th>newspaper</th>\n",
       "      <th>sales</th>\n",
       "    </tr>\n",
       "  </thead>\n",
       "  <tbody>\n",
       "    <tr>\n",
       "      <th>0</th>\n",
       "      <td>230.1</td>\n",
       "      <td>37.8</td>\n",
       "      <td>69.2</td>\n",
       "      <td>22.1</td>\n",
       "    </tr>\n",
       "    <tr>\n",
       "      <th>1</th>\n",
       "      <td>44.5</td>\n",
       "      <td>39.3</td>\n",
       "      <td>45.1</td>\n",
       "      <td>10.4</td>\n",
       "    </tr>\n",
       "    <tr>\n",
       "      <th>2</th>\n",
       "      <td>17.2</td>\n",
       "      <td>45.9</td>\n",
       "      <td>69.3</td>\n",
       "      <td>9.3</td>\n",
       "    </tr>\n",
       "    <tr>\n",
       "      <th>3</th>\n",
       "      <td>151.5</td>\n",
       "      <td>41.3</td>\n",
       "      <td>58.5</td>\n",
       "      <td>18.5</td>\n",
       "    </tr>\n",
       "    <tr>\n",
       "      <th>4</th>\n",
       "      <td>180.8</td>\n",
       "      <td>10.8</td>\n",
       "      <td>58.4</td>\n",
       "      <td>12.9</td>\n",
       "    </tr>\n",
       "  </tbody>\n",
       "</table>\n",
       "</div>"
      ],
      "text/plain": [
       "      TV  radio  newspaper  sales\n",
       "0  230.1   37.8       69.2   22.1\n",
       "1   44.5   39.3       45.1   10.4\n",
       "2   17.2   45.9       69.3    9.3\n",
       "3  151.5   41.3       58.5   18.5\n",
       "4  180.8   10.8       58.4   12.9"
      ]
     },
     "execution_count": 2,
     "metadata": {},
     "output_type": "execute_result"
    }
   ],
   "source": [
    "df = pd.read_csv('Advertising.csv')\n",
    "df.head()"
   ]
  },
  {
   "cell_type": "code",
   "execution_count": 19,
   "id": "f0c0902c-58e0-4498-8d65-e7926dac41ca",
   "metadata": {},
   "outputs": [
    {
     "data": {
      "text/plain": [
       "TV           0\n",
       "radio        0\n",
       "newspaper    0\n",
       "sales        0\n",
       "dtype: int64"
      ]
     },
     "execution_count": 19,
     "metadata": {},
     "output_type": "execute_result"
    }
   ],
   "source": [
    "df.isna().sum()"
   ]
  },
  {
   "cell_type": "markdown",
   "id": "6c4136f3-1c74-427e-9816-49d3aea57335",
   "metadata": {},
   "source": [
    "### pre-processing"
   ]
  },
  {
   "cell_type": "code",
   "execution_count": 3,
   "id": "78aa3d9e-5280-410a-8031-00840ce349ab",
   "metadata": {},
   "outputs": [],
   "source": [
    "# split the data into x and y\n",
    "x = df.drop('sales', axis=1)\n",
    "y = df['sales']"
   ]
  },
  {
   "cell_type": "markdown",
   "id": "c836bba0-ea5e-4718-aa4c-58d5449cc0aa",
   "metadata": {},
   "source": [
    "### forward selection method"
   ]
  },
  {
   "cell_type": "markdown",
   "id": "17087b4d-54ae-4983-b5cc-d210fe6968f7",
   "metadata": {},
   "source": [
    "- in this method, we will start with empty model and keep adding features one by one \n",
    "- we will make sure if the feature is required using test criterion (mae)"
   ]
  },
  {
   "cell_type": "code",
   "execution_count": 33,
   "id": "dd2ea577-d1da-484d-83d4-0ba9bbe6dbcf",
   "metadata": {},
   "outputs": [],
   "source": [
    "def stepwise_regression(x, y):\n",
    "    # get the LinearRegression class\n",
    "    from sklearn.linear_model import LinearRegression\n",
    "    from sklearn.metrics import mean_absolute_error\n",
    "    \n",
    "    # get the columns from x\n",
    "    columns = x.columns\n",
    "    \n",
    "    # create a list of selected columns\n",
    "    selected_columns = []\n",
    "    \n",
    "    # create an empty data set\n",
    "    new_x = pd.DataFrame()\n",
    "    \n",
    "    # remember the last mae\n",
    "    last_mae = 0\n",
    "    \n",
    "    for column in columns:\n",
    "        # create a temporary df for model building\n",
    "        tmp_x = pd.DataFrame(x[column])\n",
    "        for tmp_column in selected_columns:\n",
    "            tmp_x[tmp_column] = x[tmp_column]\n",
    "    \n",
    "        # create a model using tmp_x and y\n",
    "        tmp_model = LinearRegression()\n",
    "        tmp_model.fit(tmp_x, y)\n",
    "    \n",
    "        # get the p-value (value of test criterion)\n",
    "        y_pred = tmp_model.predict(tmp_x)\n",
    "        y_true = y\n",
    "        mae = mean_absolute_error(y_true, y_pred)\n",
    "    \n",
    "        print(f\"last_mae = {last_mae}, mae = {mae}\")\n",
    "    \n",
    "        # check if this is the first feature\n",
    "        if last_mae == 0:\n",
    "            selected_columns.append(column)\n",
    "        else:\n",
    "            if last_mae > mae:\n",
    "                selected_columns.append(column)\n",
    "                last_mae = mae\n",
    "            else:\n",
    "                print(f\"since current mae is >= last_mase, {column} is not important\")\n",
    "        \n",
    "    \n",
    "    print(selected_columns)"
   ]
  },
  {
   "cell_type": "code",
   "execution_count": 26,
   "id": "d02eddeb-e327-4a3a-b9a2-de3d5701dc98",
   "metadata": {},
   "outputs": [
    {
     "name": "stdout",
     "output_type": "stream",
     "text": [
      "last_mae = 0, mae = 2.549806038927486\n",
      "last_mae = 2.549806038927486, mae = 1.2537471644234006\n",
      "last_mae = 1.2537471644234006, mae = 1.2520112296870682\n",
      "['TV', 'radio', 'newspaper']\n"
     ]
    }
   ],
   "source": [
    "stepwise_regression(x, y)"
   ]
  },
  {
   "cell_type": "code",
   "execution_count": null,
   "id": "a02a303c-e413-4d73-9773-4dc7d4e49101",
   "metadata": {},
   "outputs": [],
   "source": []
  },
  {
   "cell_type": "code",
   "execution_count": null,
   "id": "d1a12c1d-98a7-40ff-8a74-a70a7d7a9f67",
   "metadata": {},
   "outputs": [],
   "source": []
  },
  {
   "cell_type": "markdown",
   "id": "c734c4ea-0eca-43e5-b8f9-d01f3149ef3d",
   "metadata": {},
   "source": [
    "## Stepwise regression for fortune 1000 companies"
   ]
  },
  {
   "cell_type": "markdown",
   "id": "9265dd39-1838-4f0a-bb8f-f1e0194de81d",
   "metadata": {},
   "source": [
    "### load the data"
   ]
  },
  {
   "cell_type": "code",
   "execution_count": 27,
   "id": "8addad4b-5ca0-48aa-bdf3-e5aec4765e14",
   "metadata": {},
   "outputs": [
    {
     "data": {
      "text/html": [
       "<div>\n",
       "<style scoped>\n",
       "    .dataframe tbody tr th:only-of-type {\n",
       "        vertical-align: middle;\n",
       "    }\n",
       "\n",
       "    .dataframe tbody tr th {\n",
       "        vertical-align: top;\n",
       "    }\n",
       "\n",
       "    .dataframe thead th {\n",
       "        text-align: right;\n",
       "    }\n",
       "</style>\n",
       "<table border=\"1\" class=\"dataframe\">\n",
       "  <thead>\n",
       "    <tr style=\"text-align: right;\">\n",
       "      <th></th>\n",
       "      <th>Rank</th>\n",
       "      <th>Company</th>\n",
       "      <th>Sector</th>\n",
       "      <th>Industry</th>\n",
       "      <th>Location</th>\n",
       "      <th>Revenue</th>\n",
       "      <th>Profits</th>\n",
       "      <th>Employees</th>\n",
       "    </tr>\n",
       "  </thead>\n",
       "  <tbody>\n",
       "    <tr>\n",
       "      <th>0</th>\n",
       "      <td>1</td>\n",
       "      <td>Walmart</td>\n",
       "      <td>Retailing</td>\n",
       "      <td>General Merchandisers</td>\n",
       "      <td>Bentonville, AR</td>\n",
       "      <td>482130</td>\n",
       "      <td>14694</td>\n",
       "      <td>2300000</td>\n",
       "    </tr>\n",
       "    <tr>\n",
       "      <th>1</th>\n",
       "      <td>2</td>\n",
       "      <td>Exxon Mobil</td>\n",
       "      <td>Energy</td>\n",
       "      <td>Petroleum Refining</td>\n",
       "      <td>Irving, TX</td>\n",
       "      <td>246204</td>\n",
       "      <td>16150</td>\n",
       "      <td>75600</td>\n",
       "    </tr>\n",
       "    <tr>\n",
       "      <th>2</th>\n",
       "      <td>3</td>\n",
       "      <td>Apple</td>\n",
       "      <td>Technology</td>\n",
       "      <td>Computers, Office Equipment</td>\n",
       "      <td>Cupertino, CA</td>\n",
       "      <td>233715</td>\n",
       "      <td>53394</td>\n",
       "      <td>110000</td>\n",
       "    </tr>\n",
       "    <tr>\n",
       "      <th>3</th>\n",
       "      <td>4</td>\n",
       "      <td>Berkshire Hathaway</td>\n",
       "      <td>Financials</td>\n",
       "      <td>Insurance: Property and Casualty (Stock)</td>\n",
       "      <td>Omaha, NE</td>\n",
       "      <td>210821</td>\n",
       "      <td>24083</td>\n",
       "      <td>331000</td>\n",
       "    </tr>\n",
       "    <tr>\n",
       "      <th>4</th>\n",
       "      <td>5</td>\n",
       "      <td>McKesson</td>\n",
       "      <td>Health Care</td>\n",
       "      <td>Wholesalers: Health Care</td>\n",
       "      <td>San Francisco, CA</td>\n",
       "      <td>181241</td>\n",
       "      <td>1476</td>\n",
       "      <td>70400</td>\n",
       "    </tr>\n",
       "  </tbody>\n",
       "</table>\n",
       "</div>"
      ],
      "text/plain": [
       "   Rank             Company       Sector  \\\n",
       "0     1             Walmart    Retailing   \n",
       "1     2         Exxon Mobil       Energy   \n",
       "2     3               Apple   Technology   \n",
       "3     4  Berkshire Hathaway   Financials   \n",
       "4     5            McKesson  Health Care   \n",
       "\n",
       "                                   Industry           Location  Revenue  \\\n",
       "0                     General Merchandisers    Bentonville, AR   482130   \n",
       "1                        Petroleum Refining         Irving, TX   246204   \n",
       "2               Computers, Office Equipment      Cupertino, CA   233715   \n",
       "3  Insurance: Property and Casualty (Stock)          Omaha, NE   210821   \n",
       "4                  Wholesalers: Health Care  San Francisco, CA   181241   \n",
       "\n",
       "   Profits  Employees  \n",
       "0    14694    2300000  \n",
       "1    16150      75600  \n",
       "2    53394     110000  \n",
       "3    24083     331000  \n",
       "4     1476      70400  "
      ]
     },
     "execution_count": 27,
     "metadata": {},
     "output_type": "execute_result"
    }
   ],
   "source": [
    "df = pd.read_csv('fortune1000.csv')\n",
    "df.head()"
   ]
  },
  {
   "cell_type": "markdown",
   "id": "b8e95389-fa49-495b-9058-5d0dc72086fb",
   "metadata": {},
   "source": [
    "### pre-processing "
   ]
  },
  {
   "cell_type": "code",
   "execution_count": 28,
   "id": "10ac1259-44ab-487f-83af-8184e5821fe8",
   "metadata": {},
   "outputs": [],
   "source": [
    "# since the company and Rank columns are uniques values, drop them\n",
    "df.drop(['Rank', 'Company'], axis=1, inplace=True)"
   ]
  },
  {
   "cell_type": "code",
   "execution_count": 29,
   "id": "c724778b-db85-44dc-b15b-2da0d2de5a84",
   "metadata": {},
   "outputs": [],
   "source": [
    "# convert all qualitative columns to quantitative ones\n",
    "from sklearn.preprocessing import LabelEncoder\n",
    "\n",
    "# create encoders\n",
    "df['Sector'] = LabelEncoder().fit_transform(df['Sector'])\n",
    "df['Industry'] = LabelEncoder().fit_transform(df['Industry'])\n",
    "df['Location'] = LabelEncoder().fit_transform(df['Location'])"
   ]
  },
  {
   "cell_type": "code",
   "execution_count": 30,
   "id": "4ac76ca9-aacc-4d24-b4f9-71adb2341f17",
   "metadata": {},
   "outputs": [
    {
     "data": {
      "text/html": [
       "<div>\n",
       "<style scoped>\n",
       "    .dataframe tbody tr th:only-of-type {\n",
       "        vertical-align: middle;\n",
       "    }\n",
       "\n",
       "    .dataframe tbody tr th {\n",
       "        vertical-align: top;\n",
       "    }\n",
       "\n",
       "    .dataframe thead th {\n",
       "        text-align: right;\n",
       "    }\n",
       "</style>\n",
       "<table border=\"1\" class=\"dataframe\">\n",
       "  <thead>\n",
       "    <tr style=\"text-align: right;\">\n",
       "      <th></th>\n",
       "      <th>Sector</th>\n",
       "      <th>Industry</th>\n",
       "      <th>Location</th>\n",
       "      <th>Revenue</th>\n",
       "      <th>Profits</th>\n",
       "      <th>Employees</th>\n",
       "    </tr>\n",
       "  </thead>\n",
       "  <tbody>\n",
       "    <tr>\n",
       "      <th>0</th>\n",
       "      <td>16</td>\n",
       "      <td>26</td>\n",
       "      <td>23</td>\n",
       "      <td>482130</td>\n",
       "      <td>14694</td>\n",
       "      <td>2300000</td>\n",
       "    </tr>\n",
       "    <tr>\n",
       "      <th>1</th>\n",
       "      <td>4</td>\n",
       "      <td>50</td>\n",
       "      <td>174</td>\n",
       "      <td>246204</td>\n",
       "      <td>16150</td>\n",
       "      <td>75600</td>\n",
       "    </tr>\n",
       "    <tr>\n",
       "      <th>2</th>\n",
       "      <td>17</td>\n",
       "      <td>11</td>\n",
       "      <td>92</td>\n",
       "      <td>233715</td>\n",
       "      <td>53394</td>\n",
       "      <td>110000</td>\n",
       "    </tr>\n",
       "    <tr>\n",
       "      <th>3</th>\n",
       "      <td>6</td>\n",
       "      <td>39</td>\n",
       "      <td>279</td>\n",
       "      <td>210821</td>\n",
       "      <td>24083</td>\n",
       "      <td>331000</td>\n",
       "    </tr>\n",
       "    <tr>\n",
       "      <th>4</th>\n",
       "      <td>9</td>\n",
       "      <td>72</td>\n",
       "      <td>327</td>\n",
       "      <td>181241</td>\n",
       "      <td>1476</td>\n",
       "      <td>70400</td>\n",
       "    </tr>\n",
       "  </tbody>\n",
       "</table>\n",
       "</div>"
      ],
      "text/plain": [
       "   Sector  Industry  Location  Revenue  Profits  Employees\n",
       "0      16        26        23   482130    14694    2300000\n",
       "1       4        50       174   246204    16150      75600\n",
       "2      17        11        92   233715    53394     110000\n",
       "3       6        39       279   210821    24083     331000\n",
       "4       9        72       327   181241     1476      70400"
      ]
     },
     "execution_count": 30,
     "metadata": {},
     "output_type": "execute_result"
    }
   ],
   "source": [
    "df.head()"
   ]
  },
  {
   "cell_type": "code",
   "execution_count": 31,
   "id": "85432d68-05fe-41de-852e-6e4f1c82c6ce",
   "metadata": {},
   "outputs": [],
   "source": [
    "# split the data into x and y\n",
    "x = df.drop('Profits', axis=1)\n",
    "y = df['Profits']"
   ]
  },
  {
   "cell_type": "code",
   "execution_count": 34,
   "id": "fb295034-fcca-4aef-9708-3e68c865a96b",
   "metadata": {},
   "outputs": [
    {
     "name": "stdout",
     "output_type": "stream",
     "text": [
      "last_mae = 0, mae = 1410.4435612245827\n",
      "last_mae = 0, mae = 1443.4148214849354\n",
      "last_mae = 0, mae = 1444.8216464327206\n",
      "last_mae = 0, mae = 1039.4352051670244\n",
      "last_mae = 0, mae = 1081.5705733681684\n",
      "['Sector', 'Industry', 'Location', 'Revenue', 'Employees']\n"
     ]
    }
   ],
   "source": [
    "stepwise_regression(x, y)"
   ]
  },
  {
   "cell_type": "code",
   "execution_count": null,
   "id": "d06c363a-4f07-4e3c-97a3-ba3a261bd455",
   "metadata": {},
   "outputs": [],
   "source": []
  }
 ],
 "metadata": {
  "kernelspec": {
   "display_name": "Python 3 (ipykernel)",
   "language": "python",
   "name": "python3"
  },
  "language_info": {
   "codemirror_mode": {
    "name": "ipython",
    "version": 3
   },
   "file_extension": ".py",
   "mimetype": "text/x-python",
   "name": "python",
   "nbconvert_exporter": "python",
   "pygments_lexer": "ipython3",
   "version": "3.11.9"
  }
 },
 "nbformat": 4,
 "nbformat_minor": 5
}
