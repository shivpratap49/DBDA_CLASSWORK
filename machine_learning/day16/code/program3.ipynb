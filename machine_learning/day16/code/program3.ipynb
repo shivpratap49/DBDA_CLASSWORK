{
 "cells": [
  {
   "cell_type": "markdown",
   "id": "fc796a90-6184-4bbf-b4fc-2c7c27b9ba41",
   "metadata": {},
   "source": [
    "# NLP"
   ]
  },
  {
   "cell_type": "markdown",
   "id": "43fe6902-43f8-41a5-8163-ce2965bc12b9",
   "metadata": {},
   "source": [
    "### pre-requisites"
   ]
  },
  {
   "cell_type": "code",
   "execution_count": 1,
   "id": "4e84fbec-f9ae-4f3b-a429-d92d5cc9690d",
   "metadata": {},
   "outputs": [
    {
     "name": "stderr",
     "output_type": "stream",
     "text": [
      "[nltk_data] Downloading package treebank to /Users/amitk/nltk_data...\n",
      "[nltk_data]   Package treebank is already up-to-date!\n"
     ]
    },
    {
     "name": "stdout",
     "output_type": "stream",
     "text": [
      "Requirement already satisfied: svgling in /opt/homebrew/lib/python3.11/site-packages (0.5.0)\n",
      "Requirement already satisfied: svgwrite in /opt/homebrew/lib/python3.11/site-packages (from svgling) (1.4.3)\n",
      "\n",
      "\u001b[1m[\u001b[0m\u001b[34;49mnotice\u001b[0m\u001b[1;39;49m]\u001b[0m\u001b[39;49m A new release of pip is available: \u001b[0m\u001b[31;49m24.0\u001b[0m\u001b[39;49m -> \u001b[0m\u001b[32;49m24.2\u001b[0m\n",
      "\u001b[1m[\u001b[0m\u001b[34;49mnotice\u001b[0m\u001b[1;39;49m]\u001b[0m\u001b[39;49m To update, run: \u001b[0m\u001b[32;49mpython3.11 -m pip install --upgrade pip\u001b[0m\n",
      "Note: you may need to restart the kernel to use updated packages.\n"
     ]
    }
   ],
   "source": [
    "import nltk\n",
    "nltk.download('treebank')\n",
    "%pip install svgling"
   ]
  },
  {
   "cell_type": "markdown",
   "id": "bd72eada-1b60-4d85-8c59-439937087f1f",
   "metadata": {},
   "source": [
    "### import required packages"
   ]
  },
  {
   "cell_type": "code",
   "execution_count": 2,
   "id": "404a276d-b6c6-498f-9e46-95f9d6f3cf8b",
   "metadata": {},
   "outputs": [],
   "source": [
    "import numpy as np\n",
    "import pandas as pd\n",
    "import matplotlib.pyplot as plt\n",
    "import seaborn as sns\n",
    "import nltk"
   ]
  },
  {
   "cell_type": "markdown",
   "id": "a305958c-2797-4503-88f5-321ac5421456",
   "metadata": {},
   "source": [
    "### load the data"
   ]
  },
  {
   "cell_type": "code",
   "execution_count": 3,
   "id": "bf674340-91ca-43f6-b0b4-55a972cf01cb",
   "metadata": {},
   "outputs": [],
   "source": [
    "reviews = [\n",
    "    \"Sunbeam restaurant is good. when I reached here, the staff greeted me with smile.\",\n",
    "    \"the service here is not so good\",\n",
    "    \"the staff is of helping nature\",\n",
    "    \"this restaurant is worst\",\n",
    "    \"very very bad\",\n",
    "    \"these restaurants are recommended\"\n",
    "]"
   ]
  },
  {
   "cell_type": "markdown",
   "id": "0d737f77-2173-4451-a449-6565905217d4",
   "metadata": {},
   "source": [
    "### pre-processing"
   ]
  },
  {
   "cell_type": "markdown",
   "id": "a9034b6a-043c-4491-b278-381843b05930",
   "metadata": {},
   "source": [
    "#### sentence tokenization"
   ]
  },
  {
   "cell_type": "code",
   "execution_count": 4,
   "id": "37f8206c-fd7a-479a-99a7-4550f2f7b6cc",
   "metadata": {},
   "outputs": [
    {
     "data": {
      "text/plain": [
       "['Sunbeam restaurant is good.',\n",
       " 'when I reached here, the staff greeted me with smile.',\n",
       " 'the service here is not so good',\n",
       " 'the staff is of helping nature',\n",
       " 'this restaurant is worst',\n",
       " 'very very bad',\n",
       " 'these restaurants are recommended']"
      ]
     },
     "execution_count": 4,
     "metadata": {},
     "output_type": "execute_result"
    }
   ],
   "source": [
    "from nltk import sent_tokenize\n",
    "\n",
    "sentences = []\n",
    "for review in reviews:\n",
    "    sentences.extend(sent_tokenize(review))\n",
    "sentences"
   ]
  },
  {
   "cell_type": "markdown",
   "id": "7060ad58-26e3-4bf9-88ac-d797db594bf8",
   "metadata": {},
   "source": [
    "#### word tokenization"
   ]
  },
  {
   "cell_type": "markdown",
   "id": "399499bb-9fca-4043-8da0-95e641b75b9b",
   "metadata": {},
   "source": [
    "#### removing stop words"
   ]
  },
  {
   "cell_type": "code",
   "execution_count": 5,
   "id": "71503085-7cc6-44c6-b5c3-a289aaabf501",
   "metadata": {},
   "outputs": [
    {
     "data": {
      "text/plain": [
       "179"
      ]
     },
     "execution_count": 5,
     "metadata": {},
     "output_type": "execute_result"
    }
   ],
   "source": [
    "from nltk.corpus import stopwords\n",
    "\n",
    "# get the pre-defined stopwords from english language\n",
    "stop_words_english = stopwords.words('english')\n",
    "len(stop_words_english)"
   ]
  },
  {
   "cell_type": "code",
   "execution_count": 17,
   "id": "e617dc35-6014-47ee-babb-850b6f927554",
   "metadata": {},
   "outputs": [
    {
     "data": {
      "text/plain": [
       "14"
      ]
     },
     "execution_count": 17,
     "metadata": {},
     "output_type": "execute_result"
    }
   ],
   "source": [
    "from nltk import WordNetLemmatizer\n",
    "from nltk.tokenize import word_tokenize\n",
    "\n",
    "# remove the stop words\n",
    "vocabulary = []\n",
    "\n",
    "# remove the special symbols\n",
    "words_to_remove = [',', '.', '//', '?', '!', '@', '#', '$', '%', '^', '*', \"'\", '\"']\n",
    "words_to_remove.extend(stop_words_english)\n",
    "\n",
    "for sentence in sentences:\n",
    "    words = word_tokenize(sentence.lower())\n",
    "    words = [word.strip() for word in words if word.strip() not in words_to_remove]\n",
    "    vocabulary.extend(set(words))\n",
    "\n",
    "# find the unique words\n",
    "vocabulary = list(set(vocabulary))\n",
    "len(vocabulary)"
   ]
  },
  {
   "cell_type": "markdown",
   "id": "4c1a757a-f038-45dc-a181-e1b47f195d00",
   "metadata": {},
   "source": [
    "### Text Representation"
   ]
  },
  {
   "cell_type": "markdown",
   "id": "5aebcc42-376c-4b2c-9fc4-0bac26fa9784",
   "metadata": {},
   "source": [
    "#### Bag Of Words (BoW)"
   ]
  },
  {
   "cell_type": "code",
   "execution_count": 13,
   "id": "9d232956-cd0b-4b5a-a1d5-7662c7f111e9",
   "metadata": {},
   "outputs": [],
   "source": [
    "from sklearn.feature_extraction.text import CountVectorizer\n",
    "\n",
    "# create an object of CountVector\n",
    "vectorizer = CountVectorizer(stop_words=words_to_remove)\n",
    "\n",
    "# convert the data (corpus) to numeric representation\n",
    "formatted_reviews = vectorizer.fit_transform(reviews)"
   ]
  },
  {
   "cell_type": "code",
   "execution_count": 14,
   "id": "cef099d2-1037-43a8-9ad4-985ba60f4ff2",
   "metadata": {},
   "outputs": [
    {
     "data": {
      "text/plain": [
       "array([[0, 1, 1, 0, 0, 1, 0, 1, 0, 0, 1, 1, 1, 0],\n",
       "       [0, 1, 0, 0, 0, 0, 0, 0, 0, 1, 0, 0, 0, 0],\n",
       "       [0, 0, 0, 1, 1, 0, 0, 0, 0, 0, 0, 1, 0, 0],\n",
       "       [0, 0, 0, 0, 0, 0, 0, 1, 0, 0, 0, 0, 0, 1],\n",
       "       [1, 0, 0, 0, 0, 0, 0, 0, 0, 0, 0, 0, 0, 0],\n",
       "       [0, 0, 0, 0, 0, 0, 1, 0, 1, 0, 0, 0, 0, 0]])"
      ]
     },
     "execution_count": 14,
     "metadata": {},
     "output_type": "execute_result"
    }
   ],
   "source": [
    "formatted_reviews.toarray()"
   ]
  },
  {
   "cell_type": "code",
   "execution_count": 15,
   "id": "6548955c-271a-43bc-b666-fa6c8131db34",
   "metadata": {},
   "outputs": [
    {
     "data": {
      "text/plain": [
       "array(['bad', 'good', 'greeted', 'helping', 'nature', 'reached',\n",
       "       'recommended', 'restaurant', 'restaurants', 'service', 'smile',\n",
       "       'staff', 'sunbeam', 'worst'], dtype=object)"
      ]
     },
     "execution_count": 15,
     "metadata": {},
     "output_type": "execute_result"
    }
   ],
   "source": [
    "vectorizer.get_feature_names_out()"
   ]
  },
  {
   "cell_type": "code",
   "execution_count": 16,
   "id": "1c05db26-ac35-4065-bae8-e0273f0eb21f",
   "metadata": {},
   "outputs": [
    {
     "data": {
      "text/plain": [
       "14"
      ]
     },
     "execution_count": 16,
     "metadata": {},
     "output_type": "execute_result"
    }
   ],
   "source": [
    "len(vectorizer.get_feature_names_out())"
   ]
  },
  {
   "cell_type": "code",
   "execution_count": 19,
   "id": "07c51893-8664-4b65-91c6-b5003a7a7682",
   "metadata": {},
   "outputs": [
    {
     "data": {
      "text/plain": [
       "array([[0, 1, 0, 0, 0, 1, 1, 1, 0, 0, 0, 1, 1, 1],\n",
       "       [0, 1, 0, 0, 0, 0, 0, 0, 0, 1, 0, 0, 0, 0],\n",
       "       [0, 0, 0, 0, 1, 0, 0, 0, 1, 0, 0, 0, 1, 0],\n",
       "       [1, 0, 0, 0, 0, 0, 0, 1, 0, 0, 0, 0, 0, 0],\n",
       "       [0, 0, 1, 0, 0, 0, 0, 0, 0, 0, 0, 0, 0, 0],\n",
       "       [0, 0, 0, 1, 0, 0, 0, 0, 0, 0, 1, 0, 0, 0]])"
      ]
     },
     "execution_count": 19,
     "metadata": {},
     "output_type": "execute_result"
    }
   ],
   "source": [
    "from sklearn.feature_extraction.text import CountVectorizer\n",
    "\n",
    "# create an object of CountVector\n",
    "vectorizer = CountVectorizer(vocabulary=vocabulary)\n",
    "\n",
    "# convert the data (corpus) to numeric representation\n",
    "formatted_reviews = vectorizer.fit_transform(reviews)\n",
    "formatted_reviews.toarray()"
   ]
  },
  {
   "cell_type": "code",
   "execution_count": 21,
   "id": "eadbbe79-a24c-44b6-9e10-1bc299caf046",
   "metadata": {},
   "outputs": [
    {
     "data": {
      "text/plain": [
       "14"
      ]
     },
     "execution_count": 21,
     "metadata": {},
     "output_type": "execute_result"
    }
   ],
   "source": [
    "len(vectorizer.get_feature_names_out())"
   ]
  },
  {
   "cell_type": "code",
   "execution_count": null,
   "id": "da2e5cb6-d463-48c8-997a-2de55e832c81",
   "metadata": {},
   "outputs": [],
   "source": []
  }
 ],
 "metadata": {
  "kernelspec": {
   "display_name": "Python 3 (ipykernel)",
   "language": "python",
   "name": "python3"
  },
  "language_info": {
   "codemirror_mode": {
    "name": "ipython",
    "version": 3
   },
   "file_extension": ".py",
   "mimetype": "text/x-python",
   "name": "python",
   "nbconvert_exporter": "python",
   "pygments_lexer": "ipython3",
   "version": "3.11.9"
  }
 },
 "nbformat": 4,
 "nbformat_minor": 5
}
