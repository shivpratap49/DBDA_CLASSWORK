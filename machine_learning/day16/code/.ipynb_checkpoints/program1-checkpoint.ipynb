{
 "cells": [
  {
   "cell_type": "markdown",
   "id": "fc796a90-6184-4bbf-b4fc-2c7c27b9ba41",
   "metadata": {},
   "source": [
    "# NLP"
   ]
  },
  {
   "cell_type": "markdown",
   "id": "bd72eada-1b60-4d85-8c59-439937087f1f",
   "metadata": {},
   "source": [
    "### import required packages"
   ]
  },
  {
   "cell_type": "code",
   "execution_count": 2,
   "id": "404a276d-b6c6-498f-9e46-95f9d6f3cf8b",
   "metadata": {},
   "outputs": [],
   "source": [
    "import numpy as np\n",
    "import pandas as pd\n",
    "import matplotlib.pyplot as plt\n",
    "import seaborn as sns\n",
    "import nltk"
   ]
  },
  {
   "cell_type": "markdown",
   "id": "a305958c-2797-4503-88f5-321ac5421456",
   "metadata": {},
   "source": [
    "### load the data"
   ]
  },
  {
   "cell_type": "code",
   "execution_count": 34,
   "id": "bf674340-91ca-43f6-b0b4-55a972cf01cb",
   "metadata": {},
   "outputs": [],
   "source": [
    "reviews = [\n",
    "    \"this is a good restaurant. when I reached here, the staff greeted me with smile.\",\n",
    "    \"the service here is not so good\",\n",
    "    \"the staff is of helping nature\",\n",
    "    \"this restaurant is worst\",\n",
    "    \"very very bad\",\n",
    "    \"these restaurants are recommended\"\n",
    "]"
   ]
  },
  {
   "cell_type": "markdown",
   "id": "0d737f77-2173-4451-a449-6565905217d4",
   "metadata": {},
   "source": [
    "### pre-processing"
   ]
  },
  {
   "cell_type": "markdown",
   "id": "a9034b6a-043c-4491-b278-381843b05930",
   "metadata": {},
   "source": [
    "#### sentence tokenization"
   ]
  },
  {
   "cell_type": "code",
   "execution_count": 35,
   "id": "37f8206c-fd7a-479a-99a7-4550f2f7b6cc",
   "metadata": {},
   "outputs": [
    {
     "data": {
      "text/plain": [
       "['this is a good restaurant.',\n",
       " 'when I reached here, the staff greeted me with smile.',\n",
       " 'the service here is not so good',\n",
       " 'the staff is of helping nature',\n",
       " 'this restaurant is worst',\n",
       " 'very very bad',\n",
       " 'these restaurants are recommended']"
      ]
     },
     "execution_count": 35,
     "metadata": {},
     "output_type": "execute_result"
    }
   ],
   "source": [
    "from nltk import sent_tokenize\n",
    "\n",
    "sentences = []\n",
    "for review in reviews:\n",
    "    sentences.extend(sent_tokenize(review))\n",
    "sentences"
   ]
  },
  {
   "cell_type": "markdown",
   "id": "7060ad58-26e3-4bf9-88ac-d797db594bf8",
   "metadata": {},
   "source": [
    "#### word tokenization"
   ]
  },
  {
   "cell_type": "code",
   "execution_count": 8,
   "id": "03839dd0-cf06-4f4e-83c6-3c3b7408f7dc",
   "metadata": {},
   "outputs": [
    {
     "data": {
      "text/plain": [
       "38"
      ]
     },
     "execution_count": 8,
     "metadata": {},
     "output_type": "execute_result"
    }
   ],
   "source": [
    "from nltk.tokenize import word_tokenize\n",
    "\n",
    "all_words = []\n",
    "for sentence in sentences:\n",
    "    words = word_tokenize(sentence)\n",
    "    all_words.extend([word.lower() for word in words])\n",
    "len(all_words)"
   ]
  },
  {
   "cell_type": "code",
   "execution_count": 10,
   "id": "daf56cb5-7996-4ef3-a78c-50e39458ca06",
   "metadata": {},
   "outputs": [
    {
     "name": "stdout",
     "output_type": "stream",
     "text": [
      "{'this': 2, 'is': 4, 'a': 1, 'good': 2, 'restaurant': 2, '.': 2, 'when': 1, 'i': 1, 'reached': 1, 'here': 2, ',': 1, 'the': 3, 'staff': 2, 'greeted': 1, 'me': 1, 'with': 1, 'smile': 1, 'service': 1, 'not': 1, 'so': 1, 'of': 1, 'helping': 1, 'nature': 1, 'worst': 1, 'very': 2, 'bad': 1}\n"
     ]
    }
   ],
   "source": [
    "def get_counts(words):\n",
    "    count_dictionary = {}\n",
    "    for word in words:\n",
    "        if count_dictionary.get(word) is None:\n",
    "            count_dictionary[word] = 1\n",
    "        else:\n",
    "            count_dictionary[word] += 1\n",
    "    print(count_dictionary)\n",
    "\n",
    "get_counts(all_words)"
   ]
  },
  {
   "cell_type": "markdown",
   "id": "399499bb-9fca-4043-8da0-95e641b75b9b",
   "metadata": {},
   "source": [
    "#### removing stop words"
   ]
  },
  {
   "cell_type": "code",
   "execution_count": 12,
   "id": "ec47fed7-1466-4c02-b199-5a258c27917a",
   "metadata": {},
   "outputs": [
    {
     "data": {
      "text/plain": [
       "179"
      ]
     },
     "execution_count": 12,
     "metadata": {},
     "output_type": "execute_result"
    }
   ],
   "source": [
    "from nltk.corpus import stopwords\n",
    "\n",
    "# get the pre-defined stopwords from english language\n",
    "stop_words_english = stopwords.words('english')\n",
    "len(stop_words_english)"
   ]
  },
  {
   "cell_type": "code",
   "execution_count": 15,
   "id": "5288f8b0-ac0e-4d83-bbec-1018ae1f672f",
   "metadata": {},
   "outputs": [
    {
     "data": {
      "text/plain": [
       "754"
      ]
     },
     "execution_count": 15,
     "metadata": {},
     "output_type": "execute_result"
    }
   ],
   "source": [
    "# get the pre-defined stopwords from  arabic\n",
    "stop_words_arabic = stopwords.words('arabic')\n",
    "len(stop_words_arabic)"
   ]
  },
  {
   "cell_type": "code",
   "execution_count": 19,
   "id": "25375fde-da93-42fc-9b8d-6d777ca46bcb",
   "metadata": {},
   "outputs": [
    {
     "data": {
      "text/plain": [
       "232"
      ]
     },
     "execution_count": 19,
     "metadata": {},
     "output_type": "execute_result"
    }
   ],
   "source": [
    "# get the pre-defined stopwords from germany\n",
    "stop_words_germany = stopwords.words('german')\n",
    "len(stop_words_germany)"
   ]
  },
  {
   "cell_type": "code",
   "execution_count": 42,
   "id": "227338ee-6c55-40e0-907c-8d0799d4da43",
   "metadata": {},
   "outputs": [
    {
     "data": {
      "text/plain": [
       "['recommended',\n",
       " 'restaurant',\n",
       " 'restaurants',\n",
       " 'worst',\n",
       " 'nature',\n",
       " 'service',\n",
       " 'smile',\n",
       " 'bad',\n",
       " 'good',\n",
       " 'greeted',\n",
       " 'helping',\n",
       " 'staff',\n",
       " 'reached']"
      ]
     },
     "execution_count": 42,
     "metadata": {},
     "output_type": "execute_result"
    }
   ],
   "source": [
    "from nltk.tokenize import word_tokenize\n",
    "\n",
    "# remove the stop words\n",
    "all_words = []\n",
    "\n",
    "# remove the special symbols\n",
    "words_to_remove = [',', '.', '//', '?', '!', '@', '#', '$', '%', '^', '*', \"'\", '\"']\n",
    "words_to_remove.extend(stop_words_english)\n",
    "\n",
    "for sentence in sentences:\n",
    "    words = word_tokenize(sentence.lower())\n",
    "    all_words.extend([word.strip() for word in words if word.strip() not in words_to_remove])\n",
    "    \n",
    "all_words = list(set(all_words))\n",
    "all_words"
   ]
  },
  {
   "cell_type": "markdown",
   "id": "54cdaa17-008f-4c6d-ada4-eee18578b9d1",
   "metadata": {},
   "source": [
    "#### lemmatization"
   ]
  },
  {
   "cell_type": "code",
   "execution_count": 43,
   "id": "e617dc35-6014-47ee-babb-850b6f927554",
   "metadata": {},
   "outputs": [
    {
     "data": {
      "text/plain": [
       "12"
      ]
     },
     "execution_count": 43,
     "metadata": {},
     "output_type": "execute_result"
    }
   ],
   "source": [
    "from nltk import WordNetLemmatizer\n",
    "from nltk.tokenize import word_tokenize\n",
    "\n",
    "# create a lemmatizer\n",
    "lemmatizer = WordNetLemmatizer()\n",
    "\n",
    "# remove the stop words\n",
    "all_words = []\n",
    "\n",
    "# remove the special symbols\n",
    "words_to_remove = [',', '.', '//', '?', '!', '@', '#', '$', '%', '^', '*', \"'\", '\"']\n",
    "words_to_remove.extend(stop_words_english)\n",
    "\n",
    "for sentence in sentences:\n",
    "    words = word_tokenize(sentence.lower())\n",
    "    words = [lemmatizer.lemmatize(word.strip()) for word in words if word.strip() not in words_to_remove]\n",
    "    all_words.extend(set(words))\n",
    "\n",
    "# find the unique words\n",
    "all_words = list(set(all_words))\n",
    "len(all_words)"
   ]
  },
  {
   "cell_type": "code",
   "execution_count": null,
   "id": "ce8f4983-9ce6-4fe4-a7b9-9de0be3f68ac",
   "metadata": {},
   "outputs": [],
   "source": []
  }
 ],
 "metadata": {
  "kernelspec": {
   "display_name": "Python 3 (ipykernel)",
   "language": "python",
   "name": "python3"
  },
  "language_info": {
   "codemirror_mode": {
    "name": "ipython",
    "version": 3
   },
   "file_extension": ".py",
   "mimetype": "text/x-python",
   "name": "python",
   "nbconvert_exporter": "python",
   "pygments_lexer": "ipython3",
   "version": "3.11.9"
  }
 },
 "nbformat": 4,
 "nbformat_minor": 5
}
