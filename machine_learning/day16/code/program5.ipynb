{
 "cells": [
  {
   "cell_type": "markdown",
   "id": "9c74d5a2-6be1-44cd-9b75-18c36bcdf13f",
   "metadata": {},
   "source": [
    "# NLP"
   ]
  },
  {
   "cell_type": "markdown",
   "id": "c18c6501-6982-4df5-849d-f17b0954c57a",
   "metadata": {},
   "source": [
    "### import required packages"
   ]
  },
  {
   "cell_type": "code",
   "execution_count": 1,
   "id": "8f795e43-33e4-4da7-85b6-d1d125a3528c",
   "metadata": {},
   "outputs": [],
   "source": [
    "import numpy as np\n",
    "import pandas as pd\n",
    "import matplotlib.pyplot as plt\n",
    "import seaborn as sns\n",
    "import nltk"
   ]
  },
  {
   "cell_type": "markdown",
   "id": "c34105b6-cd06-4c9d-a55e-fd15dcbea892",
   "metadata": {},
   "source": [
    "### load the data"
   ]
  },
  {
   "cell_type": "code",
   "execution_count": 3,
   "id": "1ca81c4d-3704-4760-8f10-cbb13a990156",
   "metadata": {},
   "outputs": [],
   "source": [
    "document = \"I love India\""
   ]
  },
  {
   "cell_type": "markdown",
   "id": "c59ea066-086a-4eea-8ab2-b1881bd28c54",
   "metadata": {},
   "source": [
    "### pre-processing"
   ]
  },
  {
   "cell_type": "code",
   "execution_count": 5,
   "id": "b3617416-2770-43da-9211-5741290fd73f",
   "metadata": {},
   "outputs": [
    {
     "data": {
      "text/plain": [
       "['i', 'love', 'india']"
      ]
     },
     "execution_count": 5,
     "metadata": {},
     "output_type": "execute_result"
    }
   ],
   "source": [
    "from nltk.tokenize import word_tokenize\n",
    "\n",
    "# split the document into words\n",
    "vocabulary = word_tokenize(document.lower())\n",
    "vocabulary"
   ]
  },
  {
   "cell_type": "code",
   "execution_count": 15,
   "id": "5de280f7-f336-41e3-b204-3a0a0e77de7e",
   "metadata": {},
   "outputs": [],
   "source": [
    "from sklearn.preprocessing import OneHotEncoder\n",
    "\n",
    "# create object\n",
    "encoder = OneHotEncoder()\n",
    "\n",
    "# convert the vocabulary to 2d array\n",
    "# vocabulary_reshaped = np.array(vocabulary).reshape(len(vocabulary), 1)\n",
    "vocabulary_reshaped = np.array(vocabulary).reshape(-1, 1)\n",
    "\n",
    "# encode the data\n",
    "encoded_data = encoder.fit_transform(vocabulary_reshaped).toarray()"
   ]
  },
  {
   "cell_type": "code",
   "execution_count": 16,
   "id": "067e4d66-72d6-413d-ab87-90d9b0be2b90",
   "metadata": {},
   "outputs": [
    {
     "data": {
      "text/plain": [
       "array([[1., 0., 0.],\n",
       "       [0., 0., 1.],\n",
       "       [0., 1., 0.]])"
      ]
     },
     "execution_count": 16,
     "metadata": {},
     "output_type": "execute_result"
    }
   ],
   "source": [
    "encoded_data"
   ]
  },
  {
   "cell_type": "code",
   "execution_count": 17,
   "id": "2622460e-fe2a-48d5-9760-dd0c81242549",
   "metadata": {},
   "outputs": [
    {
     "data": {
      "text/plain": [
       "[array(['i', 'india', 'love'], dtype='<U5')]"
      ]
     },
     "execution_count": 17,
     "metadata": {},
     "output_type": "execute_result"
    }
   ],
   "source": [
    "encoder.categories_"
   ]
  },
  {
   "cell_type": "code",
   "execution_count": null,
   "id": "d1a531f8-8bb5-40f9-aded-9e7f6420c70e",
   "metadata": {},
   "outputs": [],
   "source": []
  }
 ],
 "metadata": {
  "kernelspec": {
   "display_name": "Python 3 (ipykernel)",
   "language": "python",
   "name": "python3"
  },
  "language_info": {
   "codemirror_mode": {
    "name": "ipython",
    "version": 3
   },
   "file_extension": ".py",
   "mimetype": "text/x-python",
   "name": "python",
   "nbconvert_exporter": "python",
   "pygments_lexer": "ipython3",
   "version": "3.11.9"
  }
 },
 "nbformat": 4,
 "nbformat_minor": 5
}
