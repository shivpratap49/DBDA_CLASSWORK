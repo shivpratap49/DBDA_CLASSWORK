{
 "cells": [
  {
   "cell_type": "markdown",
   "id": "bb936d90-7061-4d93-a0fe-f52ca3dbc381",
   "metadata": {},
   "source": [
    "# NLP"
   ]
  },
  {
   "cell_type": "markdown",
   "id": "9055d9c8-ef25-47d8-8341-1d321c035b18",
   "metadata": {},
   "source": [
    "## N-Gram"
   ]
  },
  {
   "cell_type": "markdown",
   "id": "56168c7a-d00e-475b-9295-e037f2462057",
   "metadata": {},
   "source": [
    "### import required packages"
   ]
  },
  {
   "cell_type": "code",
   "execution_count": 1,
   "id": "97808d20-6f05-4a7b-80e9-d2f8bae75192",
   "metadata": {},
   "outputs": [],
   "source": [
    "import numpy as np\n",
    "import pandas as pd\n",
    "import matplotlib.pyplot as plt\n",
    "import seaborn as sns\n",
    "import nltk"
   ]
  },
  {
   "cell_type": "markdown",
   "id": "73ec1794-3baf-4b67-b512-61bc79eb117b",
   "metadata": {},
   "source": [
    "### load the data"
   ]
  },
  {
   "cell_type": "code",
   "execution_count": 3,
   "id": "fe475763-1983-423d-9826-b5c8d8b72789",
   "metadata": {},
   "outputs": [],
   "source": [
    "corpus = \"The Bharatiya Janata Party (BJP) on Sunday named Union home minister Amit Shah and Madhya Pradesh chief minister Mohan Yadav as central observers for the Haryana BJP legislature party meeting, which will elect the next Haryana Chief Minister, the party said in a post on X.\""
   ]
  },
  {
   "cell_type": "markdown",
   "id": "04f43285-f9bb-4bdb-be70-c873c1f9b1a8",
   "metadata": {},
   "source": [
    "### pre-processing"
   ]
  },
  {
   "cell_type": "markdown",
   "id": "14b25f6e-63e1-4270-b2cb-e866df89f740",
   "metadata": {},
   "source": [
    "#### create vocabulary"
   ]
  },
  {
   "cell_type": "code",
   "execution_count": 13,
   "id": "96bfe8aa-8c17-4d2e-8093-699c6383cd5b",
   "metadata": {},
   "outputs": [],
   "source": [
    "from nltk.tokenize import word_tokenize\n",
    "from nltk.corpus import stopwords\n",
    "\n",
    "words_to_remove = [',', '.', '//', '?', '!', '@', '#', '$', '%', '^', '*', \"'\", '\"', '(', ')']\n",
    "words_to_remove.extend(stopwords.words('english'))\n",
    "\n",
    "vocabulary = [word.strip() for word in word_tokenize(corpus.lower()) if word.strip() not in words_to_remove]"
   ]
  },
  {
   "cell_type": "markdown",
   "id": "09d48235-3f10-4fcf-91bc-a02fdd6afa2c",
   "metadata": {},
   "source": [
    "#### unigram"
   ]
  },
  {
   "cell_type": "code",
   "execution_count": 16,
   "id": "c7cbf58a-0952-40e8-a520-2c382a410942",
   "metadata": {},
   "outputs": [
    {
     "data": {
      "text/plain": [
       "[('bharatiya',),\n",
       " ('janata',),\n",
       " ('party',),\n",
       " ('bjp',),\n",
       " ('sunday',),\n",
       " ('named',),\n",
       " ('union',),\n",
       " ('home',),\n",
       " ('minister',),\n",
       " ('amit',),\n",
       " ('shah',),\n",
       " ('madhya',),\n",
       " ('pradesh',),\n",
       " ('chief',),\n",
       " ('minister',),\n",
       " ('mohan',),\n",
       " ('yadav',),\n",
       " ('central',),\n",
       " ('observers',),\n",
       " ('haryana',),\n",
       " ('bjp',),\n",
       " ('legislature',),\n",
       " ('party',),\n",
       " ('meeting',),\n",
       " ('elect',),\n",
       " ('next',),\n",
       " ('haryana',),\n",
       " ('chief',),\n",
       " ('minister',),\n",
       " ('party',),\n",
       " ('said',),\n",
       " ('post',),\n",
       " ('x',)]"
      ]
     },
     "execution_count": 16,
     "metadata": {},
     "output_type": "execute_result"
    }
   ],
   "source": [
    "from nltk.util import ngrams\n",
    "list(ngrams(vocabulary, 1))"
   ]
  },
  {
   "cell_type": "markdown",
   "id": "b42acd7d-6f72-45ff-8d29-5199f8483671",
   "metadata": {},
   "source": [
    "#### bigram"
   ]
  },
  {
   "cell_type": "code",
   "execution_count": 17,
   "id": "821e6714-83d9-4455-ac1b-78df47e19db5",
   "metadata": {},
   "outputs": [
    {
     "data": {
      "text/plain": [
       "[('bharatiya', 'janata'),\n",
       " ('janata', 'party'),\n",
       " ('party', 'bjp'),\n",
       " ('bjp', 'sunday'),\n",
       " ('sunday', 'named'),\n",
       " ('named', 'union'),\n",
       " ('union', 'home'),\n",
       " ('home', 'minister'),\n",
       " ('minister', 'amit'),\n",
       " ('amit', 'shah'),\n",
       " ('shah', 'madhya'),\n",
       " ('madhya', 'pradesh'),\n",
       " ('pradesh', 'chief'),\n",
       " ('chief', 'minister'),\n",
       " ('minister', 'mohan'),\n",
       " ('mohan', 'yadav'),\n",
       " ('yadav', 'central'),\n",
       " ('central', 'observers'),\n",
       " ('observers', 'haryana'),\n",
       " ('haryana', 'bjp'),\n",
       " ('bjp', 'legislature'),\n",
       " ('legislature', 'party'),\n",
       " ('party', 'meeting'),\n",
       " ('meeting', 'elect'),\n",
       " ('elect', 'next'),\n",
       " ('next', 'haryana'),\n",
       " ('haryana', 'chief'),\n",
       " ('chief', 'minister'),\n",
       " ('minister', 'party'),\n",
       " ('party', 'said'),\n",
       " ('said', 'post'),\n",
       " ('post', 'x')]"
      ]
     },
     "execution_count": 17,
     "metadata": {},
     "output_type": "execute_result"
    }
   ],
   "source": [
    "from nltk.util import ngrams\n",
    "list(ngrams(vocabulary, 2))"
   ]
  },
  {
   "cell_type": "markdown",
   "id": "526ba817-1890-409e-8fa2-446c457f829f",
   "metadata": {},
   "source": [
    "#### trigram"
   ]
  },
  {
   "cell_type": "code",
   "execution_count": 18,
   "id": "3b2afa25-66ec-469e-aecd-d8687d50eb4a",
   "metadata": {},
   "outputs": [
    {
     "data": {
      "text/plain": [
       "[('bharatiya', 'janata', 'party'),\n",
       " ('janata', 'party', 'bjp'),\n",
       " ('party', 'bjp', 'sunday'),\n",
       " ('bjp', 'sunday', 'named'),\n",
       " ('sunday', 'named', 'union'),\n",
       " ('named', 'union', 'home'),\n",
       " ('union', 'home', 'minister'),\n",
       " ('home', 'minister', 'amit'),\n",
       " ('minister', 'amit', 'shah'),\n",
       " ('amit', 'shah', 'madhya'),\n",
       " ('shah', 'madhya', 'pradesh'),\n",
       " ('madhya', 'pradesh', 'chief'),\n",
       " ('pradesh', 'chief', 'minister'),\n",
       " ('chief', 'minister', 'mohan'),\n",
       " ('minister', 'mohan', 'yadav'),\n",
       " ('mohan', 'yadav', 'central'),\n",
       " ('yadav', 'central', 'observers'),\n",
       " ('central', 'observers', 'haryana'),\n",
       " ('observers', 'haryana', 'bjp'),\n",
       " ('haryana', 'bjp', 'legislature'),\n",
       " ('bjp', 'legislature', 'party'),\n",
       " ('legislature', 'party', 'meeting'),\n",
       " ('party', 'meeting', 'elect'),\n",
       " ('meeting', 'elect', 'next'),\n",
       " ('elect', 'next', 'haryana'),\n",
       " ('next', 'haryana', 'chief'),\n",
       " ('haryana', 'chief', 'minister'),\n",
       " ('chief', 'minister', 'party'),\n",
       " ('minister', 'party', 'said'),\n",
       " ('party', 'said', 'post'),\n",
       " ('said', 'post', 'x')]"
      ]
     },
     "execution_count": 18,
     "metadata": {},
     "output_type": "execute_result"
    }
   ],
   "source": [
    "from nltk.util import ngrams\n",
    "list(ngrams(vocabulary, 3))"
   ]
  },
  {
   "cell_type": "code",
   "execution_count": null,
   "id": "f7192cc9-6c38-4648-bf2c-9f049ea756c4",
   "metadata": {},
   "outputs": [],
   "source": []
  }
 ],
 "metadata": {
  "kernelspec": {
   "display_name": "Python 3 (ipykernel)",
   "language": "python",
   "name": "python3"
  },
  "language_info": {
   "codemirror_mode": {
    "name": "ipython",
    "version": 3
   },
   "file_extension": ".py",
   "mimetype": "text/x-python",
   "name": "python",
   "nbconvert_exporter": "python",
   "pygments_lexer": "ipython3",
   "version": "3.11.9"
  }
 },
 "nbformat": 4,
 "nbformat_minor": 5
}
