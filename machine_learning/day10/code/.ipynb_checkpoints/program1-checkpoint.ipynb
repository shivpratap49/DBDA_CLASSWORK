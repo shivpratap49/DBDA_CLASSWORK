{
 "cells": [
  {
   "cell_type": "markdown",
   "id": "b2612da4-0016-4516-9d0d-c16c32e09fa6",
   "metadata": {},
   "source": [
    "# Classification"
   ]
  },
  {
   "cell_type": "markdown",
   "id": "1f8bcf08-dddd-48ba-8eec-47d60d2ae2b5",
   "metadata": {},
   "source": [
    "### problem definition\n",
    "- predict if a patient will suffer with hearing test"
   ]
  },
  {
   "cell_type": "markdown",
   "id": "b46c1baf-6798-4a05-b495-dcfd8e5204d2",
   "metadata": {},
   "source": [
    "### pre-requisites"
   ]
  },
  {
   "cell_type": "code",
   "execution_count": 16,
   "id": "95a6267a-d0da-4eb3-99b0-6d80fc3f24b7",
   "metadata": {},
   "outputs": [
    {
     "name": "stdout",
     "output_type": "stream",
     "text": [
      "Requirement already satisfied: catboost in /opt/homebrew/lib/python3.11/site-packages (1.2.2)\n",
      "Requirement already satisfied: graphviz in /opt/homebrew/lib/python3.11/site-packages (from catboost) (0.20.1)\n",
      "Requirement already satisfied: matplotlib in /opt/homebrew/lib/python3.11/site-packages (from catboost) (3.8.0)\n",
      "Requirement already satisfied: numpy>=1.16.0 in /opt/homebrew/lib/python3.11/site-packages (from catboost) (1.24.3)\n",
      "Requirement already satisfied: pandas>=0.24 in /opt/homebrew/lib/python3.11/site-packages (from catboost) (2.2.2)\n",
      "Requirement already satisfied: scipy in /opt/homebrew/lib/python3.11/site-packages (from catboost) (1.11.3)\n",
      "Requirement already satisfied: plotly in /opt/homebrew/lib/python3.11/site-packages (from catboost) (5.17.0)\n",
      "Requirement already satisfied: six in /opt/homebrew/lib/python3.11/site-packages (from catboost) (1.16.0)\n",
      "Requirement already satisfied: python-dateutil>=2.8.2 in /opt/homebrew/lib/python3.11/site-packages (from pandas>=0.24->catboost) (2.8.2)\n",
      "Requirement already satisfied: pytz>=2020.1 in /opt/homebrew/lib/python3.11/site-packages (from pandas>=0.24->catboost) (2023.3)\n",
      "Requirement already satisfied: tzdata>=2022.7 in /opt/homebrew/lib/python3.11/site-packages (from pandas>=0.24->catboost) (2023.3)\n",
      "Requirement already satisfied: contourpy>=1.0.1 in /opt/homebrew/lib/python3.11/site-packages (from matplotlib->catboost) (1.1.1)\n",
      "Requirement already satisfied: cycler>=0.10 in /opt/homebrew/lib/python3.11/site-packages (from matplotlib->catboost) (0.11.0)\n",
      "Requirement already satisfied: fonttools>=4.22.0 in /opt/homebrew/lib/python3.11/site-packages (from matplotlib->catboost) (4.42.1)\n",
      "Requirement already satisfied: kiwisolver>=1.0.1 in /opt/homebrew/lib/python3.11/site-packages (from matplotlib->catboost) (1.4.5)\n",
      "Requirement already satisfied: packaging>=20.0 in /opt/homebrew/lib/python3.11/site-packages (from matplotlib->catboost) (23.1)\n",
      "Requirement already satisfied: pillow>=6.2.0 in /opt/homebrew/lib/python3.11/site-packages (from matplotlib->catboost) (10.0.1)\n",
      "Requirement already satisfied: pyparsing>=2.3.1 in /opt/homebrew/lib/python3.11/site-packages (from matplotlib->catboost) (3.1.1)\n",
      "Requirement already satisfied: tenacity>=6.2.0 in /opt/homebrew/lib/python3.11/site-packages (from plotly->catboost) (8.2.3)\n",
      "\n",
      "\u001b[1m[\u001b[0m\u001b[34;49mnotice\u001b[0m\u001b[1;39;49m]\u001b[0m\u001b[39;49m A new release of pip is available: \u001b[0m\u001b[31;49m24.0\u001b[0m\u001b[39;49m -> \u001b[0m\u001b[32;49m24.2\u001b[0m\n",
      "\u001b[1m[\u001b[0m\u001b[34;49mnotice\u001b[0m\u001b[1;39;49m]\u001b[0m\u001b[39;49m To update, run: \u001b[0m\u001b[32;49mpython3.11 -m pip install --upgrade pip\u001b[0m\n",
      "Note: you may need to restart the kernel to use updated packages.\n",
      "Requirement already satisfied: xgboost in /opt/homebrew/lib/python3.11/site-packages (2.0.0)\n",
      "Requirement already satisfied: numpy in /opt/homebrew/lib/python3.11/site-packages (from xgboost) (1.24.3)\n",
      "Requirement already satisfied: scipy in /opt/homebrew/lib/python3.11/site-packages (from xgboost) (1.11.3)\n",
      "\n",
      "\u001b[1m[\u001b[0m\u001b[34;49mnotice\u001b[0m\u001b[1;39;49m]\u001b[0m\u001b[39;49m A new release of pip is available: \u001b[0m\u001b[31;49m24.0\u001b[0m\u001b[39;49m -> \u001b[0m\u001b[32;49m24.2\u001b[0m\n",
      "\u001b[1m[\u001b[0m\u001b[34;49mnotice\u001b[0m\u001b[1;39;49m]\u001b[0m\u001b[39;49m To update, run: \u001b[0m\u001b[32;49mpython3.11 -m pip install --upgrade pip\u001b[0m\n",
      "Note: you may need to restart the kernel to use updated packages.\n"
     ]
    }
   ],
   "source": [
    "import warnings\n",
    "warnings.filterwarnings(action=\"ignore\")\n",
    "\n",
    "# install catboost\n",
    "%pip install catboost\n",
    "\n",
    "# install xgboost\n",
    "%pip install xgboost"
   ]
  },
  {
   "cell_type": "markdown",
   "id": "e189ff9a-50e5-4ff0-99b2-5f43b361733a",
   "metadata": {},
   "source": [
    "### import required packages"
   ]
  },
  {
   "cell_type": "code",
   "execution_count": 3,
   "id": "3de45dc7-b79a-4577-8083-9c9358e6eafc",
   "metadata": {},
   "outputs": [],
   "source": [
    "import numpy as np\n",
    "import pandas as pd\n",
    "import matplotlib.pyplot as plt\n",
    "import seaborn as sns"
   ]
  },
  {
   "cell_type": "markdown",
   "id": "0d30f82b-245d-492a-a616-a8c84b142429",
   "metadata": {},
   "source": [
    "### load the data"
   ]
  },
  {
   "cell_type": "code",
   "execution_count": 4,
   "id": "fb9a8f5e-a929-4c15-8283-4bd9f18ffcb8",
   "metadata": {},
   "outputs": [
    {
     "data": {
      "text/html": [
       "<div>\n",
       "<style scoped>\n",
       "    .dataframe tbody tr th:only-of-type {\n",
       "        vertical-align: middle;\n",
       "    }\n",
       "\n",
       "    .dataframe tbody tr th {\n",
       "        vertical-align: top;\n",
       "    }\n",
       "\n",
       "    .dataframe thead th {\n",
       "        text-align: right;\n",
       "    }\n",
       "</style>\n",
       "<table border=\"1\" class=\"dataframe\">\n",
       "  <thead>\n",
       "    <tr style=\"text-align: right;\">\n",
       "      <th></th>\n",
       "      <th>age</th>\n",
       "      <th>physical_score</th>\n",
       "      <th>test_result</th>\n",
       "    </tr>\n",
       "  </thead>\n",
       "  <tbody>\n",
       "    <tr>\n",
       "      <th>0</th>\n",
       "      <td>33.0</td>\n",
       "      <td>40.7</td>\n",
       "      <td>1</td>\n",
       "    </tr>\n",
       "    <tr>\n",
       "      <th>1</th>\n",
       "      <td>50.0</td>\n",
       "      <td>37.2</td>\n",
       "      <td>1</td>\n",
       "    </tr>\n",
       "    <tr>\n",
       "      <th>2</th>\n",
       "      <td>52.0</td>\n",
       "      <td>24.7</td>\n",
       "      <td>0</td>\n",
       "    </tr>\n",
       "    <tr>\n",
       "      <th>3</th>\n",
       "      <td>56.0</td>\n",
       "      <td>31.0</td>\n",
       "      <td>0</td>\n",
       "    </tr>\n",
       "    <tr>\n",
       "      <th>4</th>\n",
       "      <td>35.0</td>\n",
       "      <td>42.9</td>\n",
       "      <td>1</td>\n",
       "    </tr>\n",
       "  </tbody>\n",
       "</table>\n",
       "</div>"
      ],
      "text/plain": [
       "    age  physical_score  test_result\n",
       "0  33.0            40.7            1\n",
       "1  50.0            37.2            1\n",
       "2  52.0            24.7            0\n",
       "3  56.0            31.0            0\n",
       "4  35.0            42.9            1"
      ]
     },
     "execution_count": 4,
     "metadata": {},
     "output_type": "execute_result"
    }
   ],
   "source": [
    "df = pd.read_csv('hearing_test.csv')\n",
    "df.head()"
   ]
  },
  {
   "cell_type": "markdown",
   "id": "d380cd0b-9285-4a9d-adca-e0c433144247",
   "metadata": {},
   "source": [
    "### EDA"
   ]
  },
  {
   "cell_type": "code",
   "execution_count": 5,
   "id": "f95df560-c8f1-4f4b-8272-a8fae78dd982",
   "metadata": {},
   "outputs": [
    {
     "name": "stdout",
     "output_type": "stream",
     "text": [
      "<class 'pandas.core.frame.DataFrame'>\n",
      "RangeIndex: 5000 entries, 0 to 4999\n",
      "Data columns (total 3 columns):\n",
      " #   Column          Non-Null Count  Dtype  \n",
      "---  ------          --------------  -----  \n",
      " 0   age             5000 non-null   float64\n",
      " 1   physical_score  5000 non-null   float64\n",
      " 2   test_result     5000 non-null   int64  \n",
      "dtypes: float64(2), int64(1)\n",
      "memory usage: 117.3 KB\n"
     ]
    }
   ],
   "source": [
    "df.info()"
   ]
  },
  {
   "cell_type": "code",
   "execution_count": 6,
   "id": "2e7eb393-4b53-44a2-bec7-5ba1284c74b1",
   "metadata": {},
   "outputs": [
    {
     "data": {
      "text/plain": [
       "age               0\n",
       "physical_score    0\n",
       "test_result       0\n",
       "dtype: int64"
      ]
     },
     "execution_count": 6,
     "metadata": {},
     "output_type": "execute_result"
    }
   ],
   "source": [
    "df.isna().sum()"
   ]
  },
  {
   "cell_type": "code",
   "execution_count": 7,
   "id": "bbcba7c7-cac4-407c-bb99-fff75b6115ea",
   "metadata": {},
   "outputs": [
    {
     "data": {
      "text/plain": [
       "test_result\n",
       "1    3000\n",
       "0    2000\n",
       "Name: count, dtype: int64"
      ]
     },
     "execution_count": 7,
     "metadata": {},
     "output_type": "execute_result"
    }
   ],
   "source": [
    "df['test_result'].value_counts()"
   ]
  },
  {
   "cell_type": "markdown",
   "id": "48bf58c6-6c8b-43d1-913c-c4cd7be71b8c",
   "metadata": {},
   "source": [
    "### pre-processing"
   ]
  },
  {
   "cell_type": "code",
   "execution_count": 8,
   "id": "483af4ce-5dee-479f-bc95-737f31ac9cd1",
   "metadata": {},
   "outputs": [],
   "source": [
    "# split data into x and y\n",
    "x = df.drop('test_result', axis=1)\n",
    "y = df['test_result']"
   ]
  },
  {
   "cell_type": "code",
   "execution_count": 9,
   "id": "658798e1-b3a8-44b8-bd19-6752de63538a",
   "metadata": {},
   "outputs": [],
   "source": [
    "# split the data into train and test\n",
    "from sklearn.model_selection import train_test_split\n",
    "\n",
    "x_train, x_test, y_train, y_test = train_test_split(x, y, train_size=0.7, random_state=123456)"
   ]
  },
  {
   "cell_type": "markdown",
   "id": "88a4966c-2530-4ba8-b19f-789c5b664237",
   "metadata": {},
   "source": [
    "### train the models"
   ]
  },
  {
   "cell_type": "markdown",
   "id": "f7dbb349-cc29-40bf-85d8-69388b86748e",
   "metadata": {},
   "source": [
    "#### Logistic Regression"
   ]
  },
  {
   "cell_type": "code",
   "execution_count": 10,
   "id": "06b9c44f-26c7-48eb-93c2-068994795c44",
   "metadata": {},
   "outputs": [],
   "source": [
    "from sklearn.linear_model import LogisticRegression\n",
    "\n",
    "def create_model_logistic_regression():\n",
    "    model = LogisticRegression(max_iter=1000)\n",
    "    model.fit(x_train, y_train)\n",
    "    return model"
   ]
  },
  {
   "cell_type": "markdown",
   "id": "8b91c510-101b-4ae1-9661-04c1efb03f83",
   "metadata": {},
   "source": [
    "#### Naive Bayes"
   ]
  },
  {
   "cell_type": "code",
   "execution_count": 12,
   "id": "de128cb3-1b13-4f24-b5d0-95a4afee030a",
   "metadata": {},
   "outputs": [],
   "source": [
    "from sklearn.naive_bayes import GaussianNB\n",
    "\n",
    "def create_model_nb():\n",
    "    model = GaussianNB()\n",
    "    model.fit(x_train, y_train)\n",
    "    return model"
   ]
  },
  {
   "cell_type": "markdown",
   "id": "e610236d-586e-4565-876f-323451346598",
   "metadata": {},
   "source": [
    "#### KNN"
   ]
  },
  {
   "cell_type": "code",
   "execution_count": 11,
   "id": "b5567b80-37d4-4946-8600-e88d429e04bb",
   "metadata": {},
   "outputs": [],
   "source": [
    "from sklearn.neighbors import KNeighborsClassifier\n",
    "\n",
    "def create_model_knn():\n",
    "    model = KNeighborsClassifier(n_neighbors=5)\n",
    "    model.fit(x_train, y_train)\n",
    "    return model"
   ]
  },
  {
   "cell_type": "markdown",
   "id": "6d4e47b6-b216-4301-9f0d-c23e0a0974dd",
   "metadata": {},
   "source": [
    "#### SVM"
   ]
  },
  {
   "cell_type": "code",
   "execution_count": 13,
   "id": "58f52911-b064-4de7-ba0c-cfa1f118365a",
   "metadata": {},
   "outputs": [],
   "source": [
    "from sklearn.svm import SVC\n",
    "\n",
    "def create_model_svm():\n",
    "    model = SVC()\n",
    "    model.fit(x_train, y_train)\n",
    "    return model"
   ]
  },
  {
   "cell_type": "markdown",
   "id": "38d3df32-938e-4de9-a671-9fe8d8b73527",
   "metadata": {},
   "source": [
    "#### Decision Tree"
   ]
  },
  {
   "cell_type": "code",
   "execution_count": 43,
   "id": "e0f342b7-974a-4407-8a62-bce4390b1463",
   "metadata": {},
   "outputs": [],
   "source": [
    "from sklearn.tree import DecisionTreeClassifier\n",
    "\n",
    "def create_model_decision_tree():\n",
    "    model = DecisionTreeClassifier(max_depth=50)\n",
    "    model.fit(x_train, y_train)\n",
    "    return model    "
   ]
  },
  {
   "cell_type": "markdown",
   "id": "34583bc9-0c06-470c-bff7-5020f2f1cfc3",
   "metadata": {},
   "source": [
    "#### Random Forest"
   ]
  },
  {
   "cell_type": "code",
   "execution_count": 44,
   "id": "1904f37e-ad36-4013-85a3-cfbeb97b3229",
   "metadata": {},
   "outputs": [],
   "source": [
    "from sklearn.ensemble import RandomForestClassifier\n",
    "\n",
    "def create_model_random_forest():\n",
    "    model = RandomForestClassifier(n_estimators=100)\n",
    "    model.fit(x_train, y_train)\n",
    "    return model"
   ]
  },
  {
   "cell_type": "markdown",
   "id": "1cc54552-9f33-413b-b33b-d43c886b1148",
   "metadata": {},
   "source": [
    "#### CAT Boost"
   ]
  },
  {
   "cell_type": "code",
   "execution_count": 45,
   "id": "13ed3b20-6a01-41a0-b645-6f24aab8a320",
   "metadata": {},
   "outputs": [],
   "source": [
    "from catboost import CatBoostClassifier\n",
    "\n",
    "def create_model_catboost():\n",
    "    model = CatBoostClassifier(logging_level='Silent')\n",
    "    model.fit(x_train, y_train)\n",
    "    return model"
   ]
  },
  {
   "cell_type": "markdown",
   "id": "e5c7d98a-7d4b-4035-a332-08d1a96bfd99",
   "metadata": {},
   "source": [
    "#### AdaBoost"
   ]
  },
  {
   "cell_type": "code",
   "execution_count": 46,
   "id": "0afbcbeb-7f78-4cac-8f27-4e2d2faffcf2",
   "metadata": {},
   "outputs": [],
   "source": [
    "from sklearn.ensemble import AdaBoostClassifier\n",
    "\n",
    "def create_model_ada_boost():\n",
    "    model = AdaBoostClassifier()\n",
    "    model.fit(x_train, y_train)\n",
    "    return model"
   ]
  },
  {
   "cell_type": "markdown",
   "id": "50c9aaa9-75e6-401d-a18e-5572caf22529",
   "metadata": {},
   "source": [
    "#### GradientBoost"
   ]
  },
  {
   "cell_type": "code",
   "execution_count": 47,
   "id": "afd65697-a13c-41fa-8859-7fa880785450",
   "metadata": {},
   "outputs": [],
   "source": [
    "from sklearn.ensemble import GradientBoostingClassifier\n",
    "\n",
    "def create_model_grandient_boost():\n",
    "    model = GradientBoostingClassifier()\n",
    "    model.fit(x_train, y_train)\n",
    "    return model"
   ]
  },
  {
   "cell_type": "markdown",
   "id": "14fc7494-a775-41cc-9211-fe5b85852296",
   "metadata": {},
   "source": [
    "#### XGBoost"
   ]
  },
  {
   "cell_type": "code",
   "execution_count": 48,
   "id": "6ab11c91-3896-4054-919a-5f19495e80b9",
   "metadata": {},
   "outputs": [],
   "source": [
    "from xgboost import XGBClassifier\n",
    "\n",
    "def create_model_xgboost():\n",
    "    model = XGBClassifier()\n",
    "    model.fit(x_train, y_train)\n",
    "    return model"
   ]
  },
  {
   "cell_type": "markdown",
   "id": "7d2fe70d-af30-42cd-a4b3-cf0288453276",
   "metadata": {},
   "source": [
    "### model evaluation"
   ]
  },
  {
   "cell_type": "code",
   "execution_count": 49,
   "id": "3cd6944b-49f5-4c51-ad72-8a01629b6165",
   "metadata": {},
   "outputs": [],
   "source": [
    "from sklearn.metrics import accuracy_score, precision_score, recall_score, f1_score, roc_auc_score\n",
    "\n",
    "def evaluate_model(model):\n",
    "    # training accuracry\n",
    "    y_pred = model.predict(x_train)\n",
    "    y_true = y_train\n",
    "\n",
    "    # calculate training accuracy\n",
    "    training_accuracy = accuracy_score(y_true, y_pred)\n",
    "\n",
    "    # testing accuracy\n",
    "    y_pred = model.predict(x_test)\n",
    "    y_true = y_test\n",
    "\n",
    "    # get the performance metrics for testing\n",
    "    testing_accuracy = accuracy_score(y_true, y_pred)\n",
    "    testing_precision = precision_score(y_true, y_pred)\n",
    "    testing_recall = recall_score(y_true, y_pred)\n",
    "    testing_f1 = f1_score(y_true, y_pred)\n",
    "    testing_roc = roc_auc_score(y_true, y_pred)\n",
    "\n",
    "    return training_accuracy, testing_accuracy, testing_precision, testing_recall, testing_f1, testing_roc"
   ]
  },
  {
   "cell_type": "markdown",
   "id": "82318e6d-f1c9-496f-ae83-fe823f09fc3f",
   "metadata": {},
   "source": [
    "### generate performance chart"
   ]
  },
  {
   "cell_type": "code",
   "execution_count": 50,
   "id": "433bbf50-5599-4390-a46d-8a3cea776493",
   "metadata": {},
   "outputs": [],
   "source": [
    "models = [\n",
    "    (\"Logistic Regression\", create_model_logistic_regression(), (0, 0)),\n",
    "    (\"Naive Bayes\", create_model_nb(), (0, 1)),\n",
    "    (\"KNN\", create_model_knn(), (1, 0)),\n",
    "    (\"SVM\", create_model_svm(), (1, 1)),\n",
    "    (\"Decision Tree\", create_model_decision_tree(), (2, 0)),\n",
    "    (\"Random Forest\", create_model_random_forest(), (2, 1)),\n",
    "    (\"CAT Boost\", create_model_catboost(), (3, 0)),\n",
    "    (\"Ada Boost\", create_model_ada_boost(), (3, 1)),\n",
    "    (\"Grandient Boost\", create_model_grandient_boost(), (4, 0)),\n",
    "    (\"XGBoost\", create_model_xgboost(), (4, 1))\n",
    "]"
   ]
  },
  {
   "cell_type": "code",
   "execution_count": 51,
   "id": "3321bf25-2779-4ac5-a95e-e9a4a43d50bf",
   "metadata": {},
   "outputs": [
    {
     "data": {
      "text/html": [
       "<div>\n",
       "<style scoped>\n",
       "    .dataframe tbody tr th:only-of-type {\n",
       "        vertical-align: middle;\n",
       "    }\n",
       "\n",
       "    .dataframe tbody tr th {\n",
       "        vertical-align: top;\n",
       "    }\n",
       "\n",
       "    .dataframe thead th {\n",
       "        text-align: right;\n",
       "    }\n",
       "</style>\n",
       "<table border=\"1\" class=\"dataframe\">\n",
       "  <thead>\n",
       "    <tr style=\"text-align: right;\">\n",
       "      <th></th>\n",
       "      <th>Model</th>\n",
       "      <th>Train Accuracy</th>\n",
       "      <th>Test Accuracy</th>\n",
       "      <th>Precision</th>\n",
       "      <th>Recall</th>\n",
       "      <th>F1</th>\n",
       "      <th>ROC</th>\n",
       "    </tr>\n",
       "  </thead>\n",
       "  <tbody>\n",
       "    <tr>\n",
       "      <th>0</th>\n",
       "      <td>Logistic Regression</td>\n",
       "      <td>91.74%</td>\n",
       "      <td>91.27%</td>\n",
       "      <td>0.910901</td>\n",
       "      <td>0.949727</td>\n",
       "      <td>0.929909</td>\n",
       "      <td>0.902214</td>\n",
       "    </tr>\n",
       "    <tr>\n",
       "      <th>1</th>\n",
       "      <td>Naive Bayes</td>\n",
       "      <td>91.17%</td>\n",
       "      <td>91.53%</td>\n",
       "      <td>0.925486</td>\n",
       "      <td>0.936612</td>\n",
       "      <td>0.931016</td>\n",
       "      <td>0.909332</td>\n",
       "    </tr>\n",
       "    <tr>\n",
       "      <th>2</th>\n",
       "      <td>KNN</td>\n",
       "      <td>94.00%</td>\n",
       "      <td>92.27%</td>\n",
       "      <td>0.920969</td>\n",
       "      <td>0.955191</td>\n",
       "      <td>0.937768</td>\n",
       "      <td>0.913493</td>\n",
       "    </tr>\n",
       "    <tr>\n",
       "      <th>3</th>\n",
       "      <td>SVM</td>\n",
       "      <td>92.80%</td>\n",
       "      <td>92.40%</td>\n",
       "      <td>0.913313</td>\n",
       "      <td>0.967213</td>\n",
       "      <td>0.939490</td>\n",
       "      <td>0.911812</td>\n",
       "    </tr>\n",
       "    <tr>\n",
       "      <th>4</th>\n",
       "      <td>Decision Tree</td>\n",
       "      <td>97.46%</td>\n",
       "      <td>87.67%</td>\n",
       "      <td>0.911964</td>\n",
       "      <td>0.883060</td>\n",
       "      <td>0.897279</td>\n",
       "      <td>0.874863</td>\n",
       "    </tr>\n",
       "    <tr>\n",
       "      <th>5</th>\n",
       "      <td>Random Forest</td>\n",
       "      <td>97.43%</td>\n",
       "      <td>89.93%</td>\n",
       "      <td>0.914317</td>\n",
       "      <td>0.921311</td>\n",
       "      <td>0.917801</td>\n",
       "      <td>0.893134</td>\n",
       "    </tr>\n",
       "    <tr>\n",
       "      <th>6</th>\n",
       "      <td>CAT Boost</td>\n",
       "      <td>94.49%</td>\n",
       "      <td>92.87%</td>\n",
       "      <td>0.919958</td>\n",
       "      <td>0.967213</td>\n",
       "      <td>0.942994</td>\n",
       "      <td>0.917795</td>\n",
       "    </tr>\n",
       "    <tr>\n",
       "      <th>7</th>\n",
       "      <td>Ada Boost</td>\n",
       "      <td>92.06%</td>\n",
       "      <td>91.53%</td>\n",
       "      <td>0.911273</td>\n",
       "      <td>0.954098</td>\n",
       "      <td>0.932194</td>\n",
       "      <td>0.904400</td>\n",
       "    </tr>\n",
       "    <tr>\n",
       "      <th>8</th>\n",
       "      <td>Grandient Boost</td>\n",
       "      <td>93.83%</td>\n",
       "      <td>92.67%</td>\n",
       "      <td>0.917098</td>\n",
       "      <td>0.967213</td>\n",
       "      <td>0.941489</td>\n",
       "      <td>0.915230</td>\n",
       "    </tr>\n",
       "    <tr>\n",
       "      <th>9</th>\n",
       "      <td>XGBoost</td>\n",
       "      <td>95.06%</td>\n",
       "      <td>91.87%</td>\n",
       "      <td>0.916055</td>\n",
       "      <td>0.954098</td>\n",
       "      <td>0.934690</td>\n",
       "      <td>0.908673</td>\n",
       "    </tr>\n",
       "  </tbody>\n",
       "</table>\n",
       "</div>"
      ],
      "text/plain": [
       "                 Model Train Accuracy Test Accuracy  Precision    Recall  \\\n",
       "0  Logistic Regression         91.74%        91.27%   0.910901  0.949727   \n",
       "1          Naive Bayes         91.17%        91.53%   0.925486  0.936612   \n",
       "2                  KNN         94.00%        92.27%   0.920969  0.955191   \n",
       "3                  SVM         92.80%        92.40%   0.913313  0.967213   \n",
       "4        Decision Tree         97.46%        87.67%   0.911964  0.883060   \n",
       "5        Random Forest         97.43%        89.93%   0.914317  0.921311   \n",
       "6            CAT Boost         94.49%        92.87%   0.919958  0.967213   \n",
       "7            Ada Boost         92.06%        91.53%   0.911273  0.954098   \n",
       "8      Grandient Boost         93.83%        92.67%   0.917098  0.967213   \n",
       "9              XGBoost         95.06%        91.87%   0.916055  0.954098   \n",
       "\n",
       "         F1       ROC  \n",
       "0  0.929909  0.902214  \n",
       "1  0.931016  0.909332  \n",
       "2  0.937768  0.913493  \n",
       "3  0.939490  0.911812  \n",
       "4  0.897279  0.874863  \n",
       "5  0.917801  0.893134  \n",
       "6  0.942994  0.917795  \n",
       "7  0.932194  0.904400  \n",
       "8  0.941489  0.915230  \n",
       "9  0.934690  0.908673  "
      ]
     },
     "execution_count": 51,
     "metadata": {},
     "output_type": "execute_result"
    }
   ],
   "source": [
    "performance_data = []\n",
    "for model_name, model, position in models:\n",
    "    train_accuracy, test_accuracy, precision, recall, f1, roc = evaluate_model(model)\n",
    "    performance_data.append([\n",
    "        model_name, f\"{train_accuracy * 100:0.2f}%\", f\"{test_accuracy * 100:0.2f}%\", precision, recall, f1, roc\n",
    "    ])\n",
    "    \n",
    "performance_chart = pd.DataFrame(performance_data, \n",
    "            columns=[\"Model\", \"Train Accuracy\", \"Test Accuracy\", \"Precision\", \"Recall\", \"F1\", \"ROC\"])\n",
    "performance_chart"
   ]
  },
  {
   "cell_type": "markdown",
   "id": "00c84870-7db1-45a6-8eff-04885d5e69c1",
   "metadata": {},
   "source": [
    "### result visualization"
   ]
  },
  {
   "cell_type": "code",
   "execution_count": 65,
   "id": "a14941f1-e38a-4ea5-9704-eb26df4119a2",
   "metadata": {},
   "outputs": [
    {
     "data": {
      "image/png": "[encoded data removed]",
      "text/plain": [
       "<Figure size 500x1000 with 10 Axes>"
      ]
     },
     "metadata": {},
     "output_type": "display_data"
    }
   ],
   "source": [
    "fig, axs = plt.subplots(5, 2, figsize=(5, 10))\n",
    "\n",
    "for model_name, model, position in models:\n",
    "    y_pred = model.predict(x_test)\n",
    "    \n",
    "    axs[position[0], position[1]].scatter(\n",
    "        x_test['age'][y_pred==0], x_test['physical_score'][y_pred==0], \n",
    "        color=\"green\", label=\"Wont Suffer\"\n",
    "    )\n",
    "    axs[position[0], position[1]].scatter(\n",
    "        x_test['age'][y_pred==1], x_test['physical_score'][y_pred==1], \n",
    "        color=\"red\", label=\"Will Suffer\"\n",
    "    )\n",
    "    \n",
    "    axs[position[0], position[1]].set(xlabel=\"Age\", ylabel=\"Physical Score\")\n",
    "    axs[position[0], position[1]].set_title(model_name)"
   ]
  },
  {
   "cell_type": "code",
   "execution_count": null,
   "id": "3e4543be-9c36-4622-9a90-21bb726088e8",
   "metadata": {},
   "outputs": [],
   "source": []
  }
 ],
 "metadata": {
  "kernelspec": {
   "display_name": "Python 3 (ipykernel)",
   "language": "python",
   "name": "python3"
  },
  "language_info": {
   "codemirror_mode": {
    "name": "ipython",
    "version": 3
   },
   "file_extension": ".py",
   "mimetype": "text/x-python",
   "name": "python",
   "nbconvert_exporter": "python",
   "pygments_lexer": "ipython3",
   "version": "3.11.9"
  }
 },
 "nbformat": 4,
 "nbformat_minor": 5
}
